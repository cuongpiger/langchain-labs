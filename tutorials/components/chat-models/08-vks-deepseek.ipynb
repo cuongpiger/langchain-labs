{
 "cells": [
  {
   "metadata": {
    "ExecuteTime": {
     "end_time": "2025-03-11T10:59:01.561697Z",
     "start_time": "2025-03-11T10:59:01.553307Z"
    }
   },
   "cell_type": "code",
   "source": [
    "%load_ext autoreload\n",
    "%autoreload 2"
   ],
   "id": "751a1b7227b8ecfa",
   "outputs": [],
   "execution_count": 1
  },
  {
   "metadata": {},
   "cell_type": "markdown",
   "source": "# DeepSeek on VKS documents",
   "id": "61019d22f6722e41"
  },
  {
   "metadata": {},
   "cell_type": "markdown",
   "source": "## Using PostgreSQL to retrieval VKS documents\n",
   "id": "5d98521d125c81d"
  },
  {
   "metadata": {},
   "cell_type": "markdown",
   "source": "Define global variables",
   "id": "47ee0aaab9705965"
  },
  {
   "metadata": {
    "ExecuteTime": {
     "end_time": "2025-03-11T10:59:01.862012Z",
     "start_time": "2025-03-11T10:59:01.568369Z"
    }
   },
   "cell_type": "code",
   "source": [
    "import os\n",
    "\n",
    "from langchain_community.llms import VLLMOpenAI\n",
    "from langchain_core.messages import HumanMessage, SystemMessage\n",
    "\n",
    "from modules import utils\n",
    "\n",
    "from IPython.display import display, Markdown, Latex"
   ],
   "id": "435499e17b8d7875",
   "outputs": [],
   "execution_count": 2
  },
  {
   "metadata": {
    "ExecuteTime": {
     "end_time": "2025-03-11T10:59:01.929101Z",
     "start_time": "2025-03-11T10:59:01.922747Z"
    }
   },
   "cell_type": "code",
   "source": [
    "ENV_FILE_PATH = \"/Users/cuongdm8499/Me/git-cuongpiger/secret/work/vngcloud/ai-platform/env\"\n",
    "MODEL_NAME = \"deepseek-ai/DeepSeek-R1-Distill-Llama-70B\"\n",
    "MAX_TOKENS = 32700\n",
    "COLLECTION_NAME = \"my_docs\""
   ],
   "id": "7b4b30a73f4c279c",
   "outputs": [],
   "execution_count": 3
  },
  {
   "metadata": {},
   "cell_type": "markdown",
   "source": "Load environment variables",
   "id": "16eef771282068a8"
  },
  {
   "metadata": {
    "ExecuteTime": {
     "end_time": "2025-03-11T10:59:01.939672Z",
     "start_time": "2025-03-11T10:59:01.933049Z"
    }
   },
   "cell_type": "code",
   "source": "envs = utils.load_env_to_dict(ENV_FILE_PATH)",
   "id": "70b6a3827eee6b7a",
   "outputs": [],
   "execution_count": 4
  },
  {
   "metadata": {},
   "cell_type": "markdown",
   "source": "## Prepare PostgreSQL vectorstore",
   "id": "a13a02df813164ee"
  },
  {
   "metadata": {
    "ExecuteTime": {
     "end_time": "2025-03-11T10:59:02.348732Z",
     "start_time": "2025-03-11T10:59:01.957537Z"
    }
   },
   "cell_type": "code",
   "source": [
    "from langchain_postgres.vectorstores import PGVector\n",
    "from langchain_huggingface.embeddings import HuggingFaceEmbeddings\n"
   ],
   "id": "bc7e0f88c8d96ed9",
   "outputs": [],
   "execution_count": 5
  },
  {
   "metadata": {
    "ExecuteTime": {
     "end_time": "2025-03-11T10:59:10.330653Z",
     "start_time": "2025-03-11T10:59:02.353060Z"
    }
   },
   "cell_type": "code",
   "source": [
    "embeddings = HuggingFaceEmbeddings(\n",
    "    model_name=\"sentence-transformers/paraphrase-multilingual-mpnet-base-v2\",\n",
    ")"
   ],
   "id": "df958aa2db0e546a",
   "outputs": [
    {
     "name": "stderr",
     "output_type": "stream",
     "text": [
      "/opt/anaconda3/envs/llm-evaluation/lib/python3.10/site-packages/tqdm/auto.py:21: TqdmWarning: IProgress not found. Please update jupyter and ipywidgets. See https://ipywidgets.readthedocs.io/en/stable/user_install.html\n",
      "  from .autonotebook import tqdm as notebook_tqdm\n"
     ]
    }
   ],
   "execution_count": 6
  },
  {
   "metadata": {
    "ExecuteTime": {
     "end_time": "2025-03-11T10:59:11.115798Z",
     "start_time": "2025-03-11T10:59:10.338215Z"
    }
   },
   "cell_type": "code",
   "source": [
    "vector_store = PGVector(\n",
    "    embeddings=embeddings,\n",
    "    collection_name=COLLECTION_NAME,\n",
    "    connection=envs[\"POSTGRESQL_URI_2\"],\n",
    "    use_jsonb=True,\n",
    ")"
   ],
   "id": "a96773fdf0a02023",
   "outputs": [],
   "execution_count": 7
  },
  {
   "metadata": {},
   "cell_type": "markdown",
   "source": "## Retrieval",
   "id": "ba4946437525705d"
  },
  {
   "metadata": {
    "ExecuteTime": {
     "end_time": "2025-03-11T10:59:11.159476Z",
     "start_time": "2025-03-11T10:59:11.131362Z"
    }
   },
   "cell_type": "code",
   "source": "retriever = vector_store.as_retriever(search_kwargs={\"k\": 2})",
   "id": "efe2fc58ba295b87",
   "outputs": [],
   "execution_count": 8
  },
  {
   "metadata": {
    "ExecuteTime": {
     "end_time": "2025-03-11T10:59:11.555034Z",
     "start_time": "2025-03-11T10:59:11.164490Z"
    }
   },
   "cell_type": "code",
   "source": [
    "res = vector_store.similarity_search(\"VKS là gì?\")\n",
    "utils.print_documents(res)"
   ],
   "id": "6aec4e948a2c498a",
   "outputs": [
    {
     "name": "stdout",
     "output_type": "stream",
     "text": [
      "Amount of documents: 4\n",
      "Document 0:\n",
      "VKS là gì?\n",
      "\n",
      "VKS (VNGCloud Kubernetes Service) là một dịch vụ được quản lý trên VNGCloud giúp bạn đơn giản hóa quá trình triển khai và quản lý các ứng dụng dựa trên container. Kubernetes là một nền tảng mã nguồn mở được phát triển bởi Google, được sử dụng rộng rãi để quản lý và triển khai các ứng dụng container trên môi trường phân tán.\n",
      "\n",
      "Những điểm nổi bật của VKS\n",
      "\n",
      "Quản lý Control Plane hoàn toàn tự động (Fully Managed control plane): VKS sẽ giải phóng bạn khỏi gánh nặng quản lý Control Plane của Kubernetes, giúp bạn tập trung vào việc phát triển ứng dụng.\n",
      "\n",
      "Hỗ trợ các phiên bản Kubernetes mới nhất: VKS luôn cập nhật những phiên bản Kubernetes mới nhất (minor version từ 1.27, 1.28, 1.29) để đảm bảo bạn luôn tận dụng được những tính năng tiên tiến nhất.\n",
      "\n",
      "Kubernetes Networking: VKS tích hợp Calico CNI, mang lại tính hiệu quả và bảo mật cao.\n",
      "\n",
      "Upgrade seamlessly: VKS hỗ trợ nâng cấp giữa các phiên bản Kubernetes một cách dễ dàng và nhanh chóng, giúp bạn luôn cập nhật những cải tiến mới nhất.\n",
      "\n",
      "Scaling & Healing Automatically: VKS tự động mở rộng Node group khi cần thiết và tự động sửa lỗi khi node gặp vấn đề, giúp bạn tiết kiệm thời gian và công sức quản lý.\n",
      "\n",
      "Giảm chi phí và nâng cao độ tin cậy: VKS triển khai Control Plane của Kubernetes ở chế độ sẵn sàng cao và hoàn toàn miễn phí, giúp bạn tiết kiệm chi phí và nâng cao độ tin cậy cho hệ thống.\n",
      "\n",
      "Tích hợp Blockstore Native (Container Storage Interface - CSI): VKS cho phép bạn quản lý Blockstore thông qua YAML của Kubernetes, cung cấp lưu trữ bền vững cho container và hỗ trợ các tính năng quan trọng như thay đổi kích thước, thay đổi IOPS và snapshot volume.\n",
      "\n",
      "Tích hợp Load Balancer (Network Load Balancer, Application Load Balancer) thông qua các driver được tích hợp sẵn như VNGCloud Controller Mananger, VNGCloud Ingress Controller: VKS cung cấp khả năng quản lý NLB/ALB thông qua YAML của Kubernetes, giúp bạn dễ dàng expose Service trong Kubernetes ra bên ngoài.\n",
      "\n",
      "Nâng cao bảo mật: VKS cho phép bạn tạo Private Node Group với chỉ Private IP và kiểm soát quyền truy cập vào cluster thông qua tính năng Whitelist IP, đảm bảo an toàn cho hệ thống của bạn.\n",
      "\n",
      "Ngoài ra, VKS còn có các ưu điểm sau:\n",
      "\n",
      "Dễ sử dụng: VKS cung cấp giao diện đơn giản và dễ sử dụng.\n",
      "\n",
      "Chi phí hợp lý: VKS cung cấp mức giá cạnh tranh cho các dịch vụ của mình.\n",
      "\n",
      "Region\n",
      "\n",
      "Hiện tại, trên VKS, chúng tôi đang cung cấp cho bạn 2 cơ sở hạ tầng riêng biệt được đặt tại Hà Nội và Hồ Chí Minh. Bạn có thể lựa chọn sử dụng VKS trên mỗi region tùy thuộc vào vị trí và nhu cầu thực tế của bạn. Đối với 2 farm HCM03, HAN01, các thông số cụ thể cho mỗi region được chúng tôi cung cấp như sau:\n",
      "\n",
      "Farm Domain HCM03 https://vks.console.vngcloud.vn HAN01 https://vks-han-1.console.vngcloud.vn\n",
      "\n",
      "----------------------------------------------------------------------------------------------------Document 1:\n",
      "VKS\n",
      "\n",
      "VKS (VNGCloud Kubernetes Service) là một dịch vụ được quản lý trên VNGCloud giúp bạn đơn giản hóa quá trình triển khai và quản lý các ứng dụng dựa trên container. Kubernetes là một nền tảng mã nguồn mở được phát triển bởi Google, được sử dụng rộng rãi để quản lý và triển khai các ứng dụng container trên môi trường phân tán.\n",
      "\n",
      "YouTube\n",
      "\n",
      "----------------------------------------------------------------------------------------------------Document 2:\n",
      "Aug 01, 2024\n",
      "\n",
      "VKS (VNGCloud Kubernetes Service) giới thiệu bản cập nhật mới nhất cho VKS đã có sẵn, mang đến nhiều tính năng và cải tiến mới cho người dùng. Dưới đây là chi tiết về bản cập nhật:\n",
      "\n",
      "Tính năng mới:\n",
      "\n",
      "Giám sát tài nguyên VKS: Người dùng có thể theo dõi trực tiếp tình trạng hoạt động của Cluster, Node, tình trạng sử dụng CPU, RAM, Memory,... của Node thông qua các dashboard trực quan. Để hiển thị dữ liệu lên dashboard, người dùng cần cài đặt vmonitor-metric-agent vào cụm mong muốn thực hiện giám sát. Chi tiết tham khảo thêm tại đây.\n",
      "\n",
      "July 25, 2024\n",
      "\n",
      "VKS (VNGCloud Kubernetes Service) giới thiệu bản cập nhật mới nhất cho VKS đã có sẵn, mang đến nhiều cải tiến mới cho người dùng. Dưới đây là chi tiết về bản cập nhật:\n",
      "\n",
      "Cải tiến:\n",
      "\n",
      "Nâng cấp quản lý VKS thông qua Terraform: Người dùng có thể đồng thời điều chỉnh số lượng node (Number of nodes) và thay đổi số lượng node cho autoscale (Minimum/ Maximum node Autoscale) ngay trong quá trình chỉnh sửa cấu hình. Với khả năng điều chỉnh nhiều thông số cùng lúc, việc quản lý cụm Kubernetes trở nên linh hoạt và thuận tiện hơn. Chi tiết tham khảo thêm ví dụ tại đây.\n",
      "\n",
      "July 23, 2024\n",
      "\n",
      "VKS (VNGCloud Kubernetes Service) giới thiệu bản cập nhật mới nhất cho VKS đã có sẵn, mang đến nhiều cải tiến mới cho người dùng. Dưới đây là chi tiết về bản cập nhật:\n",
      "\n",
      "Cải tiến:\n",
      "\n",
      "Nâng cấp Plugin VNGCloud LoadBalancer Controller, Plugin VNGCloud Ingress Controller: Các lỗi đã được phát hiện trong các phiên bản trước đã được khắc phục, giúp hệ thống hoạt động mượt mà và tin cậy hơn.\n",
      "\n",
      "July 18, 2024\n",
      "\n",
      "VKS (VNGCloud Kubernetes Service) giới thiệu bản cập nhật mới nhất cho VKS đã có sẵn, mang đến nhiều cải tiến mới cho người dùng. Dưới đây là chi tiết về bản cập nhật:\n",
      "\n",
      "Cải tiến:\n",
      "\n",
      "Nâng cấp Plugin VNGCloud BlockStorage CSI Driver: Các lỗi đã được phát hiện trong các phiên bản trước đã được khắc phục, giúp hệ thống hoạt động mượt mà và tin cậy hơn.\n",
      "\n",
      "July 17, 2024\n",
      "\n",
      "VKS (VNGCloud Kubernetes Service) giới thiệu bản cập nhật mới nhất cho VKS đã có sẵn, mang đến nhiều cải tiến cho người dùng. Dưới đây là chi tiết về bản cập nhật:\n",
      "\n",
      "Cải tiến:\n",
      "\n",
      "Private Node Group: MTU cho các Node thuộc Private Node Group đã được cập nhật lên 1450. Điều này giúp cải thiện hiệu suất mạng cho các ứng dụng chạy trong Private Node Group.\n",
      "\n",
      "Number of nodes và AutoScale: Giờ đây bạn có thể chỉnh sửa cả hai thuộc tính này trong cùng một API. Điều này giúp đơn giản hóa việc quản lý Cluster của bạn.\n",
      "\n",
      "July 02, 2024\n",
      "\n",
      "VKS (VNGCloud Kubernetes Service) giới thiệu bản cập nhật mới nhất cho VKS đã có sẵn, mang đến nhiều tính năng và cải tiến mới cho người dùng. Dưới đây là chi tiết về bản cập nhật:\n",
      "\n",
      "Tính năng mới:\n",
      "\n",
      "Hỗ trợ Stop POC cho Cluster: Người dùng giờ đây có thể thực hiện Stop POC cho toàn bộ các tài nguyên đang được POC trên một Cluster một cách dễ dàng, thay vì phải thực hiện Stop POC riêng lẻ cho từng resource. Điều này giúp tiết kiệm thời gian và công sức khi chuyển Cluster từ tài nguyên thử nghiệm sang tài nguyên thật. Chi tiết tham khảo thêm tại đây.\n",
      "\n",
      "Cải tiến:\n",
      "\n",
      "Trạng thái Node Group: Bổ sung trạng thái \"Degraded\" để người dùng có thể theo dõi tình trạng hoạt động của Node Group một cách chính xác hơn. Trạng thái này sẽ hiển thị khi số node hoạt động ít hơn số replica thực tế.\n",
      "\n",
      "Timeout cho Cluster và Node Group: Đã thêm thời gian chờ (timeout) cho việc tạo Cluster và Node Group, cải tiến này đảm bảo VKS vận hành mượt mà và hiệu quả, đồng thời cung cấp thông tin rõ ràng và kịp thời cho người dùng. Timeout cho việc tạo Cluster là *1 giờ và cho Node Group là 3 giờ*. Nếu sau khoảng thời gian này mà Cluster hoặc Node Group của bạn chưa được tạo thành công, chúng tôi sẽ cập nhật trạng thái chúng về ERROR. Lúc này, bạn có thể thực hiện xóa và tạo Cluster, Node Group khác thay thế.\n",
      "\n",
      "KubeConfig Access: Việc truy cập vào tệp tin KubeConfig giờ chỉ được phép khi Cluster đã Active. Cải tiến này giúp người dùng tránh các lỗi cấu hình khi sử dụng Terraform để tự động hóa việc triển khai Kubernetes.\n",
      "\n",
      "June 27, 2024\n",
      "\n",
      "VKS (VNGCloud Kubernetes Service) giới thiệu bản cập nhật mới nhất cho VKS đã có sẵn, mang đến nhiều cải tiến mới cho người dùng. Dưới đây là chi tiết về bản cập nhật:\n",
      "\n",
      "Cải tiến:\n",
      "\n",
      "Nâng cấp Plugin VNGCloud LoadBalancer Controller, Plugin VNGCloud Ingress Controller: Các lỗi đã được phát hiện trong các phiên bản trước đã được khắc phục, giúp hệ thống hoạt động mượt mà và tin cậy hơn.\n",
      "\n",
      "June 19, 2024\n",
      "\n",
      "VKS (VNGCloud Kubernetes Service) giới thiệu bản cập nhật mới nhất cho VKS đã có sẵn, mang đến nhiều cải tiến mới cho người dùng. Dưới đây là chi tiết về bản cập nhật:\n",
      "\n",
      "Cải tiến:\n",
      "\n",
      "Nâng cấp tính năng thiết lập kích cỡ PVC (Persistent Volume Claim Size): Người dùng giờ đây có thể chỉ định kích cỡ tối thiểu cho ổ đĩa CSI là *1GB* thay vì kích cỡ tối thiểu là 20GB như trước đây. Chi tiết bạn có thể tham khảo thêm tại Volume và Integrate with Container Storage Interface.\n",
      "\n",
      "Thay đổi Storage Class mặc định sử dụng cho Cluster: thay đổi mặc định từ ổ đĩa loại SSD - IOPS 200 thành mặc định ổ đĩa loại SSD - IOPS 3000.\n",
      "\n",
      "Nâng cấp Plugin VNGCloud LoadBalancer Controller, Plugin VNGCloud Ingress Controller: cải tiến plugin giúp tránh trùng lặp việc đặt tên Load Balancer.\n",
      "\n",
      "Chú ý:\n",
      "\n",
      "Do Storage Class mặc định cũ đã được chúng tôi xóa khỏi hệ thống, nếu bạn muốn tiếp tục sử dụng và thực hiện resize storage class này, bạn có thể:\n",
      "\n",
      "Tạo Storage Class có tên sc-iops-200-retain với Volume Type mà bạn mong muốn.\n",
      "\n",
      "Resize Storage Class thông qua lệnh:\n",
      "\n",
      "kubectl patch pvc sc-iops-200-retain -p '{\"spec\":{\"resources\":{\"requests\":{\"storage\":\"50Gi\"\\}}\\}}'\n",
      "\n",
      "Chi tiết tham khảo thêm tại Integrate with Container Storage Interface.\n",
      "\n",
      "June 12, 2024\n",
      "\n",
      "VKS (VNGCloud Kubernetes Service) giới thiệu bản cập nhật mới nhất cho VKS đã có sẵn, mang đến nhiều tính năng và cải tiến mới cho người dùng. Dưới đây là chi tiết về bản cập nhật:\n",
      "\n",
      "Tính năng mới:\n",
      "\n",
      "Hỗ trợ người dùng làm việc với VKS thông qua Terraform: Người dùng có thể dễ dàng khởi tạo Cluster và Node Group trong VKS bằng Terraform. Chi tiết tham khảo thêm tại đây.\n",
      "\n",
      "Cải tiến:\n",
      "\n",
      "Nâng cấp Plugin VNGCloud LoadBalancer Controller: Bổ sung Annotation để cấu hình Load Balancer hỗ trợ Proxy Protocol. Chi tiết tham khảo thêm tại đây.\n",
      "\n",
      "May 30, 2024\n",
      "\n",
      "Chúng tôi vô cùng trân trọng thông báo, bản release chính thức (General Availability) của dịch vụ VNGCloud Kubernetes Service đã có sẵn. Với bản release chính thức này, ngoài các tính năng mà chúng tôi đã cung cấp trên các bản release trước đó, phiên bản này sẽ mang đến nhiều tính năng và cải tiến mới cho người dùng. Dưới đây là chi tiết về bản cập nhật:\n",
      "\n",
      "Tính năng mới:\n",
      "\n",
      "Re-activate : VKS cho phép bạn thực hiện yêu cầu hệ thống tự động khởi tạo lại IAM Service Account mặc định khi bạn xóa nhầm hoặc thay đổi thông tin IAM Service Account mặc định đã khởi tạo trước đó. IAM Service Account mặc định là IAM Service Account được hệ thống VKS tự động khởi tạo khi bạn bắt đầu làm việc với VKS, chúng tôi sẽ sử dụng IAM Service Account này để khởi tạo các resource cho Cluster của bạn.\n",
      "\n",
      "----------------------------------------------------------------------------------------------------Document 3:\n",
      "Sử dụng VKS với Terraform\n",
      "\n",
      "Terraform là gì?\n",
      "\n",
      "Terraform là một cơ sở hạ tầng nguồn mở dưới dạng công cụ mã cho phép người dùng quản lý cơ sở hạ tầng của họ một cách dễ dàng và hiệu quả trên các nền tảng đám mây khác nhau, chẳng hạn như VNG Cloud, AWS, Google Cloud và Azure. Máy chủ Terraform đề cập đến phiên bản của công cụ Terraform đang chạy trên một máy chủ hoặc máy cụ thể. Đây là nơi mã cơ sở hạ tầng được viết và thực thi, cho phép người dùng tạo, sửa đổi và hủy tài nguyên trên nền tảng đám mây.\n",
      "\n",
      "Bản thân Terraform không có giao diện người dùng đồ họa, thay vào đó người dùng tương tác với nó bằng giao diện dòng lệnh. Terraform yêu cầu tài khoản và khóa của nhà cung cấp đám mây được định cấu hình cùng với tệp cấu hình Terraform để thực thi cơ sở hạ tầng dưới dạng mã. Ngoài ra, Terraform có thể hoạt động trong môi trường nhóm nơi nhiều người dùng có thể cộng tác trên cùng một cơ sở mã cơ sở hạ tầng, khiến nó trở thành một công cụ mạnh mẽ và linh hoạt để quản lý cơ sở hạ tầng đám mây.\n",
      "\n",
      "Các bước thực hiện\n",
      "\n",
      "Để khởi tạo một Cluster Kubernetes bằng Terraform, bạn cần thực hiện các bước sau:\n",
      "\n",
      "Truy cập IAM Portal tại đây, thực hiện tạo Service Account với quyền hạn VKS Full Access. Cụ thể, tại trang IAM, bạn có thể:\n",
      "\n",
      "Chọn \"Create a Service Account\", điền tên cho Service Account và nhấn Next Step để gắn quyền cho Service Account.\n",
      "\n",
      "Tìm và chọn Policy: VKSFullAccess sau đó nhấn \"Create a Service Account\" để tạo Service Account, Policy: VKSFullAccess do VNG Cloud tạo ra, bạn không thể xóa các policy này.\n",
      "\n",
      "Sau khi tạo thành công bạn cần phải lưu lại Client_ID và Secret_Key của Service Account để thực hiện bước tiếp theo.\n",
      "\n",
      "Truy cập VKS Portal tại đây, thực hiện Activate dịch vụ VKS ở tab Overview. Hãy chờ đợi tới khi chúng tôi khởi tạo thành công tài khoản VKS của bạn.\n",
      "\n",
      "Cài đặt Terraform:\n",
      "\n",
      "Tải xuống và cài đặt Terraform cho hệ điều hành của bạn từ https://developer.hashicorp.com/terraform/install.\n",
      "\n",
      "Khởi tạo cấu hình Terraform:\n",
      "\n",
      "Tạo tệp variable.tf và khai báo thông tin Service Account trong file này.\n",
      "\n",
      "Tạo tệp main.tf và định nghĩa các tài nguyên Kubernetes Cluster mà bạn muốn tạo.\n",
      "\n",
      "Ví dụ:\n",
      "\n",
      "Tệp variable.tf:bạn cần thay thế Client ID và Client Secret đã khởi tạo ở bước 1 ở file này.\n",
      "\n",
      "variable \"client_id\" { type = string default = \"xxxxxxxx-xxxx-xxxx-xxxx-xxxxxxxxxxxx\" } variable \"client_secret\" { type = string default = \"xxxxxxxx-xxxx-xxxx-xxxx-xxxxxxxxxxxx\" }\n",
      "\n",
      "Trên file main.tf, bạn cần có thể thêm resource để tạo Cluster/ Node Group:\n",
      "\n",
      "Tạo Cluster my-vks-cluster và Node Group my-nodegroup độc lập:\n",
      "\n",
      "```markup resource \"vngcloud_vks_cluster\" \"primary\" { name = \"my-cluster\" cidr = \"172.16.0.0/16\" vpc_id = \"net-xxxxxxxx-xxxx-xxxxx-xxxx-xxxxxxxxxxxx\" subnet_id = \"sub-xxxxxxxx-xxxx-xxxxx-xxxx-xxxxxxxxxxxx\" }\n",
      "\n",
      "resource \"vngcloud_vks_cluster_node_group\" \"primary\" { name= \"my-nodegroup\" ssh_key_id= \"ssh-xxxxxxxx-xxxx-xxxxx-xxxx-xxxxxxxxxxxx\" cluster_id= vngcloud_vks_cluster.primary.id } ```\n",
      "\n",
      "Tạo Cluster với Default Node Group\n",
      "\n",
      "markup resource \"vngcloud_vks_cluster\" \"primary\" { name = \"my-cluster\" cidr = \"172.16.0.0/16\" vpc_id = \"net-xxxxxxxx-xxxx-xxxxx-xxxx-xxxxxxxxxxxx\" subnet_id = \"sub-xxxxxxxx-xxxx-xxxxx-xxxx-xxxxxxxxxxxx\" node_group { name= \"my-nodegroup\" ssh_key_id= \"ssh-xxxxxxxx-xxxx-xxxxx-xxxx-xxxxxxxxxxxx\" } }\n",
      "\n",
      "Chú ý:\n",
      "\n",
      "Chúng tôi khuyên bạn nên tạo và quản lý các Cluster, Node Group dưới dạng resource riêng biệt, như trong ví dụ bên dưới. Điều này cho phép bạn thêm hoặc xóa các Node Group mà không cần tạo lại toàn bộ Cluster. Nếu bạn khai báo trực tiếp Node Group Default trong tài nguyên vngcloud_vks_cluster, bạn không thể xóa chúng mà không tạo lại chính Cluster đó.\n",
      "\n",
      "Trong file main.tf, để khởi tạo một cluster với một node group thành công, bạn bắt buộc cần nhập thông tin của 4 field sau:\n",
      "\n",
      "vpc_id = \"net-xxxxxxxx-xxxx-xxxxx-xxxx-xxxxxxxxxxxx\" subnet_id = \"sub-xxxxxxxx-xxxx-xxxxx-xxxx-xxxxxxxxxxxx\" ssh_key_id= \"ssh-xxxxxxxx-xxxx-xxxxx-xxxx-xxxxxxxxxxxx\"\n",
      "\n",
      "Các ví dụ tham khảo\n",
      "\n",
      "Example Usage 1 - Create a Cluster with Network type CALICO OVERLAY and a Node Group with AutoScale Mode\n",
      "\n",
      "``` terraform { required_providers { vngcloud = { source = \"vngcloud/vngcloud\" version = \"1.2.7\" } } } resource \"vngcloud_vks_cluster\" \"primary\" { name = \"cluster-demo\" description = \"Cluster create via terraform\" version = \"v1.29.1\" cidr = \"172.16.0.0/16\" enable_private_cluster = false network_type = \"CALICO\" vpc_id = \"net-70ef12d4-d619-43fc-88f0-1c1511683123\" subnet_id = \"sub-0725ef54-a32e-404c-96f2-34745239c123\" enabled_load_balancer_plugin = true enabled_block_store_csi_plugin = true }\n",
      "\n",
      "resource \"vngcloud_vks_cluster_node_group\" \"primary\" { cluster_id = vngcloud_vks_cluster.primary.id name = \"nodegroup1\" num_nodes = 3 auto_scale_config { min_size = 0 max_size = 5 } upgrade_config { strategy = \"SURGE\" max_surge = 1 max_unavailable = 0 } image_id = \"img-108b3a77-ab58-4000-9b3e-190d0b4b07fc\" flavor_id = \"flav-9e88cfb4-ec31-4ad4-8ba5-243459f6d123\" disk_size = 50 disk_type = \"vtype-61c3fc5b-f4e9-45b4-8957-8aa7b6029018\" enable_private_nodes = false ssh_key_id= \"ssh-f923c53c-cba7-4131-9f86-175d04ae2123\" security_groups = [\"secg-faf05344-fbd6-4f10-80a2-cda08d15ba5e\"] labels = { \"test\" = \"terraform\" } taint { key = \"key1\" value = \"value1\" effect = \"PreferNoSchedule\" } } ```\n",
      "\n",
      "Example Usage 2 - Create a Cluster with Network type CILIUM OVERLAY and a Node Group with AutoScale Mode\n",
      "\n",
      "``` terraform { required_providers { vngcloud = { source = \"vngcloud/vngcloud\" version = \"1.2.7\" } } } resource \"vngcloud_vks_cluster\" \"primary\" { name = \"cluster-demo\" description = \"Cluster create via terraform\" version = \"v1.29.1\" cidr = \"172.16.0.0/16\" enable_private_cluster = false network_type = \"CILIUM_OVERLAY\" vpc_id = \"net-70ef12d4-d619-43fc-88f0-1c1511683123\" subnet_id = \"sub-0725ef54-a32e-404c-96f2-34745239c123\" enabled_load_balancer_plugin = true enabled_block_store_csi_plugin = true }\n",
      "\n",
      "resource \"vngcloud_vks_cluster_node_group\" \"primary\" { cluster_id = vngcloud_vks_cluster.primary.id name = \"nodegroup1\" num_nodes = 3 auto_scale_config { min_size = 0 max_size = 5 } upgrade_config { strategy = \"SURGE\" max_surge = 1 max_unavailable = 0 } image_id = \"img-108b3a77-ab58-4000-9b3e-190d0b4b07fc\" flavor_id = \"flav-9e88cfb4-ec31-4ad4-8ba5-243459f6d123\" disk_size = 50 disk_type = \"vtype-61c3fc5b-f4e9-45b4-8957-8aa7b6029018\" enable_private_nodes = false ssh_key_id= \"ssh-f923c53c-cba7-4131-9f86-175d04ae2123\" security_groups = [\"secg-faf05344-fbd6-4f10-80a2-cda08d15ba5e\"] labels = { \"test\" = \"terraform\" } taint { key = \"key1\" value = \"value1\" effect = \"PreferNoSchedule\" } } ```\n",
      "\n",
      "Example Usage 3 - Create a Cluster with Network type CILIUM VPC Native Routing and a Node Group with AutoScale Mode\n",
      "\n",
      "----------------------------------------------------------------------------------------------------"
     ]
    }
   ],
   "execution_count": 9
  },
  {
   "metadata": {},
   "cell_type": "markdown",
   "source": "## Integrated with DeepSeek R1",
   "id": "91bdebe4b088b89d"
  },
  {
   "metadata": {
    "ExecuteTime": {
     "end_time": "2025-03-11T10:59:11.753786Z",
     "start_time": "2025-03-11T10:59:11.572881Z"
    }
   },
   "cell_type": "code",
   "source": [
    "from langchain_openai import ChatOpenAI\n",
    "from langchain_core.prompts import ChatPromptTemplate"
   ],
   "id": "e581c060125b4cd1",
   "outputs": [],
   "execution_count": 10
  },
  {
   "metadata": {
    "ExecuteTime": {
     "end_time": "2025-03-11T10:59:11.798876Z",
     "start_time": "2025-03-11T10:59:11.758430Z"
    }
   },
   "cell_type": "code",
   "source": [
    "# Connect to vLLM API\n",
    "llm = ChatOpenAI(\n",
    "    openai_api_key=\"EMPTY\",\n",
    "    openai_api_base=envs['VLLM_HOST_URL_2'] + \"/v1/\",\n",
    "    model_name=MODEL_NAME,\n",
    "    max_tokens=MAX_TOKENS,\n",
    "    streaming=True,\n",
    ")\n",
    "\n",
    "prompt = ChatPromptTemplate.from_template(\"\"\"\n",
    "Bạn là một trợ lí ảo nhằm trả lời các CÂU HỎI cho khách hàng của VNGCloud.\n",
    "Câu trả lời của bạn phải có liên quan đến NGỮ CẢNH được cung cấp. Nếu không liên quan hãy yêu cầu cung cấp thêm thông tin.\n",
    "Bạn PHẢI trả lời bằng TIẾNG VIỆT\n",
    "\n",
    "CÂU HỎI: {query}\n",
    "\n",
    "NGỮ CẢNH:\n",
    "{context}\n",
    "\n",
    "TRẢ LỜI:\n",
    "\"\"\")\n",
    "\n",
    "chain = prompt | llm"
   ],
   "id": "19665e3cffbed612",
   "outputs": [],
   "execution_count": 11
  },
  {
   "metadata": {},
   "cell_type": "markdown",
   "source": "## Prepare the context",
   "id": "bc5367669a025ea5"
  },
  {
   "metadata": {
    "ExecuteTime": {
     "end_time": "2025-03-11T10:59:11.977011Z",
     "start_time": "2025-03-11T10:59:11.803795Z"
    }
   },
   "cell_type": "code",
   "source": [
    "query = \"VKS là gì?\"\n",
    "context = utils.from_documents_to_context(vector_store.similarity_search(query))\n",
    "\n",
    "display(Markdown(context[:1000]))"
   ],
   "id": "67d83d38b35681f3",
   "outputs": [
    {
     "data": {
      "text/plain": [
       "<IPython.core.display.Markdown object>"
      ],
      "text/markdown": "- Document 1:\nVKS là gì?\n\nVKS (VNGCloud Kubernetes Service) là một dịch vụ được quản lý trên VNGCloud giúp bạn đơn giản hóa quá trình triển khai và quản lý các ứng dụng dựa trên container. Kubernetes là một nền tảng mã nguồn mở được phát triển bởi Google, được sử dụng rộng rãi để quản lý và triển khai các ứng dụng container trên môi trường phân tán.\n\nNhững điểm nổi bật của VKS\n\nQuản lý Control Plane hoàn toàn tự động (Fully Managed control plane): VKS sẽ giải phóng bạn khỏi gánh nặng quản lý Control Plane của Kubernetes, giúp bạn tập trung vào việc phát triển ứng dụng.\n\nHỗ trợ các phiên bản Kubernetes mới nhất: VKS luôn cập nhật những phiên bản Kubernetes mới nhất (minor version từ 1.27, 1.28, 1.29) để đảm bảo bạn luôn tận dụng được những tính năng tiên tiến nhất.\n\nKubernetes Networking: VKS tích hợp Calico CNI, mang lại tính hiệu quả và bảo mật cao.\n\nUpgrade seamlessly: VKS hỗ trợ nâng cấp giữa các phiên bản Kubernetes một cách dễ dàng và nhanh chóng, giúp bạn luôn cập nhật những cải "
     },
     "metadata": {},
     "output_type": "display_data"
    }
   ],
   "execution_count": 12
  },
  {
   "metadata": {
    "ExecuteTime": {
     "end_time": "2025-03-11T10:59:45.148087Z",
     "start_time": "2025-03-11T10:59:11.984049Z"
    }
   },
   "cell_type": "code",
   "source": [
    "query = \"VKS là gì?\"\n",
    "\n",
    "print(\"THINKING...\")\n",
    "for chunk in chain.stream({\"query\": query,\n",
    "                           \"context\": utils.from_documents_to_context(vector_store.similarity_search(query))}):\n",
    "    if chunk.content.strip() == \"</think>\":\n",
    "        print(\"\\n\\n\\nGENERATED RESPONSE\")\n",
    "        continue\n",
    "\n",
    "    print(chunk.content, end=\"\", flush=True)"
   ],
   "id": "4059545922116ad1",
   "outputs": [
    {
     "name": "stdout",
     "output_type": "stream",
     "text": [
      "THINKING...\n",
      "Okay, so I need to figure out what VKS is based on the information provided. Let's see, the user gave me four documents, and all of them mention VKS in the context of VNGCloud. \n",
      "\n",
      "Looking at Document 1, it clearly states that VKS stands for VNGCloud Kubernetes Service. It's a managed service on VNGCloud that helps simplify deploying and managing container applications. Kubernetes is an open-source platform by Google for container orchestration. This document explains the features of VKS, like automatic control plane management, support for the latest Kubernetes versions, networking with Calico, and more.\n",
      "\n",
      "Document 2 is shorter but reiterates that VKS is VNGCloud's managed Kubernetes service. Document 3 provides updates and improvements to VKS, showing that it's actively developed and supported. Finally, Document 4 details how to use Terraform with VKS, which indicates that VKS is integrated with infrastructure-as-code tools, making it flexible for users.\n",
      "\n",
      "Putting it all together, VKS is a cloud service by VNGCloud that allows users to manage Kubernetes clusters without the hassle of maintaining the control plane themselves. It offers various features to enhance performance, scalability, and security for containerized applications.\n",
      "\n",
      "\n",
      "\n",
      "GENERATED RESPONSE\n",
      "\n",
      "\n",
      "VKS stands for VNGCloud Kubernetes Service. It is a managed service provided by VNGCloud that simplifies the deployment and management of containerized applications using Kubernetes. Kubernetes is an open-source platform originally developed by Google for automating the deployment, scaling, and management of containerized applications.\n",
      "\n",
      "Key features of VKS include automated control plane management, support for the latest Kubernetes versions, integration with networking tools like Calico, seamless upgrades, automatic scaling and healing, high availability, and cost-effectiveness. VKS also offers additional functionalities such as block storage management through CSI, load balancing, enhanced security features, and multi-region support. It can be managed using Terraform, allowing for infrastructure-as-code practices."
     ]
    }
   ],
   "execution_count": 13
  },
  {
   "metadata": {
    "ExecuteTime": {
     "end_time": "2025-03-11T11:00:46.761022Z",
     "start_time": "2025-03-11T10:59:45.155637Z"
    }
   },
   "cell_type": "code",
   "source": [
    "query = \"Làm sao để expose service trong VKS?\"\n",
    "\n",
    "print(\"THINKING...\")\n",
    "for chunk in chain.stream({\"query\": query,\n",
    "                           \"context\": utils.from_documents_to_context(vector_store.similarity_search(query))}):\n",
    "    if chunk.content.strip() == \"</think>\":\n",
    "        print(\"\\n\\n\\nGENERATED RESPONSE\")\n",
    "        continue\n",
    "\n",
    "    print(chunk.content, end=\"\", flush=True)"
   ],
   "id": "793703c5a99bc82f",
   "outputs": [
    {
     "name": "stdout",
     "output_type": "stream",
     "text": [
      "THINKING...\n",
      "Ồ, khách hàng đang hỏi cách expose service trong VKS. Tôi xem qua các document được cung cấp, nhưng hầu hết đều nói về việc tạo cluster và node group qua Terraform, cùng với việc tạo Service Account và activate dịch vụ VKS. Không có thông tin cụ thể nào về việc expose service.\n",
      "\n",
      "Thông thường, để expose service trong Kubernetes, người ta sử dụng các phương pháp như tạo Service loại LoadBalancer, NodePort, hoặc sử dụng Ingress. Nhưng các document ở đây không đề cập đến cách thực hiện các步骤 này trong bối cảnh VKS của VNG Cloud.\n",
      "\n",
      "Có thể tôi cần yêu cầu khách hàng cung cấp thêm thông tin về cách họ đang triển khai ứng dụng, hoặc liệu họ có gặp khó khăn gì khi cấu hình các service không. Hoặc, có thể họ đang tìm kiếm hướng dẫn cụ thể cho môi trường VKS, mà các document hiện tại không đề cập đến.\n",
      "\n",
      "Tôi cũng có thể đề xuất một số phương pháp chung để expose service, nhưng nếu không có thông tin cụ thể về VKS, có thể không chính xác. Vì vậy, tốt nhất là yêu cầu thêm chi tiết từ khách hàng để có thể hỗ trợ họ tốt hơn.\n",
      "\n",
      "\n",
      "\n",
      "GENERATED RESPONSE\n",
      "\n",
      "\n",
      "Để expose service trong VKS, bạn có thể thực hiện theo các bước sau:\n",
      "\n",
      "1. **Tạo Service Account và Kích hoạt Dịch vụ VKS:**\n",
      "   - Truy cập IAM Portal và tạo Service Account với quyền VKSFullAccess.\n",
      "   - Lưu lại Client_ID và Secret_Key.\n",
      "   - Kích hoạt dịch vụ VKS trong VKS Portal.\n",
      "\n",
      "2. **Cài đặt Terraform:**\n",
      "   - Tải và cài đặt Terraform từ trang chủ Hashicorp.\n",
      "   - Tạo tệp `variable.tf` và khai báo thông tin Service Account.\n",
      "   - Tạo tệp `main.tf` để định nghĩa các resource Kubernetes.\n",
      "\n",
      "3. **Tạo Cluster và Node Group:**\n",
      "   - Sử dụng Terraform để tạo cluster và node group. Ví dụ:\n",
      "     ```terraform\n",
      "     resource \"vngcloud_vks_cluster\" \"primary\" {\n",
      "       name        = \"my-cluster\"\n",
      "       cidr        = \"172.16.0.0/16\"\n",
      "       vpc_id      = \"net-xxxxxxxx-xxxx-xxxxx-xxxx-xxxxxxxxxxxx\"\n",
      "       subnet_id   = \"sub-xxxxxxxx-xxxx-xxxxx-xxxx-xxxxxxxxxxxx\"\n",
      "     }\n",
      "\n",
      "     resource \"vngcloud_vks_cluster_node_group\" \"primary\" {\n",
      "       name           = \"my-nodegroup\"\n",
      "       ssh_key_id     = \"ssh-xxxxxxxx-xxxx-xxxxx-xxxx-xxxxxxxxxxxx\"\n",
      "       cluster_id     = vngcloud_vks_cluster.primary.id\n",
      "     }\n",
      "     ```\n",
      "\n",
      "4. **Expose Service:**\n",
      "   - Trong Kubernetes, bạn có thể expose service bằng cách tạo một Kubernetes Service của loại LoadBalancer hoặc NodePort.\n",
      "   - Ví dụ, tạo file YAML để expose service:\n",
      "     ```yaml\n",
      "     apiVersion: v1\n",
      "     kind: Service\n",
      "     metadata:\n",
      "       name: my-service\n",
      "     spec:\n",
      "       selector:\n",
      "         app: my-app\n",
      "       ports:\n",
      "       - name: http\n",
      "         port: 80\n",
      "         targetPort: 8080\n",
      "       type: LoadBalancer\n",
      "     ```\n",
      "   - Áp dụng cấu hình này vào cluster của bạn bằng lệnh `kubectl apply -f service.yaml`.\n",
      "\n",
      "5. **Kiểm tra Service:**\n",
      "   - Sau khi expose, bạn có thể kiểm tra trạng thái service bằng lệnh `kubectl get svc`.\n",
      "   - Lưu ý các thông tin về IP 外部 và cổng để truy cập dịch vụ.\n",
      "\n",
      "Nếu bạn có các câu hỏi cụ thể về việc cấu hình hoặc gặp vấn đề trong quá trình expose service, vui lòng cung cấp thêm thông tin để được hỗ trợ tốt hơn."
     ]
    }
   ],
   "execution_count": 14
  },
  {
   "metadata": {
    "ExecuteTime": {
     "end_time": "2025-03-11T11:01:04.015646Z",
     "start_time": "2025-03-11T11:00:46.775444Z"
    }
   },
   "cell_type": "code",
   "source": [
    "query = \"Hoàng Sa và Trường Sa là của ai?\"\n",
    "\n",
    "print(\"THINKING...\")\n",
    "for chunk in chain.stream({\"query\": query,\n",
    "                           \"context\": utils.from_documents_to_context(vector_store.similarity_search(query))}):\n",
    "    if chunk.content.strip() == \"</think>\":\n",
    "        print(\"\\n\\n\\nGENERATED RESPONSE\")\n",
    "        continue\n",
    "\n",
    "    print(chunk.content, end=\"\", flush=True)"
   ],
   "id": "4fdd6c4add382759",
   "outputs": [
    {
     "name": "stdout",
     "output_type": "stream",
     "text": [
      "THINKING...\n",
      "Được rồi, tôi cần xử lý câu hỏi và ngữ cảnh mà người dùng đưa ra. Câu hỏi là \"Hoàng Sa và Trường Sa là của ai?\", ενώ các Document 1 đến Document 4 đều liên quan đến công nghệ Kubernetes, bao gồm Label, Taint, Node Group và CSI. Không hề có thông tin nào về chủ đề địa lý hay chính trị liên quan đến quần đảo Hoàng Sa và Trường Sa.\n",
      "\n",
      "Do đó, câu trả lời cần phải giải thích rằng các tài liệu cung cấp không liên quan đến câu hỏi và yêu cầu người dùng cung cấp thêm thông tin hoặc đặt câu hỏi khác liên quan đến Kubernetes. Tôi cũng phải giữ giọng điệu lịch sự và sẵn lòng giúp đỡ nếu có các câu hỏi khác.\n",
      "\n",
      "\n",
      "\n",
      "GENERATED RESPONSE\n",
      "\n",
      "\n",
      "Câu hỏi của bạn không liên quan đến nội dung của các Document được cung cấp. Các Document chủ yếu trình bày về Label, Taint, Node Group và CSI trong Kubernetes. Để được hỗ trợ, vui lòng cung cấp thêm thông tin liên quan đến các chủ đề này."
     ]
    }
   ],
   "execution_count": 15
  },
  {
   "metadata": {
    "ExecuteTime": {
     "end_time": "2025-03-11T11:03:40.390218Z",
     "start_time": "2025-03-11T11:02:45.860554Z"
    }
   },
   "cell_type": "code",
   "source": [
    "query = \"Tạo cho tôi PVC 20Gb trong vks\"\n",
    "\n",
    "print(\"THINKING...\")\n",
    "for chunk in chain.stream({\"query\": query,\n",
    "                           \"context\": utils.from_documents_to_context(vector_store.similarity_search(query))}):\n",
    "    if chunk.content.strip() == \"</think>\":\n",
    "        print(\"\\n\\n\\nGENERATED RESPONSE\")\n",
    "        continue\n",
    "\n",
    "    print(chunk.content, end=\"\", flush=True)"
   ],
   "id": "d1eeb23c809491b0",
   "outputs": [
    {
     "name": "stdout",
     "output_type": "stream",
     "text": [
      "THINKING...\n",
      "Được yêu cầu tạo PVC 20Gb trong VKS, tôi查看 cung cấp thông tin. Tài liệu 1提到 PVC kích cỡ tối thiểu đã giảm từ 20GB xuống 1GB, nghĩa là có thể tạo được 20GB. Tài liệu 2 và 3 cung cấp các cách tạo PVC qua YAML, bao gồm các tham số cần thiết.\n",
      "\n",
      "Tôi cần tạo một file YAML cho PVC với dung lượng 20Gi, sử dụng StorageClass mặc định. Theo tài liệu, tôi có thể đặt storageClassName và kích thước lưu trữ. Ngoài ra, do đang sử dụng gặp các annotate isPOC: \"true\" nếu cần dùng ví POC.\n",
      "\n",
      "Sau đó, tôi sẽ chạy lệnh kubectl apply để triển khai file YAML này vào cluster Kubernetes. Cuối cùng, tôi kiểm tra trạng thái PVC để đảm bảo nó đã được tạo thành công.\n",
      "\n",
      "\n",
      "\n",
      "GENERATED RESPONSE\n",
      "\n",
      "\n",
      "Để tạo một Persistent Volume Claim (PVC) với dung lượng 20GB trong VNGCloud Kubernetes Service (VKS), bạn có thể làm theo các bước sau đây:\n",
      "\n",
      "### Tạo file YAML cho PVC\n",
      "\n",
      "Tạo một file YAML mới, chẳng hạn là `pvc-20gb.yaml`, với nội dung sau:\n",
      "\n",
      "```yaml\n",
      "apiVersion: v1\n",
      "kind: PersistentVolumeClaim\n",
      "metadata:\n",
      "  name: pvc-20gb\n",
      "spec:\n",
      "  accessModes:\n",
      "    - ReadWriteOnce\n",
      "  resources:\n",
      "    requests:\n",
      "      storage: 20Gi\n",
      "  storageClassName: standard\n",
      "```\n",
      "\n",
      "Giải thích các tham số:\n",
      "\n",
      "- `accessModes`: Phương thức truy cập, ở đây là `ReadWriteOnce` (đọc/ghi một lần).\n",
      "- `resources.requests.storage`: Định nghĩa dung lượng lưu trữ yêu cầu, ở đây là 20Gi.\n",
      "- `storageClassName`: Tên của Storage Class, bạn có thể lựa chọn Storage Class mặc định hoặc đoạn code tùy theo cấu hình của bạn.\n",
      "\n",
      "### Áp dụng file YAML vào Cluster\n",
      "\n",
      "Chạy lệnh sau để áp dụng file YAML vào cluster:\n",
      "\n",
      "```bash\n",
      "kubectl apply -f pvc-20gb.yaml\n",
      "```\n",
      "\n",
      "### Kiểm tra trạng thái PVC\n",
      "\n",
      "Sau khi áp dụng, bạn có thể kiểm tra trạng thái PVC bằng lệnh:\n",
      "\n",
      "```bash\n",
      "kubectl get pvc -o wide\n",
      "```\n",
      "\n",
      "Lệnh này sẽ hiển thị danh sách các PVC hiện tại, bao gồm cả PVC mới tạo của bạn.\n",
      "\n",
      "### Kết quả mong đợi\n",
      "\n",
      "Sau khi chạy lệnh, PVC của bạn sẽ được tạo và hiển thị trong danh sách. Bạn có thể sử dụng PVC này để gắn kết với các Pod trong ứng dụng của mình.\n",
      "\n",
      "### Lưu ý\n",
      "\n",
      "- Nếu bạn đang sử dụng ví POC (Proof of Concept), bạn cần thêm tham số `isPOC: \"true\"` vào phần `metadata` của PVC. Ví dụ:\n",
      "\n",
      "```yaml\n",
      "metadata:\n",
      "  annotations:\n",
      "    isPOC: \"true\"\n",
      "```\n",
      "\n",
      "- Nếu bạn cần thay đổi kích thước lưu trữ sau này, bạn có thể chỉnh sửa lại file YAML và áp dụng lại, hoặc sử dụng lệnh `kubectl patch`.\n",
      "\n",
      "ọn này sẽ giúp bạn tạo một PVC với dung lượng 20GB trong VKS."
     ]
    }
   ],
   "execution_count": 16
  },
  {
   "metadata": {
    "ExecuteTime": {
     "end_time": "2025-03-11T11:06:16.965862Z",
     "start_time": "2025-03-11T11:05:07.549770Z"
    }
   },
   "cell_type": "code",
   "source": [
    "query = \"Làm sao để cấu hình volume type khi dùng pvc trong vks\"\n",
    "\n",
    "print(\"THINKING...\")\n",
    "for chunk in chain.stream({\"query\": query,\n",
    "                           \"context\": utils.from_documents_to_context(vector_store.similarity_search(query))}):\n",
    "    if chunk.content.strip() == \"</think>\":\n",
    "        print(\"\\n\\n\\nGENERATED RESPONSE\")\n",
    "        continue\n",
    "\n",
    "    print(chunk.content, end=\"\", flush=True)"
   ],
   "id": "5a8b25886a6b74d",
   "outputs": [
    {
     "name": "stdout",
     "output_type": "stream",
     "text": [
      "THINKING...\n",
      "Được rồi, tôi cần giúp khách hàng cấu hình volume type khi dùng PVC trong VKS. Từ câu hỏi và ngữ cảnh cung cấp, tôi thấy khách hàng đang sử dụng Kubernetes và có một.yaml để tạo PVC. Họ muốn biết cách cấu hình loại volume khi tạo PVC.\n",
      "\n",
      "Trong document 1, tôi nhìn thấy rằng PVC được cấu hình với storageClassName. Điều này cho thấy rằng storage class quyết định loại volume được sử dụng. Vì vậy, bước đầu tiên là kiểm tra storage class có sẵn.\n",
      "\n",
      "Tiếp theo, tôi nghĩ cần giải thích cách thêm annotation vào PVC để chỉ định volume type. Trong document 3, có đề cập đến việc thêm annotation bs.csi.vngcloud.vn/volume-type với ID cụ thể. Điều này giúp hệ thống hiểu nên dùng loại volume nào.\n",
      "\n",
      "Также, tôi cần mention việc thay đổi storage class mặc định sang SSD IOPS 3000, như được cập nhật trong document 4. Khách hàng có thể cần tạo storage class mới nếu muốn tiếp tục sử dụng loại cũ.\n",
      "\n",
      "Cuối cùng, tôi phải hướng dẫn họ kiểm tra các volume type có sẵn và cách cập nhật PVC existing nếu cần thay đổi. Tôi cũng nhấn mạnh rằngلية tăng kích thước là bắt buộc, không giảm được.\n",
      "\n",
      "\n",
      "\n",
      "GENERATED RESPONSE\n",
      "\n",
      "\n",
      "Để cấu hình volume type khi dùng Persistent Volume Claim (PVC) trong VNGCloud Kubernetes Service (VKS), bạn cần thực hiện các bước sau:\n",
      "\n",
      "### 1. Kiểm tra các Storage Class có sẵn\n",
      "Trước tiên, bạn cần kiểm tra các Storage Class đang được cung cấp bởi VNGCloud. Mỗi Storage Class tương ứng với một loại volume khác nhau (ví dụ: SSD với các mức IOPS khác nhau).\n",
      "\n",
      "Bạn có thể xem danh sách Storage Class bằng lệnh:\n",
      "```bash\n",
      "kubectl get storageclass\n",
      "```\n",
      "\n",
      "### 2. Cấu hình Storage Class trong PVC\n",
      "Khi tạo PVC, bạn cần chỉ định `storageClassName` mà bạn muốn sử dụng. Đây là cách để指定 volume type mà bạn muốn dùng.\n",
      "\n",
      "Ví dụ:\n",
      "```yaml\n",
      "apiVersion: v1\n",
      "kind: PersistentVolumeClaim\n",
      "metadata:\n",
      "  name: my-pvc\n",
      "spec:\n",
      "  accessModes:\n",
      "    - ReadWriteOnce\n",
      "  resources:\n",
      "    requests:\n",
      "      storage: 20Gi\n",
      "  storageClassName: my-storage-class\n",
      "```\n",
      "\n",
      "Trong trường hợp này, bạn cần thay đổi `storageClassName` thành tên của Storage Class mà bạn muốn dùng.\n",
      "\n",
      "### 3. Thêm Annotation để chỉ định Volume Type\n",
      "Nếu bạn muốn chỉ định rõ ràng volume type, bạn có thể thêm annotation vào PVC. Ví dụ:\n",
      "```yaml\n",
      "apiVersion: v1\n",
      "kind: PersistentVolumeClaim\n",
      "metadata:\n",
      "  annotations:\n",
      "    bs.csi.vngcloud.vn/volume-type: \"vtype-xxxxxxxx-xxxx-xxxx-xxxx-xxxxxxxxxxxx\"\n",
      "  name: my-pvc\n",
      "spec:\n",
      "  accessModes:\n",
      "    - ReadWriteOnce\n",
      "  resources:\n",
      "    requests:\n",
      "      storage: 20Gi\n",
      "  storageClassName: my-storage-class\n",
      "```\n",
      "\n",
      "Thay thế `vtype-xxxxxxxx-xxxx-xxxx-xxxx-xxxxxxxxxxxx` bằng ID của volume type mà bạn muốn dùng.\n",
      "\n",
      "### 4. Kiểm tra và cập nhật PVC\n",
      "Sau khi tạo PVC, bạn có thể kiểm tra trạng thái của nó bằng lệnh:\n",
      "```bash\n",
      "kubectl get pvc\n",
      "```\n",
      "\n",
      "Nếu bạn muốn thay đổi volume type sau khi PVC đã được tạo, bạn cần chỉnh sửa annotation của PVC. Bạn có thể hacer điều này bằng lệnh:\n",
      "```bash\n",
      "kubectl edit pvc <tên-pvc>\n",
      "```\n",
      "\n",
      "### Chú ý:\n",
      "- Storage Class mặc định của VKS đã thay đổi từ SSD IOPS 200 sang SSD IOPS 3000. Nếu bạn muốn tiếp tục sử dụng SSD IOPS 200, bạn cần tạo một Storage Class mới với tên `sc-iops-200-retain`.\n",
      "- Bạn chỉ có thể tăng kích thước của PVC, không thể giảm kích thước.\n",
      "\n",
      "Nếu bạn gặp khó khăn trong việc cấu hình volume type hoặc cần thêm thông tin, vui lòng liên hệ với bộ phận hỗ trợ của VNGCloud."
     ]
    }
   ],
   "execution_count": 17
  },
  {
   "metadata": {},
   "cell_type": "code",
   "outputs": [],
   "execution_count": null,
   "source": "",
   "id": "62e7652d0138e8d2"
  }
 ],
 "metadata": {
  "kernelspec": {
   "name": "python3",
   "language": "python",
   "display_name": "Python 3 (ipykernel)"
  }
 },
 "nbformat": 5,
 "nbformat_minor": 9
}
