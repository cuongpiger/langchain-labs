{
 "cells": [
  {
   "metadata": {
    "ExecuteTime": {
     "end_time": "2025-03-13T09:04:07.223415Z",
     "start_time": "2025-03-13T09:04:07.214585Z"
    }
   },
   "cell_type": "code",
   "source": [
    "%load_ext autoreload\n",
    "%autoreload 2"
   ],
   "id": "751a1b7227b8ecfa",
   "outputs": [],
   "execution_count": 1
  },
  {
   "metadata": {},
   "cell_type": "markdown",
   "source": "# DeepSeek on VKS documents",
   "id": "61019d22f6722e41"
  },
  {
   "metadata": {},
   "cell_type": "markdown",
   "source": "## Using PostgreSQL to retrieval VKS documents\n",
   "id": "5d98521d125c81d"
  },
  {
   "metadata": {},
   "cell_type": "markdown",
   "source": "Define global variables",
   "id": "47ee0aaab9705965"
  },
  {
   "metadata": {
    "ExecuteTime": {
     "end_time": "2025-03-13T09:04:07.618741Z",
     "start_time": "2025-03-13T09:04:07.235859Z"
    }
   },
   "cell_type": "code",
   "source": [
    "import os\n",
    "\n",
    "from langchain_community.llms import VLLMOpenAI\n",
    "from langchain_core.messages import HumanMessage, SystemMessage\n",
    "\n",
    "from modules import utils\n",
    "\n",
    "from IPython.display import display, Markdown, Latex"
   ],
   "id": "435499e17b8d7875",
   "outputs": [],
   "execution_count": 2
  },
  {
   "metadata": {
    "ExecuteTime": {
     "end_time": "2025-03-13T09:04:07.684180Z",
     "start_time": "2025-03-13T09:04:07.677822Z"
    }
   },
   "cell_type": "code",
   "source": [
    "ENV_FILE_PATH = \"/Users/cuongdm8499/Me/git-cuongpiger/secret/work/vngcloud/ai-platform/env\"\n",
    "MODEL_NAME = \"deepseek-ai/DeepSeek-R1-Distill-Llama-70B\"\n",
    "MAX_TOKENS = 32700\n",
    "COLLECTION_NAME = \"my_docs\""
   ],
   "id": "7b4b30a73f4c279c",
   "outputs": [],
   "execution_count": 3
  },
  {
   "metadata": {},
   "cell_type": "markdown",
   "source": "Load environment variables",
   "id": "16eef771282068a8"
  },
  {
   "metadata": {
    "ExecuteTime": {
     "end_time": "2025-03-13T09:04:07.695342Z",
     "start_time": "2025-03-13T09:04:07.688059Z"
    }
   },
   "cell_type": "code",
   "source": "envs = utils.load_env_to_dict(ENV_FILE_PATH)",
   "id": "70b6a3827eee6b7a",
   "outputs": [],
   "execution_count": 4
  },
  {
   "metadata": {},
   "cell_type": "markdown",
   "source": "## Prepare PostgreSQL vectorstore",
   "id": "a13a02df813164ee"
  },
  {
   "metadata": {
    "ExecuteTime": {
     "end_time": "2025-03-13T09:04:08.635222Z",
     "start_time": "2025-03-13T09:04:07.719780Z"
    }
   },
   "cell_type": "code",
   "source": [
    "from langchain_postgres.vectorstores import PGVector\n",
    "from langchain_huggingface.embeddings import HuggingFaceEmbeddings\n"
   ],
   "id": "bc7e0f88c8d96ed9",
   "outputs": [],
   "execution_count": 5
  },
  {
   "metadata": {
    "ExecuteTime": {
     "end_time": "2025-03-13T09:04:20.916800Z",
     "start_time": "2025-03-13T09:04:08.639670Z"
    }
   },
   "cell_type": "code",
   "source": [
    "embeddings = HuggingFaceEmbeddings(\n",
    "    model_name=\"sentence-transformers/paraphrase-multilingual-mpnet-base-v2\",\n",
    ")"
   ],
   "id": "df958aa2db0e546a",
   "outputs": [
    {
     "name": "stderr",
     "output_type": "stream",
     "text": [
      "/opt/anaconda3/envs/llm-evaluation/lib/python3.10/site-packages/tqdm/auto.py:21: TqdmWarning: IProgress not found. Please update jupyter and ipywidgets. See https://ipywidgets.readthedocs.io/en/stable/user_install.html\n",
      "  from .autonotebook import tqdm as notebook_tqdm\n"
     ]
    }
   ],
   "execution_count": 6
  },
  {
   "metadata": {
    "ExecuteTime": {
     "end_time": "2025-03-13T09:04:21.745488Z",
     "start_time": "2025-03-13T09:04:20.924740Z"
    }
   },
   "cell_type": "code",
   "source": [
    "vector_store = PGVector(\n",
    "    embeddings=embeddings,\n",
    "    collection_name=COLLECTION_NAME,\n",
    "    connection=envs[\"POSTGRESQL_URI_2\"],\n",
    "    use_jsonb=True,\n",
    ")"
   ],
   "id": "a96773fdf0a02023",
   "outputs": [],
   "execution_count": 7
  },
  {
   "metadata": {},
   "cell_type": "markdown",
   "source": "## Retrieval",
   "id": "ba4946437525705d"
  },
  {
   "metadata": {
    "ExecuteTime": {
     "end_time": "2025-03-13T09:04:21.785546Z",
     "start_time": "2025-03-13T09:04:21.757125Z"
    }
   },
   "cell_type": "code",
   "source": "retriever = vector_store.as_retriever(search_kwargs={\"k\": 2})",
   "id": "efe2fc58ba295b87",
   "outputs": [],
   "execution_count": 8
  },
  {
   "metadata": {
    "ExecuteTime": {
     "end_time": "2025-03-13T09:04:22.170370Z",
     "start_time": "2025-03-13T09:04:21.790468Z"
    }
   },
   "cell_type": "code",
   "source": [
    "res = vector_store.similarity_search(\"VKS là gì?\")\n",
    "utils.print_documents(res)"
   ],
   "id": "6aec4e948a2c498a",
   "outputs": [
    {
     "name": "stdout",
     "output_type": "stream",
     "text": [
      "Amount of documents: 4\n",
      "Document 0:\n",
      "VKS là gì?\n",
      "\n",
      "VKS (VNGCloud Kubernetes Service) là một dịch vụ được quản lý trên VNGCloud giúp bạn đơn giản hóa quá trình triển khai và quản lý các ứng dụng dựa trên container. Kubernetes là một nền tảng mã nguồn mở được phát triển bởi Google, được sử dụng rộng rãi để quản lý và triển khai các ứng dụng container trên môi trường phân tán.\n",
      "\n",
      "Những điểm nổi bật của VKS\n",
      "\n",
      "Quản lý Control Plane hoàn toàn tự động (Fully Managed control plane): VKS sẽ giải phóng bạn khỏi gánh nặng quản lý Control Plane của Kubernetes, giúp bạn tập trung vào việc phát triển ứng dụng.\n",
      "\n",
      "Hỗ trợ các phiên bản Kubernetes mới nhất: VKS luôn cập nhật những phiên bản Kubernetes mới nhất (minor version từ 1.27, 1.28, 1.29) để đảm bảo bạn luôn tận dụng được những tính năng tiên tiến nhất.\n",
      "\n",
      "Kubernetes Networking: VKS tích hợp Calico CNI, mang lại tính hiệu quả và bảo mật cao.\n",
      "\n",
      "Upgrade seamlessly: VKS hỗ trợ nâng cấp giữa các phiên bản Kubernetes một cách dễ dàng và nhanh chóng, giúp bạn luôn cập nhật những cải tiến mới nhất.\n",
      "\n",
      "Scaling & Healing Automatically: VKS tự động mở rộng Node group khi cần thiết và tự động sửa lỗi khi node gặp vấn đề, giúp bạn tiết kiệm thời gian và công sức quản lý.\n",
      "\n",
      "Giảm chi phí và nâng cao độ tin cậy: VKS triển khai Control Plane của Kubernetes ở chế độ sẵn sàng cao và hoàn toàn miễn phí, giúp bạn tiết kiệm chi phí và nâng cao độ tin cậy cho hệ thống.\n",
      "\n",
      "Tích hợp Blockstore Native (Container Storage Interface - CSI): VKS cho phép bạn quản lý Blockstore thông qua YAML của Kubernetes, cung cấp lưu trữ bền vững cho container và hỗ trợ các tính năng quan trọng như thay đổi kích thước, thay đổi IOPS và snapshot volume.\n",
      "\n",
      "Tích hợp Load Balancer (Network Load Balancer, Application Load Balancer) thông qua các driver được tích hợp sẵn như VNGCloud Controller Mananger, VNGCloud Ingress Controller: VKS cung cấp khả năng quản lý NLB/ALB thông qua YAML của Kubernetes, giúp bạn dễ dàng expose Service trong Kubernetes ra bên ngoài.\n",
      "\n",
      "Nâng cao bảo mật: VKS cho phép bạn tạo Private Node Group với chỉ Private IP và kiểm soát quyền truy cập vào cluster thông qua tính năng Whitelist IP, đảm bảo an toàn cho hệ thống của bạn.\n",
      "\n",
      "Ngoài ra, VKS còn có các ưu điểm sau:\n",
      "\n",
      "Dễ sử dụng: VKS cung cấp giao diện đơn giản và dễ sử dụng.\n",
      "\n",
      "Chi phí hợp lý: VKS cung cấp mức giá cạnh tranh cho các dịch vụ của mình.\n",
      "\n",
      "Region\n",
      "\n",
      "Hiện tại, trên VKS, chúng tôi đang cung cấp cho bạn 2 cơ sở hạ tầng riêng biệt được đặt tại Hà Nội và Hồ Chí Minh. Bạn có thể lựa chọn sử dụng VKS trên mỗi region tùy thuộc vào vị trí và nhu cầu thực tế của bạn. Đối với 2 farm HCM03, HAN01, các thông số cụ thể cho mỗi region được chúng tôi cung cấp như sau:\n",
      "\n",
      "Farm Domain HCM03 https://vks.console.vngcloud.vn HAN01 https://vks-han-1.console.vngcloud.vn\n",
      "\n",
      "----------------------------------------------------------------------------------------------------Document 1:\n",
      "VKS\n",
      "\n",
      "VKS (VNGCloud Kubernetes Service) là một dịch vụ được quản lý trên VNGCloud giúp bạn đơn giản hóa quá trình triển khai và quản lý các ứng dụng dựa trên container. Kubernetes là một nền tảng mã nguồn mở được phát triển bởi Google, được sử dụng rộng rãi để quản lý và triển khai các ứng dụng container trên môi trường phân tán.\n",
      "\n",
      "YouTube\n",
      "\n",
      "----------------------------------------------------------------------------------------------------Document 2:\n",
      "Aug 01, 2024\n",
      "\n",
      "VKS (VNGCloud Kubernetes Service) giới thiệu bản cập nhật mới nhất cho VKS đã có sẵn, mang đến nhiều tính năng và cải tiến mới cho người dùng. Dưới đây là chi tiết về bản cập nhật:\n",
      "\n",
      "Tính năng mới:\n",
      "\n",
      "Giám sát tài nguyên VKS: Người dùng có thể theo dõi trực tiếp tình trạng hoạt động của Cluster, Node, tình trạng sử dụng CPU, RAM, Memory,... của Node thông qua các dashboard trực quan. Để hiển thị dữ liệu lên dashboard, người dùng cần cài đặt vmonitor-metric-agent vào cụm mong muốn thực hiện giám sát. Chi tiết tham khảo thêm tại đây.\n",
      "\n",
      "July 25, 2024\n",
      "\n",
      "VKS (VNGCloud Kubernetes Service) giới thiệu bản cập nhật mới nhất cho VKS đã có sẵn, mang đến nhiều cải tiến mới cho người dùng. Dưới đây là chi tiết về bản cập nhật:\n",
      "\n",
      "Cải tiến:\n",
      "\n",
      "Nâng cấp quản lý VKS thông qua Terraform: Người dùng có thể đồng thời điều chỉnh số lượng node (Number of nodes) và thay đổi số lượng node cho autoscale (Minimum/ Maximum node Autoscale) ngay trong quá trình chỉnh sửa cấu hình. Với khả năng điều chỉnh nhiều thông số cùng lúc, việc quản lý cụm Kubernetes trở nên linh hoạt và thuận tiện hơn. Chi tiết tham khảo thêm ví dụ tại đây.\n",
      "\n",
      "July 23, 2024\n",
      "\n",
      "VKS (VNGCloud Kubernetes Service) giới thiệu bản cập nhật mới nhất cho VKS đã có sẵn, mang đến nhiều cải tiến mới cho người dùng. Dưới đây là chi tiết về bản cập nhật:\n",
      "\n",
      "Cải tiến:\n",
      "\n",
      "Nâng cấp Plugin VNGCloud LoadBalancer Controller, Plugin VNGCloud Ingress Controller: Các lỗi đã được phát hiện trong các phiên bản trước đã được khắc phục, giúp hệ thống hoạt động mượt mà và tin cậy hơn.\n",
      "\n",
      "July 18, 2024\n",
      "\n",
      "VKS (VNGCloud Kubernetes Service) giới thiệu bản cập nhật mới nhất cho VKS đã có sẵn, mang đến nhiều cải tiến mới cho người dùng. Dưới đây là chi tiết về bản cập nhật:\n",
      "\n",
      "Cải tiến:\n",
      "\n",
      "Nâng cấp Plugin VNGCloud BlockStorage CSI Driver: Các lỗi đã được phát hiện trong các phiên bản trước đã được khắc phục, giúp hệ thống hoạt động mượt mà và tin cậy hơn.\n",
      "\n",
      "July 17, 2024\n",
      "\n",
      "VKS (VNGCloud Kubernetes Service) giới thiệu bản cập nhật mới nhất cho VKS đã có sẵn, mang đến nhiều cải tiến cho người dùng. Dưới đây là chi tiết về bản cập nhật:\n",
      "\n",
      "Cải tiến:\n",
      "\n",
      "Private Node Group: MTU cho các Node thuộc Private Node Group đã được cập nhật lên 1450. Điều này giúp cải thiện hiệu suất mạng cho các ứng dụng chạy trong Private Node Group.\n",
      "\n",
      "Number of nodes và AutoScale: Giờ đây bạn có thể chỉnh sửa cả hai thuộc tính này trong cùng một API. Điều này giúp đơn giản hóa việc quản lý Cluster của bạn.\n",
      "\n",
      "July 02, 2024\n",
      "\n",
      "VKS (VNGCloud Kubernetes Service) giới thiệu bản cập nhật mới nhất cho VKS đã có sẵn, mang đến nhiều tính năng và cải tiến mới cho người dùng. Dưới đây là chi tiết về bản cập nhật:\n",
      "\n",
      "Tính năng mới:\n",
      "\n",
      "Hỗ trợ Stop POC cho Cluster: Người dùng giờ đây có thể thực hiện Stop POC cho toàn bộ các tài nguyên đang được POC trên một Cluster một cách dễ dàng, thay vì phải thực hiện Stop POC riêng lẻ cho từng resource. Điều này giúp tiết kiệm thời gian và công sức khi chuyển Cluster từ tài nguyên thử nghiệm sang tài nguyên thật. Chi tiết tham khảo thêm tại đây.\n",
      "\n",
      "Cải tiến:\n",
      "\n",
      "Trạng thái Node Group: Bổ sung trạng thái \"Degraded\" để người dùng có thể theo dõi tình trạng hoạt động của Node Group một cách chính xác hơn. Trạng thái này sẽ hiển thị khi số node hoạt động ít hơn số replica thực tế.\n",
      "\n",
      "Timeout cho Cluster và Node Group: Đã thêm thời gian chờ (timeout) cho việc tạo Cluster và Node Group, cải tiến này đảm bảo VKS vận hành mượt mà và hiệu quả, đồng thời cung cấp thông tin rõ ràng và kịp thời cho người dùng. Timeout cho việc tạo Cluster là *1 giờ và cho Node Group là 3 giờ*. Nếu sau khoảng thời gian này mà Cluster hoặc Node Group của bạn chưa được tạo thành công, chúng tôi sẽ cập nhật trạng thái chúng về ERROR. Lúc này, bạn có thể thực hiện xóa và tạo Cluster, Node Group khác thay thế.\n",
      "\n",
      "KubeConfig Access: Việc truy cập vào tệp tin KubeConfig giờ chỉ được phép khi Cluster đã Active. Cải tiến này giúp người dùng tránh các lỗi cấu hình khi sử dụng Terraform để tự động hóa việc triển khai Kubernetes.\n",
      "\n",
      "June 27, 2024\n",
      "\n",
      "VKS (VNGCloud Kubernetes Service) giới thiệu bản cập nhật mới nhất cho VKS đã có sẵn, mang đến nhiều cải tiến mới cho người dùng. Dưới đây là chi tiết về bản cập nhật:\n",
      "\n",
      "Cải tiến:\n",
      "\n",
      "Nâng cấp Plugin VNGCloud LoadBalancer Controller, Plugin VNGCloud Ingress Controller: Các lỗi đã được phát hiện trong các phiên bản trước đã được khắc phục, giúp hệ thống hoạt động mượt mà và tin cậy hơn.\n",
      "\n",
      "June 19, 2024\n",
      "\n",
      "VKS (VNGCloud Kubernetes Service) giới thiệu bản cập nhật mới nhất cho VKS đã có sẵn, mang đến nhiều cải tiến mới cho người dùng. Dưới đây là chi tiết về bản cập nhật:\n",
      "\n",
      "Cải tiến:\n",
      "\n",
      "Nâng cấp tính năng thiết lập kích cỡ PVC (Persistent Volume Claim Size): Người dùng giờ đây có thể chỉ định kích cỡ tối thiểu cho ổ đĩa CSI là *1GB* thay vì kích cỡ tối thiểu là 20GB như trước đây. Chi tiết bạn có thể tham khảo thêm tại Volume và Integrate with Container Storage Interface.\n",
      "\n",
      "Thay đổi Storage Class mặc định sử dụng cho Cluster: thay đổi mặc định từ ổ đĩa loại SSD - IOPS 200 thành mặc định ổ đĩa loại SSD - IOPS 3000.\n",
      "\n",
      "Nâng cấp Plugin VNGCloud LoadBalancer Controller, Plugin VNGCloud Ingress Controller: cải tiến plugin giúp tránh trùng lặp việc đặt tên Load Balancer.\n",
      "\n",
      "Chú ý:\n",
      "\n",
      "Do Storage Class mặc định cũ đã được chúng tôi xóa khỏi hệ thống, nếu bạn muốn tiếp tục sử dụng và thực hiện resize storage class này, bạn có thể:\n",
      "\n",
      "Tạo Storage Class có tên sc-iops-200-retain với Volume Type mà bạn mong muốn.\n",
      "\n",
      "Resize Storage Class thông qua lệnh:\n",
      "\n",
      "kubectl patch pvc sc-iops-200-retain -p '{\"spec\":{\"resources\":{\"requests\":{\"storage\":\"50Gi\"\\}}\\}}'\n",
      "\n",
      "Chi tiết tham khảo thêm tại Integrate with Container Storage Interface.\n",
      "\n",
      "June 12, 2024\n",
      "\n",
      "VKS (VNGCloud Kubernetes Service) giới thiệu bản cập nhật mới nhất cho VKS đã có sẵn, mang đến nhiều tính năng và cải tiến mới cho người dùng. Dưới đây là chi tiết về bản cập nhật:\n",
      "\n",
      "Tính năng mới:\n",
      "\n",
      "Hỗ trợ người dùng làm việc với VKS thông qua Terraform: Người dùng có thể dễ dàng khởi tạo Cluster và Node Group trong VKS bằng Terraform. Chi tiết tham khảo thêm tại đây.\n",
      "\n",
      "Cải tiến:\n",
      "\n",
      "Nâng cấp Plugin VNGCloud LoadBalancer Controller: Bổ sung Annotation để cấu hình Load Balancer hỗ trợ Proxy Protocol. Chi tiết tham khảo thêm tại đây.\n",
      "\n",
      "May 30, 2024\n",
      "\n",
      "Chúng tôi vô cùng trân trọng thông báo, bản release chính thức (General Availability) của dịch vụ VNGCloud Kubernetes Service đã có sẵn. Với bản release chính thức này, ngoài các tính năng mà chúng tôi đã cung cấp trên các bản release trước đó, phiên bản này sẽ mang đến nhiều tính năng và cải tiến mới cho người dùng. Dưới đây là chi tiết về bản cập nhật:\n",
      "\n",
      "Tính năng mới:\n",
      "\n",
      "Re-activate : VKS cho phép bạn thực hiện yêu cầu hệ thống tự động khởi tạo lại IAM Service Account mặc định khi bạn xóa nhầm hoặc thay đổi thông tin IAM Service Account mặc định đã khởi tạo trước đó. IAM Service Account mặc định là IAM Service Account được hệ thống VKS tự động khởi tạo khi bạn bắt đầu làm việc với VKS, chúng tôi sẽ sử dụng IAM Service Account này để khởi tạo các resource cho Cluster của bạn.\n",
      "\n",
      "----------------------------------------------------------------------------------------------------Document 3:\n",
      "Sử dụng VKS với Terraform\n",
      "\n",
      "Terraform là gì?\n",
      "\n",
      "Terraform là một cơ sở hạ tầng nguồn mở dưới dạng công cụ mã cho phép người dùng quản lý cơ sở hạ tầng của họ một cách dễ dàng và hiệu quả trên các nền tảng đám mây khác nhau, chẳng hạn như VNG Cloud, AWS, Google Cloud và Azure. Máy chủ Terraform đề cập đến phiên bản của công cụ Terraform đang chạy trên một máy chủ hoặc máy cụ thể. Đây là nơi mã cơ sở hạ tầng được viết và thực thi, cho phép người dùng tạo, sửa đổi và hủy tài nguyên trên nền tảng đám mây.\n",
      "\n",
      "Bản thân Terraform không có giao diện người dùng đồ họa, thay vào đó người dùng tương tác với nó bằng giao diện dòng lệnh. Terraform yêu cầu tài khoản và khóa của nhà cung cấp đám mây được định cấu hình cùng với tệp cấu hình Terraform để thực thi cơ sở hạ tầng dưới dạng mã. Ngoài ra, Terraform có thể hoạt động trong môi trường nhóm nơi nhiều người dùng có thể cộng tác trên cùng một cơ sở mã cơ sở hạ tầng, khiến nó trở thành một công cụ mạnh mẽ và linh hoạt để quản lý cơ sở hạ tầng đám mây.\n",
      "\n",
      "Các bước thực hiện\n",
      "\n",
      "Để khởi tạo một Cluster Kubernetes bằng Terraform, bạn cần thực hiện các bước sau:\n",
      "\n",
      "Truy cập IAM Portal tại đây, thực hiện tạo Service Account với quyền hạn VKS Full Access. Cụ thể, tại trang IAM, bạn có thể:\n",
      "\n",
      "Chọn \"Create a Service Account\", điền tên cho Service Account và nhấn Next Step để gắn quyền cho Service Account.\n",
      "\n",
      "Tìm và chọn Policy: VKSFullAccess sau đó nhấn \"Create a Service Account\" để tạo Service Account, Policy: VKSFullAccess do VNG Cloud tạo ra, bạn không thể xóa các policy này.\n",
      "\n",
      "Sau khi tạo thành công bạn cần phải lưu lại Client_ID và Secret_Key của Service Account để thực hiện bước tiếp theo.\n",
      "\n",
      "Truy cập VKS Portal tại đây, thực hiện Activate dịch vụ VKS ở tab Overview. Hãy chờ đợi tới khi chúng tôi khởi tạo thành công tài khoản VKS của bạn.\n",
      "\n",
      "Cài đặt Terraform:\n",
      "\n",
      "Tải xuống và cài đặt Terraform cho hệ điều hành của bạn từ https://developer.hashicorp.com/terraform/install.\n",
      "\n",
      "Khởi tạo cấu hình Terraform:\n",
      "\n",
      "Tạo tệp variable.tf và khai báo thông tin Service Account trong file này.\n",
      "\n",
      "Tạo tệp main.tf và định nghĩa các tài nguyên Kubernetes Cluster mà bạn muốn tạo.\n",
      "\n",
      "Ví dụ:\n",
      "\n",
      "Tệp variable.tf:bạn cần thay thế Client ID và Client Secret đã khởi tạo ở bước 1 ở file này.\n",
      "\n",
      "variable \"client_id\" { type = string default = \"xxxxxxxx-xxxx-xxxx-xxxx-xxxxxxxxxxxx\" } variable \"client_secret\" { type = string default = \"xxxxxxxx-xxxx-xxxx-xxxx-xxxxxxxxxxxx\" }\n",
      "\n",
      "Trên file main.tf, bạn cần có thể thêm resource để tạo Cluster/ Node Group:\n",
      "\n",
      "Tạo Cluster my-vks-cluster và Node Group my-nodegroup độc lập:\n",
      "\n",
      "```markup resource \"vngcloud_vks_cluster\" \"primary\" { name = \"my-cluster\" cidr = \"172.16.0.0/16\" vpc_id = \"net-xxxxxxxx-xxxx-xxxxx-xxxx-xxxxxxxxxxxx\" subnet_id = \"sub-xxxxxxxx-xxxx-xxxxx-xxxx-xxxxxxxxxxxx\" }\n",
      "\n",
      "resource \"vngcloud_vks_cluster_node_group\" \"primary\" { name= \"my-nodegroup\" ssh_key_id= \"ssh-xxxxxxxx-xxxx-xxxxx-xxxx-xxxxxxxxxxxx\" cluster_id= vngcloud_vks_cluster.primary.id } ```\n",
      "\n",
      "Tạo Cluster với Default Node Group\n",
      "\n",
      "markup resource \"vngcloud_vks_cluster\" \"primary\" { name = \"my-cluster\" cidr = \"172.16.0.0/16\" vpc_id = \"net-xxxxxxxx-xxxx-xxxxx-xxxx-xxxxxxxxxxxx\" subnet_id = \"sub-xxxxxxxx-xxxx-xxxxx-xxxx-xxxxxxxxxxxx\" node_group { name= \"my-nodegroup\" ssh_key_id= \"ssh-xxxxxxxx-xxxx-xxxxx-xxxx-xxxxxxxxxxxx\" } }\n",
      "\n",
      "Chú ý:\n",
      "\n",
      "Chúng tôi khuyên bạn nên tạo và quản lý các Cluster, Node Group dưới dạng resource riêng biệt, như trong ví dụ bên dưới. Điều này cho phép bạn thêm hoặc xóa các Node Group mà không cần tạo lại toàn bộ Cluster. Nếu bạn khai báo trực tiếp Node Group Default trong tài nguyên vngcloud_vks_cluster, bạn không thể xóa chúng mà không tạo lại chính Cluster đó.\n",
      "\n",
      "Trong file main.tf, để khởi tạo một cluster với một node group thành công, bạn bắt buộc cần nhập thông tin của 4 field sau:\n",
      "\n",
      "vpc_id = \"net-xxxxxxxx-xxxx-xxxxx-xxxx-xxxxxxxxxxxx\" subnet_id = \"sub-xxxxxxxx-xxxx-xxxxx-xxxx-xxxxxxxxxxxx\" ssh_key_id= \"ssh-xxxxxxxx-xxxx-xxxxx-xxxx-xxxxxxxxxxxx\"\n",
      "\n",
      "Các ví dụ tham khảo\n",
      "\n",
      "Example Usage 1 - Create a Cluster with Network type CALICO OVERLAY and a Node Group with AutoScale Mode\n",
      "\n",
      "``` terraform { required_providers { vngcloud = { source = \"vngcloud/vngcloud\" version = \"1.2.7\" } } } resource \"vngcloud_vks_cluster\" \"primary\" { name = \"cluster-demo\" description = \"Cluster create via terraform\" version = \"v1.29.1\" cidr = \"172.16.0.0/16\" enable_private_cluster = false network_type = \"CALICO\" vpc_id = \"net-70ef12d4-d619-43fc-88f0-1c1511683123\" subnet_id = \"sub-0725ef54-a32e-404c-96f2-34745239c123\" enabled_load_balancer_plugin = true enabled_block_store_csi_plugin = true }\n",
      "\n",
      "resource \"vngcloud_vks_cluster_node_group\" \"primary\" { cluster_id = vngcloud_vks_cluster.primary.id name = \"nodegroup1\" num_nodes = 3 auto_scale_config { min_size = 0 max_size = 5 } upgrade_config { strategy = \"SURGE\" max_surge = 1 max_unavailable = 0 } image_id = \"img-108b3a77-ab58-4000-9b3e-190d0b4b07fc\" flavor_id = \"flav-9e88cfb4-ec31-4ad4-8ba5-243459f6d123\" disk_size = 50 disk_type = \"vtype-61c3fc5b-f4e9-45b4-8957-8aa7b6029018\" enable_private_nodes = false ssh_key_id= \"ssh-f923c53c-cba7-4131-9f86-175d04ae2123\" security_groups = [\"secg-faf05344-fbd6-4f10-80a2-cda08d15ba5e\"] labels = { \"test\" = \"terraform\" } taint { key = \"key1\" value = \"value1\" effect = \"PreferNoSchedule\" } } ```\n",
      "\n",
      "Example Usage 2 - Create a Cluster with Network type CILIUM OVERLAY and a Node Group with AutoScale Mode\n",
      "\n",
      "``` terraform { required_providers { vngcloud = { source = \"vngcloud/vngcloud\" version = \"1.2.7\" } } } resource \"vngcloud_vks_cluster\" \"primary\" { name = \"cluster-demo\" description = \"Cluster create via terraform\" version = \"v1.29.1\" cidr = \"172.16.0.0/16\" enable_private_cluster = false network_type = \"CILIUM_OVERLAY\" vpc_id = \"net-70ef12d4-d619-43fc-88f0-1c1511683123\" subnet_id = \"sub-0725ef54-a32e-404c-96f2-34745239c123\" enabled_load_balancer_plugin = true enabled_block_store_csi_plugin = true }\n",
      "\n",
      "resource \"vngcloud_vks_cluster_node_group\" \"primary\" { cluster_id = vngcloud_vks_cluster.primary.id name = \"nodegroup1\" num_nodes = 3 auto_scale_config { min_size = 0 max_size = 5 } upgrade_config { strategy = \"SURGE\" max_surge = 1 max_unavailable = 0 } image_id = \"img-108b3a77-ab58-4000-9b3e-190d0b4b07fc\" flavor_id = \"flav-9e88cfb4-ec31-4ad4-8ba5-243459f6d123\" disk_size = 50 disk_type = \"vtype-61c3fc5b-f4e9-45b4-8957-8aa7b6029018\" enable_private_nodes = false ssh_key_id= \"ssh-f923c53c-cba7-4131-9f86-175d04ae2123\" security_groups = [\"secg-faf05344-fbd6-4f10-80a2-cda08d15ba5e\"] labels = { \"test\" = \"terraform\" } taint { key = \"key1\" value = \"value1\" effect = \"PreferNoSchedule\" } } ```\n",
      "\n",
      "Example Usage 3 - Create a Cluster with Network type CILIUM VPC Native Routing and a Node Group with AutoScale Mode\n",
      "\n",
      "----------------------------------------------------------------------------------------------------"
     ]
    }
   ],
   "execution_count": 9
  },
  {
   "metadata": {},
   "cell_type": "markdown",
   "source": "## Integrated with DeepSeek R1",
   "id": "91bdebe4b088b89d"
  },
  {
   "metadata": {
    "ExecuteTime": {
     "end_time": "2025-03-13T09:04:22.485737Z",
     "start_time": "2025-03-13T09:04:22.175767Z"
    }
   },
   "cell_type": "code",
   "source": [
    "from langchain_openai import ChatOpenAI\n",
    "from langchain_core.prompts import ChatPromptTemplate"
   ],
   "id": "e581c060125b4cd1",
   "outputs": [],
   "execution_count": 10
  },
  {
   "metadata": {
    "ExecuteTime": {
     "end_time": "2025-03-13T09:04:22.535256Z",
     "start_time": "2025-03-13T09:04:22.490801Z"
    }
   },
   "cell_type": "code",
   "source": [
    "# Connect to vLLM API\n",
    "llm = ChatOpenAI(\n",
    "    openai_api_key=\"EMPTY\",\n",
    "    openai_api_base=envs['VLLM_HOST_URL_2'] + \"/v1/\",\n",
    "    model_name=MODEL_NAME,\n",
    "    max_tokens=MAX_TOKENS,\n",
    "    streaming=True,\n",
    ")\n",
    "\n",
    "prompt = ChatPromptTemplate.from_template(\"\"\"\n",
    "Bạn là một trợ lí ảo nhằm trả lời các CÂU HỎI cho khách hàng của VNGCloud.\n",
    "Câu trả lời của bạn phải có liên quan đến NGỮ CẢNH được cung cấp. Nếu không liên quan hãy yêu cầu cung cấp thêm thông tin.\n",
    "Bạn PHẢI trả lời bằng TIẾNG VIỆT\n",
    "\n",
    "CÂU HỎI: {query}\n",
    "\n",
    "NGỮ CẢNH:\n",
    "{context}\n",
    "\n",
    "TRẢ LỜI:\n",
    "\"\"\")\n",
    "\n",
    "chain = prompt | llm"
   ],
   "id": "19665e3cffbed612",
   "outputs": [],
   "execution_count": 11
  },
  {
   "metadata": {},
   "cell_type": "markdown",
   "source": "## Prepare the context",
   "id": "bc5367669a025ea5"
  },
  {
   "metadata": {
    "ExecuteTime": {
     "end_time": "2025-03-13T09:04:22.733620Z",
     "start_time": "2025-03-13T09:04:22.540313Z"
    }
   },
   "cell_type": "code",
   "source": [
    "query = \"VKS là gì?\"\n",
    "context = utils.from_documents_to_context(vector_store.similarity_search(query))\n",
    "\n",
    "display(Markdown(context[:1000]))"
   ],
   "id": "67d83d38b35681f3",
   "outputs": [
    {
     "data": {
      "text/plain": [
       "<IPython.core.display.Markdown object>"
      ],
      "text/markdown": "- Document 1:\nVKS là gì?\n\nVKS (VNGCloud Kubernetes Service) là một dịch vụ được quản lý trên VNGCloud giúp bạn đơn giản hóa quá trình triển khai và quản lý các ứng dụng dựa trên container. Kubernetes là một nền tảng mã nguồn mở được phát triển bởi Google, được sử dụng rộng rãi để quản lý và triển khai các ứng dụng container trên môi trường phân tán.\n\nNhững điểm nổi bật của VKS\n\nQuản lý Control Plane hoàn toàn tự động (Fully Managed control plane): VKS sẽ giải phóng bạn khỏi gánh nặng quản lý Control Plane của Kubernetes, giúp bạn tập trung vào việc phát triển ứng dụng.\n\nHỗ trợ các phiên bản Kubernetes mới nhất: VKS luôn cập nhật những phiên bản Kubernetes mới nhất (minor version từ 1.27, 1.28, 1.29) để đảm bảo bạn luôn tận dụng được những tính năng tiên tiến nhất.\n\nKubernetes Networking: VKS tích hợp Calico CNI, mang lại tính hiệu quả và bảo mật cao.\n\nUpgrade seamlessly: VKS hỗ trợ nâng cấp giữa các phiên bản Kubernetes một cách dễ dàng và nhanh chóng, giúp bạn luôn cập nhật những cải "
     },
     "metadata": {},
     "output_type": "display_data"
    }
   ],
   "execution_count": 12
  },
  {
   "metadata": {
    "ExecuteTime": {
     "end_time": "2025-03-13T09:05:16.488359Z",
     "start_time": "2025-03-13T09:04:22.741325Z"
    }
   },
   "cell_type": "code",
   "source": [
    "query = \"VKS là gì?\"\n",
    "\n",
    "print(\"THINKING...\")\n",
    "for chunk in chain.stream({\"query\": query,\n",
    "                           \"context\": utils.from_documents_to_context(vector_store.similarity_search(query))}):\n",
    "    if chunk.content.strip() == \"</think>\":\n",
    "        print(\"\\n\\n\\nGENERATED RESPONSE\")\n",
    "        continue\n",
    "\n",
    "    print(chunk.content, end=\"\", flush=True)"
   ],
   "id": "4059545922116ad1",
   "outputs": [
    {
     "name": "stdout",
     "output_type": "stream",
     "text": [
      "THINKING...\n",
      "Được yêu cầu trả lời câu hỏi \"VKS là gì?\" tôi cần tìm hiểu thông tin từ các tài liệu cung cấp. Tài liệu 1 giải thích rõ VKS là dịch vụ Kubernetes được quản lý của VNGCloud, giúp đơn giản hóa việc triển khai và quản lý ứng dụng container. It nhấn mạnh các tính năng như quản lý tự động, hỗ trợ các phiên bản mới, tích hợp Calico CNI, và các tùy chọn mở rộng tự động.\n",
      "\n",
      "Tài liệu 2 và 3 cũng định nghĩa VKS giống như Document 1, nhưng thêm các cập nhật tính năng mới như giám sát tài nguyên, tích hợp Terraform, cải tiến các plugin và chức năng mới như stop POC. Tài liệu 4 đi sâu vào cách sử dụng Terraform với VKS, hướng dẫn các bước tạo cluster và node group, cung cấp ví dụ cụ thể.\n",
      "\n",
      "Từ các thông tin này, tôi hiểu VKS không chỉ là một dịch vụ Kubernetes thông thường mà còn được tích hợp nhiều tính năng hiện đại, hỗ trợ quản lý kolay dàng và tối ưu hóa chi phí. Vì vậy, trả lời cần bao gồm định nghĩa, các điểm nổi bật và maybe một số cập nhật mới để khách hàng hình dung đầy đủ về dịch vụ.\n",
      "\n",
      "\n",
      "\n",
      "GENERATED RESPONSE\n",
      "\n",
      "\n",
      "**VKS (VNGCloud Kubernetes Service)** là dịch vụ quản lý Kubernetes trên nền tảng đám mây của VNG Cloud. Dịch vụ này giúp đơn giản hóa quá trình triển khai và quản lý các ứng dụng container bằng cách cung cấp một giải pháp mạnh mẽ và dễ sử dụng.\n",
      "\n",
      "**Những điểm nổi bật của VKS:**\n",
      "\n",
      "1. **Quản lý tự động (Fully Managed Control Plane):** VKS xử lý việc quản lý Kubernetes Control Plane, giúp bạn tập trung vào phát triển ứng dụng.\n",
      "\n",
      "2. **Hỗ trợ các phiên bản Kubernetes mới nhất:** Cập nhật liên tục các phiên bản Kubernetes mới để bạn tận dụng các tính năng tiên tiến.\n",
      "\n",
      "3. **Tích hợp Calico CNI:** Cải thiện hiệu suất và bảo mật mạng.\n",
      "\n",
      "4. **Nâng cấp dễ dàng:** Hỗ trợ nâng cấp phiên bản Kubernetes một cách nhanh chóng và không gây gián đoạn.\n",
      "\n",
      "5. **Tự động mở rộng và chữa lỗi:** Tự động điều chỉnh số lượng node và khắc phục lỗi khi có vấn đề xảy ra.\n",
      "\n",
      "6. **Giảm chi phí và tăng độ tin cậy:** Deploy Control Plane với chế độ sẵn sàng cao miễn phí.\n",
      "\n",
      "7. **Tích hợp Blockstore và Load Balancer:** Quản lý lưu trữ và cân bằng tải một cách linh hoạt.\n",
      "\n",
      "8. **Bảo mật nâng cao:** Hỗ trợ Private Node Group và kiểm soát truy cập bằng Whitelist IP.\n",
      "\n",
      "VKS hiện tại có sẵn tại hai région là Hà Nội và Hồ Chí Minh, cho phép bạn lựa chọn vị trí phù hợp với nhu cầu của mình.\n",
      "\n",
      "Hi vọng thông tin này hữu ích! Nếu có thêm câu hỏi, đừng ngần ngại hỏi tôi. 😊"
     ]
    }
   ],
   "execution_count": 13
  },
  {
   "metadata": {
    "ExecuteTime": {
     "end_time": "2025-03-13T09:06:01.926444Z",
     "start_time": "2025-03-13T09:05:16.496815Z"
    }
   },
   "cell_type": "code",
   "source": [
    "query = \"Làm sao để expose service trong VKS?\"\n",
    "\n",
    "print(\"THINKING...\")\n",
    "for chunk in chain.stream({\"query\": query,\n",
    "                           \"context\": utils.from_documents_to_context(vector_store.similarity_search(query))}):\n",
    "    if chunk.content.strip() == \"</think>\":\n",
    "        print(\"\\n\\n\\nGENERATED RESPONSE\")\n",
    "        continue\n",
    "\n",
    "    print(chunk.content, end=\"\", flush=True)"
   ],
   "id": "793703c5a99bc82f",
   "outputs": [
    {
     "name": "stdout",
     "output_type": "stream",
     "text": [
      "THINKING...\n",
      "Để expose một service trong VKS, bạn cần tạo một Kubernetes Service và expose nó thông qua một số phương pháp như ClusterIP, NodePort, LoadBalancer hoặc Ingress. Dưới đây là các bước tổng quát để expose service:\n",
      "\n",
      "1. **Tạo Kubernetes Service:**\n",
      "   - Sử dụng file định nghĩa YAML để tạo Service. Ví dụ:\n",
      "\n",
      "     ```yaml\n",
      "     apiVersion: v1\n",
      "     kind: Service\n",
      "     metadata:\n",
      "       name: my-service\n",
      "     spec:\n",
      "       selector:\n",
      "         app: my-app\n",
      "       ports:\n",
      "       - name: http\n",
      "         port: 80\n",
      "         targetPort: 8080\n",
      "       type: LoadBalancer\n",
      "     ```\n",
      "\n",
      "2. **Áp dụng cấu hình:**\n",
      "   - Chạy lệnh `kubectl apply -f service.yaml` để tạo Service.\n",
      "\n",
      "3. **Kiểm tra trạng thái:**\n",
      "   - Sử dụng `kubectl get svc` để xem thông tin Service và địa chỉ IP hoặc DNS được gán.\n",
      "\n",
      "4. **Truy cập Service:**\n",
      "   - Tùy thuộc vào loại Service:\n",
      "     - **LoadBalancer:** Truy cập qua địa chỉ IP 外部 được cung cấp.\n",
      "     - **NodePort:** Truy cập qua cổng được chỉ định trên tất cả các Node.\n",
      "     - **Ingress:** Cài đặt Ingress Controller và sử dụng đường dẫn được định義.\n",
      "\n",
      "Để biết thêm thông tin chi tiết, bạn có thể tham khảo tài liệu chính thức của Kubernetes về việc expose service.\n",
      "\n",
      "\n",
      "\n",
      "GENERATED RESPONSE\n",
      "\n",
      "\n",
      "Để expose một service trong VKS, bạn cần tạo một Kubernetes Service và expose nó qua LoadBalancer. Dưới đây là các bước chi tiết:\n",
      "\n",
      "1. **Tạo Service YAML:**\n",
      "   - Tạo một file YAML để định nghĩa Service của bạn. Ví dụ:\n",
      "\n",
      "     ```yaml\n",
      "     apiVersion: v1\n",
      "     kind: Service\n",
      "     metadata:\n",
      "       name: my-service\n",
      "     spec:\n",
      "       selector:\n",
      "         app: my-app\n",
      "       ports:\n",
      "       - name: http\n",
      "         port: 80\n",
      "         targetPort: 8080\n",
      "       type: LoadBalancer\n",
      "     ```\n",
      "\n",
      "2. **Tạo Service:**\n",
      "   - Chạy lệnh sau để tạo Service:\n",
      "\n",
      "     ```\n",
      "     kubectl apply -f service.yaml\n",
      "     ```\n",
      "\n",
      "3. **Kiểm tra Service:**\n",
      "   - Sử dụng lệnh `kubectl get svc` để xem thông tin về Service. Bạn sẽ thấyịa chỉ IP LoadBalancer được gán.\n",
      "\n",
      "4. **Truy cập Service:**\n",
      "   - Sử dụng địa chỉ IP và cổng được chỉ định để truy cập dịch vụ của bạn qua mạng ngoài.\n",
      "\n",
      "Để biết thêm chi tiết, vui lòng tham khảo documentation của Kubernetes về việc expose service."
     ]
    }
   ],
   "execution_count": 14
  },
  {
   "metadata": {
    "ExecuteTime": {
     "end_time": "2025-03-13T09:06:16.486565Z",
     "start_time": "2025-03-13T09:06:01.933732Z"
    }
   },
   "cell_type": "code",
   "source": [
    "query = \"Hoàng Sa và Trường Sa là của ai?\"\n",
    "\n",
    "print(\"THINKING...\")\n",
    "for chunk in chain.stream({\"query\": query,\n",
    "                           \"context\": utils.from_documents_to_context(vector_store.similarity_search(query))}):\n",
    "    if chunk.content.strip() == \"</think>\":\n",
    "        print(\"\\n\\n\\nGENERATED RESPONSE\")\n",
    "        continue\n",
    "\n",
    "    print(chunk.content, end=\"\", flush=True)"
   ],
   "id": "4fdd6c4add382759",
   "outputs": [
    {
     "name": "stdout",
     "output_type": "stream",
     "text": [
      "THINKING...\n",
      "Được rồi, systems cần phân tích câu hỏi từ người dùng và ngôn từ trả lời phù hợp. Khách hàng hỏi về chủ quyền Hoàng Sa và Trường Sa, một vấn đề nhạy cảm và quan trọng ở Việt Nam. Tuy nhiên, các document cung cấp đều liên quan đến công nghệ và Kubernetes, không hề nhắc đến địa lý hay chính trị. Vì vậy, tôi không thể đưa ra câu trả lời có liên quan dựa trên các thông tin đã có.월부터 phải yêu cầu khách hàng cung cấp thêm thông tin hoặc chuyển hướng câu hỏi sang chủ đề liên quan đến kỹ thuật nếu có thể.\n",
      "\n",
      "\n",
      "\n",
      "GENERATED RESPONSE\n",
      "\n",
      "\n",
      "Câu hỏi của bạn không liên quan đến các tài liệu được cung cấp. Vui lòng cung cấp thêm thông tin hoặc hỏi về các chủ đề kỹ thuật liên quan đến VNGCloud nếu bạn cần hỗ trợ."
     ]
    }
   ],
   "execution_count": 15
  },
  {
   "metadata": {
    "ExecuteTime": {
     "end_time": "2025-03-13T09:07:10.615206Z",
     "start_time": "2025-03-13T09:06:16.498426Z"
    }
   },
   "cell_type": "code",
   "source": [
    "query = \"Tạo cho tôi PVC 20Gb trong vks\"\n",
    "\n",
    "print(\"THINKING...\")\n",
    "for chunk in chain.stream({\"query\": query,\n",
    "                           \"context\": utils.from_documents_to_context(vector_store.similarity_search(query))}):\n",
    "    if chunk.content.strip() == \"</think>\":\n",
    "        print(\"\\n\\n\\nGENERATED RESPONSE\")\n",
    "        continue\n",
    "\n",
    "    print(chunk.content, end=\"\", flush=True)"
   ],
   "id": "d1eeb23c809491b0",
   "outputs": [
    {
     "name": "stdout",
     "output_type": "stream",
     "text": [
      "THINKING...\n",
      "Được yêu cầu tạo PVC 20GB trong VKS. Đầu tiên xem xét các tài liệuêtre cung cấp.\n",
      "\n",
      "Trong Document 1, có thông tin về việc nâng cấp PVC, cho phép kích thước tối thiểu là 1GB. Điều này chứng tỏ PVC 20GB là khả thi.\n",
      "\n",
      "Document 2 và Document 4 hướng dẫn cách tạo PVC thông qua file YAML, bao gồm việc thêm tham số isPOC và cách cấu trúc file YAML.\n",
      "\n",
      "Từ đó, tôi biết cần tạo file YAML với storage class và kích thước 20GB, đồng thời thêm tham số isPOC: \"true\" nếu cần sử dụng ví POC.\n",
      "\n",
      "Kết hợp các thông tin, soạn thảo file YAML phù hợp và hướng dẫn khách hàng áp dụng.\n",
      "\n",
      "\n",
      "\n",
      "GENERATED RESPONSE\n",
      "\n",
      "\n",
      "Để tạo Persistent Volume Claim (PVC) 20GB trong VNGCloud Kubernetes Service (VKS), bạn có thể thực hiện theo các bước sau đây:\n",
      "\n",
      "### 1. Tạo file YAML cho PVC\n",
      "Tạo một file có tên `pvc-20gb.yaml` với nội dung như sau:\n",
      "\n",
      "```yaml\n",
      "apiVersion: v1\n",
      "kind: PersistentVolumeClaim\n",
      "metadata:\n",
      "  name: pvc-20gb\n",
      "spec:\n",
      "  accessModes:\n",
      "    - ReadWriteOnce\n",
      "  resources:\n",
      "    requests:\n",
      "      storage: 20Gi\n",
      "  storageClassName: my-expansion-storage-class\n",
      "```\n",
      "\n",
      "### 2. Áp dụng file YAML để tạo PVC\n",
      "Chạy lệnh sau đây để tạo PVC:\n",
      "\n",
      "```bash\n",
      "kubectl apply -f pvc-20gb.yaml\n",
      "```\n",
      "\n",
      "### 3. Kiểm tra trạng thái PVC\n",
      "Sau khi chạy lệnh, bạn có thể kiểm tra trạng thái của PVC bằng cách chạy:\n",
      "\n",
      "```bash\n",
      "kubectl get pvc\n",
      "```\n",
      "\n",
      "Bạn sẽ thấy PVC mới được tạo với tên `pvc-20gb` và trạng thái `Bound`.\n",
      "\n",
      "### 4. Sử dụng PVC trong Pod\n",
      "Để sử dụng PVC này trong một Pod, bạn cần tạo một file YAML дополнительного cho Pod và tham chiếu đến PVC. Dưới đây là một ví dụ:\n",
      "\n",
      "```yaml\n",
      "apiVersion: v1\n",
      "kind: Pod\n",
      "metadata:\n",
      "  name: my-pod\n",
      "spec:\n",
      "  containers:\n",
      "    - name: my-container\n",
      "      image: nginx\n",
      "      volumeMounts:\n",
      "        - mountPath: /var/lib/www/html\n",
      "          name: my-volume\n",
      "  volumes:\n",
      "    - name: my-volume\n",
      "      persistentVolumeClaim:\n",
      "        claimName: pvc-20gb\n",
      "```\n",
      "\n",
      "Chạy lệnh sau để tạo Pod:\n",
      "\n",
      "```bash\n",
      "kubectl apply -f pod.yaml\n",
      "```\n",
      "\n",
      "### Lưu ý:\n",
      "- Persistent Volume Claim (PVC) được tạo sẽ dùng storage class mặc định hoặc storage class do bạn chỉ định.\n",
      "- Nếu bạn muốn tạo PVC với các tùy chọn khác nhau, bạn có thể chỉnh sửa các tham số trong file YAML theo yêu cầu.\n",
      "\n",
      "Nếu bạn cần thêm thông tin chi tiết hoặc gặp khó khăn trong quá trình tạo PVC, vui lòng liên hệ với bộ phận hỗ trợ của VNGCloud để được giúp đỡ."
     ]
    }
   ],
   "execution_count": 16
  },
  {
   "metadata": {
    "ExecuteTime": {
     "end_time": "2025-03-13T09:08:35.515918Z",
     "start_time": "2025-03-13T09:07:10.632848Z"
    }
   },
   "cell_type": "code",
   "source": [
    "query = \"Làm sao để cấu hình volume type khi dùng pvc trong vks\"\n",
    "\n",
    "print(\"THINKING...\")\n",
    "for chunk in chain.stream({\"query\": query,\n",
    "                           \"context\": utils.from_documents_to_context(vector_store.similarity_search(query))}):\n",
    "    if chunk.content.strip() == \"</think>\":\n",
    "        print(\"\\n\\n\\nGENERATED RESPONSE\")\n",
    "        continue\n",
    "\n",
    "    print(chunk.content, end=\"\", flush=True)"
   ],
   "id": "5a8b25886a6b74d",
   "outputs": [
    {
     "name": "stdout",
     "output_type": "stream",
     "text": [
      "THINKING...\n",
      "Được rồi, tôi sắp xử lý câu hỏi của khách hàng về việc cấu hình volume type khi dùng PVC trong VKS. Đầu tiên, tôi cần xem qua các Document mà khách hàng đã cung cấp để tìm thông tin liên quan.\n",
      "\n",
      "Trong Document 1, tôi thấy có một ví dụ về việc tạo PVC và Pod. Ở phần spec của PVC, có trường storageClassName được chỉ định là \"my-expansion-storage-class\". Điều này ám chỉ rằng để cấu hình volume type, chúng ta cần định nghĩa StorageClass phù hợp.\n",
      "\n",
      "Document 4 nhắc đến việc thay đổi mặc định Storage Class từ IOPS 200 sang 3000. Điều này cho thấy rằng StorageClass được cấu hình để指定 volume type dựa trên IOPS hoặc các thông số khác.\n",
      "\n",
      "Từ Document 3, tôi thấy có một phần về việc thêm annotation vào PVC để chỉ định volume type ID. Điều này cho thấy rằng ngoài việc định nghĩa StorageClass, việc thêm annotation có thể là một cách để chỉ định volume type cụ thể.\n",
      "\n",
      "Vậy, để cấu hình volume type khi dùng PVC trong VKS, cần làm hai việc:\n",
      "\n",
      "1. Tạo hoặc chọn StorageClass phù hợp với volume type mong muốn. Ví dụ, một StorageClass có thể được cấu hình cho IOPS cao hoặc thấp.\n",
      "\n",
      "2. Trong YAML của PVC, chỉ định storageClassNamemime讹 với StorageClass đó. Ngoài ra, nếu cần, thêm annotation bs.csi.vngcloud.vn/volume-type với ID của volume type cụ thể.\n",
      "\n",
      "Tôi cũng cần lưu ý rằng StorageClass mặc định có thể đã thay đổi, nên khách hàng cần kiểm tra và tạo StorageClass mới nếu cần. Hơn nữa, việc thay đổi IOPS sau khi tạo PVC có thể được thực hiện bằng cách chỉnh sửa annotation.\n",
      "\n",
      "Tóm lại, câu trả lời cần hướng dẫn khách hàng cách tạo StorageClass và định義 storageClassName trong PVC, cũng như cách thêm annotation nếu cần chỉ định volume type cụ thể.\n",
      "\n",
      "\n",
      "\n",
      "GENERATED RESPONSE\n",
      "\n",
      "\n",
      "Để cấu hình volume type khi sử dụng Persistent Volume Claim (PVC) trong VNGCloud Kubernetes Service (VKS), bạn cần định nghĩa StorageClass phù hợp và tham chiếu đến itu trong PVC của mình. Dưới đây là các bước chi tiết:\n",
      "\n",
      "### 1. Tạo StorageClass:\n",
      "StorageClass định nghĩa loại volume mà bạn muốn sử dụng, bao gồm các thông số như IOPS, loại ổ đĩa (SSD, HDD), v.v.\n",
      "\n",
      "Ví dụ, để tạo một StorageClass với tên `my-expansion-storage-class` và volume type có IOPS 1000:\n",
      "\n",
      "```yaml\n",
      "apiVersion: storage.k8s.io/v1\n",
      "kind: StorageClass\n",
      "metadata:\n",
      "  name: my-expansion-storage-class\n",
      "parameters:\n",
      "  type: \"ssd\"\n",
      "  iops: \"1000\"\n",
      "provisioner: bs.csi.vngcloud.vn\n",
      "reclaimPolicy: Delete\n",
      "volumeBindingMode: Immediate\n",
      "allowVolumeExpansion: true\n",
      "```\n",
      "\n",
      "Chvala các thông số:\n",
      "- `type`: Chỉ định loại ổ đĩa (ví dụ: \"ssd\" cho SSD).\n",
      "- `iops`: Chỉ định số IOPS mong muốn.\n",
      "\n",
      "### 2. Tạo Persistent Volume Claim (PVC):\n",
      "Trong file YAML của PVC, bạn cần tham chiếu đến StorageClass mà bạn vừa tạo bằng cách chỉ định `storageClassName`.\n",
      "\n",
      "Ví dụ:\n",
      "\n",
      "```yaml\n",
      "apiVersion: v1\n",
      "kind: PersistentVolumeClaim\n",
      "metadata:\n",
      "  name: my-expansion-pvc\n",
      "spec:\n",
      "  accessModes:\n",
      "    - ReadWriteOnce\n",
      "  resources:\n",
      "    requests:\n",
      "      storage: 20Gi\n",
      "  storageClassName: my-expansion-storage-class\n",
      "```\n",
      "\n",
      "### 3. (Tùy chọn) Thêm Annotation để Chỉ Định Volume Type:\n",
      "Nếu bạn muốn chỉ định một volume type cụ thể (ví dụ: dựa trên ID), bạn có thể thêm annotation vào PVC.\n",
      "\n",
      "Sau khi tạo PVC, bạn có thể chỉnh sửa và thêm annotation:\n",
      "\n",
      "```bash\n",
      "kubectl edit pvc my-expansion-pvc\n",
      "```\n",
      "\n",
      "Thêm dòng sau vào phần `metadata.annotations`:\n",
      "\n",
      "```yaml\n",
      "metadata:\n",
      "  annotations:\n",
      "    bs.csi.vngcloud.vn/volume-type: \"vtype-xxxxxxxx-xxxx-xxxx-xxxx-xxxxxxxxxxxx\"\n",
      "```\n",
      "\n",
      "Thay thế `vtype-xxxxxxxx-xxxx-xxxx-xxxx-xxxxxxxxxxxx` bằng ID của volume type mong muốn.\n",
      "\n",
      "### 4. Kiểm Tra:\n",
      "Sau khi apply các file YAML, bạn có thể kiểm tra PVC và StorageClass đã được tạo thành công:\n",
      "\n",
      "```bash\n",
      "kubectl get sc,pvc -o wide\n",
      "```\n",
      "\n",
      "### Lưu Ý:\n",
      "- Nếu bạn muốn thay đổi IOPS hoặc volume type sau khi PVC đã được tạo, bạn cần chỉnh sửa annotation `bs.csi.vngcloud.vn/volume-type` trong YAML của PVC.\n",
      "- Đảm bảo rằng kích thước lưu trữ và IOPS được chọn nằm trong phạm vi hợp lệ cho loại volume mà bạn chọn.\n",
      "\n",
      "Bằng cách làm theo các bước trên, bạn có thể dễ dàng cấu hình volume type khi sử dụng PVC trong VKS."
     ]
    }
   ],
   "execution_count": 17
  },
  {
   "metadata": {
    "ExecuteTime": {
     "end_time": "2025-03-13T09:08:35.631311Z",
     "start_time": "2025-03-13T09:08:35.628519Z"
    }
   },
   "cell_type": "code",
   "source": "",
   "id": "62e7652d0138e8d2",
   "outputs": [],
   "execution_count": null
  }
 ],
 "metadata": {
  "kernelspec": {
   "name": "python3",
   "language": "python",
   "display_name": "Python 3 (ipykernel)"
  }
 },
 "nbformat": 5,
 "nbformat_minor": 9
}
