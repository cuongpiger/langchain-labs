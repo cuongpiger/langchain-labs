{
 "cells": [
  {
   "metadata": {
    "ExecuteTime": {
     "end_time": "2025-03-17T04:36:24.718270Z",
     "start_time": "2025-03-17T04:36:24.661129Z"
    }
   },
   "cell_type": "code",
   "source": [
    "%load_ext autoreload\n",
    "%autoreload 2"
   ],
   "id": "751a1b7227b8ecfa",
   "outputs": [
    {
     "name": "stdout",
     "output_type": "stream",
     "text": [
      "The autoreload extension is already loaded. To reload it, use:\n",
      "  %reload_ext autoreload\n"
     ]
    }
   ],
   "execution_count": 14
  },
  {
   "metadata": {},
   "cell_type": "markdown",
   "source": "# DeepSeek on VKS documents",
   "id": "61019d22f6722e41"
  },
  {
   "metadata": {},
   "cell_type": "markdown",
   "source": "## Using PostgreSQL to retrieval VKS documents\n",
   "id": "5d98521d125c81d"
  },
  {
   "metadata": {},
   "cell_type": "markdown",
   "source": "Define global variables",
   "id": "47ee0aaab9705965"
  },
  {
   "metadata": {
    "ExecuteTime": {
     "end_time": "2025-03-17T04:36:24.743805Z",
     "start_time": "2025-03-17T04:36:24.721829Z"
    }
   },
   "cell_type": "code",
   "source": [
    "import os\n",
    "\n",
    "from langchain_community.llms import VLLMOpenAI\n",
    "from langchain_core.messages import HumanMessage, SystemMessage\n",
    "\n",
    "from modules import utils\n",
    "\n",
    "from IPython.display import display, Markdown, Latex"
   ],
   "id": "435499e17b8d7875",
   "outputs": [],
   "execution_count": 15
  },
  {
   "metadata": {
    "ExecuteTime": {
     "end_time": "2025-03-17T04:36:24.772436Z",
     "start_time": "2025-03-17T04:36:24.750394Z"
    }
   },
   "cell_type": "code",
   "source": [
    "ENV_FILE_PATH = \"/Users/cuongdm8499/Me/git-cuongpiger/secret/work/vngcloud/ai-platform/env\"\n",
    "MODEL_NAME = \"deepseek-ai/DeepSeek-R1-Distill-Llama-70B\"\n",
    "MAX_TOKENS = 32700\n",
    "COLLECTION_NAME = \"my_docs\""
   ],
   "id": "7b4b30a73f4c279c",
   "outputs": [],
   "execution_count": 16
  },
  {
   "metadata": {},
   "cell_type": "markdown",
   "source": "Load environment variables",
   "id": "16eef771282068a8"
  },
  {
   "metadata": {
    "ExecuteTime": {
     "end_time": "2025-03-17T04:36:24.799432Z",
     "start_time": "2025-03-17T04:36:24.777961Z"
    }
   },
   "cell_type": "code",
   "source": "envs = utils.load_env_to_dict(ENV_FILE_PATH)",
   "id": "70b6a3827eee6b7a",
   "outputs": [],
   "execution_count": 17
  },
  {
   "metadata": {},
   "cell_type": "markdown",
   "source": "## Prepare PostgreSQL vectorstore",
   "id": "a13a02df813164ee"
  },
  {
   "metadata": {
    "ExecuteTime": {
     "end_time": "2025-03-17T04:36:24.825852Z",
     "start_time": "2025-03-17T04:36:24.804814Z"
    }
   },
   "cell_type": "code",
   "source": [
    "from langchain_postgres.vectorstores import PGVector\n",
    "from langchain_huggingface.embeddings import HuggingFaceEmbeddings\n"
   ],
   "id": "bc7e0f88c8d96ed9",
   "outputs": [],
   "execution_count": 18
  },
  {
   "metadata": {
    "ExecuteTime": {
     "end_time": "2025-03-17T04:36:29.788960Z",
     "start_time": "2025-03-17T04:36:24.834963Z"
    }
   },
   "cell_type": "code",
   "source": [
    "embeddings = HuggingFaceEmbeddings(\n",
    "    model_name=\"sentence-transformers/paraphrase-multilingual-mpnet-base-v2\",\n",
    ")"
   ],
   "id": "df958aa2db0e546a",
   "outputs": [],
   "execution_count": 19
  },
  {
   "metadata": {
    "ExecuteTime": {
     "end_time": "2025-03-17T04:36:30.562793Z",
     "start_time": "2025-03-17T04:36:29.795804Z"
    }
   },
   "cell_type": "code",
   "source": [
    "vector_store = PGVector(\n",
    "    embeddings=embeddings,\n",
    "    collection_name=COLLECTION_NAME,\n",
    "    connection=envs[\"POSTGRESQL_URI_2\"],\n",
    "    use_jsonb=True,\n",
    ")"
   ],
   "id": "a96773fdf0a02023",
   "outputs": [],
   "execution_count": 20
  },
  {
   "metadata": {},
   "cell_type": "markdown",
   "source": "## Retrieval",
   "id": "ba4946437525705d"
  },
  {
   "metadata": {
    "ExecuteTime": {
     "end_time": "2025-03-17T04:36:30.594833Z",
     "start_time": "2025-03-17T04:36:30.572768Z"
    }
   },
   "cell_type": "code",
   "source": "retriever = vector_store.as_retriever(search_kwargs={\"k\": 2})",
   "id": "efe2fc58ba295b87",
   "outputs": [],
   "execution_count": 21
  },
  {
   "metadata": {
    "ExecuteTime": {
     "end_time": "2025-03-17T04:36:30.932827Z",
     "start_time": "2025-03-17T04:36:30.601008Z"
    }
   },
   "cell_type": "code",
   "source": [
    "res = vector_store.similarity_search(\"VKS là gì?\")\n",
    "utils.print_documents(res)"
   ],
   "id": "6aec4e948a2c498a",
   "outputs": [
    {
     "name": "stdout",
     "output_type": "stream",
     "text": [
      "Amount of documents: 4\n",
      "Document 0:\n",
      "VKS là gì?\n",
      "\n",
      "VKS (VNGCloud Kubernetes Service) là một dịch vụ được quản lý trên VNGCloud giúp bạn đơn giản hóa quá trình triển khai và quản lý các ứng dụng dựa trên container. Kubernetes là một nền tảng mã nguồn mở được phát triển bởi Google, được sử dụng rộng rãi để quản lý và triển khai các ứng dụng container trên môi trường phân tán.\n",
      "\n",
      "Những điểm nổi bật của VKS\n",
      "\n",
      "Quản lý Control Plane hoàn toàn tự động (Fully Managed control plane): VKS sẽ giải phóng bạn khỏi gánh nặng quản lý Control Plane của Kubernetes, giúp bạn tập trung vào việc phát triển ứng dụng.\n",
      "\n",
      "Hỗ trợ các phiên bản Kubernetes mới nhất: VKS luôn cập nhật những phiên bản Kubernetes mới nhất (minor version từ 1.27, 1.28, 1.29) để đảm bảo bạn luôn tận dụng được những tính năng tiên tiến nhất.\n",
      "\n",
      "Kubernetes Networking: VKS tích hợp Calico CNI, mang lại tính hiệu quả và bảo mật cao.\n",
      "\n",
      "Upgrade seamlessly: VKS hỗ trợ nâng cấp giữa các phiên bản Kubernetes một cách dễ dàng và nhanh chóng, giúp bạn luôn cập nhật những cải tiến mới nhất.\n",
      "\n",
      "Scaling & Healing Automatically: VKS tự động mở rộng Node group khi cần thiết và tự động sửa lỗi khi node gặp vấn đề, giúp bạn tiết kiệm thời gian và công sức quản lý.\n",
      "\n",
      "Giảm chi phí và nâng cao độ tin cậy: VKS triển khai Control Plane của Kubernetes ở chế độ sẵn sàng cao và hoàn toàn miễn phí, giúp bạn tiết kiệm chi phí và nâng cao độ tin cậy cho hệ thống.\n",
      "\n",
      "Tích hợp Blockstore Native (Container Storage Interface - CSI): VKS cho phép bạn quản lý Blockstore thông qua YAML của Kubernetes, cung cấp lưu trữ bền vững cho container và hỗ trợ các tính năng quan trọng như thay đổi kích thước, thay đổi IOPS và snapshot volume.\n",
      "\n",
      "Tích hợp Load Balancer (Network Load Balancer, Application Load Balancer) thông qua các driver được tích hợp sẵn như VNGCloud Controller Mananger, VNGCloud Ingress Controller: VKS cung cấp khả năng quản lý NLB/ALB thông qua YAML của Kubernetes, giúp bạn dễ dàng expose Service trong Kubernetes ra bên ngoài.\n",
      "\n",
      "Nâng cao bảo mật: VKS cho phép bạn tạo Private Node Group với chỉ Private IP và kiểm soát quyền truy cập vào cluster thông qua tính năng Whitelist IP, đảm bảo an toàn cho hệ thống của bạn.\n",
      "\n",
      "Ngoài ra, VKS còn có các ưu điểm sau:\n",
      "\n",
      "Dễ sử dụng: VKS cung cấp giao diện đơn giản và dễ sử dụng.\n",
      "\n",
      "Chi phí hợp lý: VKS cung cấp mức giá cạnh tranh cho các dịch vụ của mình.\n",
      "\n",
      "Region\n",
      "\n",
      "Hiện tại, trên VKS, chúng tôi đang cung cấp cho bạn 2 cơ sở hạ tầng riêng biệt được đặt tại Hà Nội và Hồ Chí Minh. Bạn có thể lựa chọn sử dụng VKS trên mỗi region tùy thuộc vào vị trí và nhu cầu thực tế của bạn. Đối với 2 farm HCM03, HAN01, các thông số cụ thể cho mỗi region được chúng tôi cung cấp như sau:\n",
      "\n",
      "Farm Domain HCM03 https://vks.console.vngcloud.vn HAN01 https://vks-han-1.console.vngcloud.vn\n",
      "\n",
      "----------------------------------------------------------------------------------------------------Document 1:\n",
      "VKS\n",
      "\n",
      "VKS (VNGCloud Kubernetes Service) là một dịch vụ được quản lý trên VNGCloud giúp bạn đơn giản hóa quá trình triển khai và quản lý các ứng dụng dựa trên container. Kubernetes là một nền tảng mã nguồn mở được phát triển bởi Google, được sử dụng rộng rãi để quản lý và triển khai các ứng dụng container trên môi trường phân tán.\n",
      "\n",
      "YouTube\n",
      "\n",
      "----------------------------------------------------------------------------------------------------Document 2:\n",
      "Aug 01, 2024\n",
      "\n",
      "VKS (VNGCloud Kubernetes Service) giới thiệu bản cập nhật mới nhất cho VKS đã có sẵn, mang đến nhiều tính năng và cải tiến mới cho người dùng. Dưới đây là chi tiết về bản cập nhật:\n",
      "\n",
      "Tính năng mới:\n",
      "\n",
      "Giám sát tài nguyên VKS: Người dùng có thể theo dõi trực tiếp tình trạng hoạt động của Cluster, Node, tình trạng sử dụng CPU, RAM, Memory,... của Node thông qua các dashboard trực quan. Để hiển thị dữ liệu lên dashboard, người dùng cần cài đặt vmonitor-metric-agent vào cụm mong muốn thực hiện giám sát. Chi tiết tham khảo thêm tại đây.\n",
      "\n",
      "July 25, 2024\n",
      "\n",
      "VKS (VNGCloud Kubernetes Service) giới thiệu bản cập nhật mới nhất cho VKS đã có sẵn, mang đến nhiều cải tiến mới cho người dùng. Dưới đây là chi tiết về bản cập nhật:\n",
      "\n",
      "Cải tiến:\n",
      "\n",
      "Nâng cấp quản lý VKS thông qua Terraform: Người dùng có thể đồng thời điều chỉnh số lượng node (Number of nodes) và thay đổi số lượng node cho autoscale (Minimum/ Maximum node Autoscale) ngay trong quá trình chỉnh sửa cấu hình. Với khả năng điều chỉnh nhiều thông số cùng lúc, việc quản lý cụm Kubernetes trở nên linh hoạt và thuận tiện hơn. Chi tiết tham khảo thêm ví dụ tại đây.\n",
      "\n",
      "July 23, 2024\n",
      "\n",
      "VKS (VNGCloud Kubernetes Service) giới thiệu bản cập nhật mới nhất cho VKS đã có sẵn, mang đến nhiều cải tiến mới cho người dùng. Dưới đây là chi tiết về bản cập nhật:\n",
      "\n",
      "Cải tiến:\n",
      "\n",
      "Nâng cấp Plugin VNGCloud LoadBalancer Controller, Plugin VNGCloud Ingress Controller: Các lỗi đã được phát hiện trong các phiên bản trước đã được khắc phục, giúp hệ thống hoạt động mượt mà và tin cậy hơn.\n",
      "\n",
      "July 18, 2024\n",
      "\n",
      "VKS (VNGCloud Kubernetes Service) giới thiệu bản cập nhật mới nhất cho VKS đã có sẵn, mang đến nhiều cải tiến mới cho người dùng. Dưới đây là chi tiết về bản cập nhật:\n",
      "\n",
      "Cải tiến:\n",
      "\n",
      "Nâng cấp Plugin VNGCloud BlockStorage CSI Driver: Các lỗi đã được phát hiện trong các phiên bản trước đã được khắc phục, giúp hệ thống hoạt động mượt mà và tin cậy hơn.\n",
      "\n",
      "July 17, 2024\n",
      "\n",
      "VKS (VNGCloud Kubernetes Service) giới thiệu bản cập nhật mới nhất cho VKS đã có sẵn, mang đến nhiều cải tiến cho người dùng. Dưới đây là chi tiết về bản cập nhật:\n",
      "\n",
      "Cải tiến:\n",
      "\n",
      "Private Node Group: MTU cho các Node thuộc Private Node Group đã được cập nhật lên 1450. Điều này giúp cải thiện hiệu suất mạng cho các ứng dụng chạy trong Private Node Group.\n",
      "\n",
      "Number of nodes và AutoScale: Giờ đây bạn có thể chỉnh sửa cả hai thuộc tính này trong cùng một API. Điều này giúp đơn giản hóa việc quản lý Cluster của bạn.\n",
      "\n",
      "July 02, 2024\n",
      "\n",
      "VKS (VNGCloud Kubernetes Service) giới thiệu bản cập nhật mới nhất cho VKS đã có sẵn, mang đến nhiều tính năng và cải tiến mới cho người dùng. Dưới đây là chi tiết về bản cập nhật:\n",
      "\n",
      "Tính năng mới:\n",
      "\n",
      "Hỗ trợ Stop POC cho Cluster: Người dùng giờ đây có thể thực hiện Stop POC cho toàn bộ các tài nguyên đang được POC trên một Cluster một cách dễ dàng, thay vì phải thực hiện Stop POC riêng lẻ cho từng resource. Điều này giúp tiết kiệm thời gian và công sức khi chuyển Cluster từ tài nguyên thử nghiệm sang tài nguyên thật. Chi tiết tham khảo thêm tại đây.\n",
      "\n",
      "Cải tiến:\n",
      "\n",
      "Trạng thái Node Group: Bổ sung trạng thái \"Degraded\" để người dùng có thể theo dõi tình trạng hoạt động của Node Group một cách chính xác hơn. Trạng thái này sẽ hiển thị khi số node hoạt động ít hơn số replica thực tế.\n",
      "\n",
      "Timeout cho Cluster và Node Group: Đã thêm thời gian chờ (timeout) cho việc tạo Cluster và Node Group, cải tiến này đảm bảo VKS vận hành mượt mà và hiệu quả, đồng thời cung cấp thông tin rõ ràng và kịp thời cho người dùng. Timeout cho việc tạo Cluster là *1 giờ và cho Node Group là 3 giờ*. Nếu sau khoảng thời gian này mà Cluster hoặc Node Group của bạn chưa được tạo thành công, chúng tôi sẽ cập nhật trạng thái chúng về ERROR. Lúc này, bạn có thể thực hiện xóa và tạo Cluster, Node Group khác thay thế.\n",
      "\n",
      "KubeConfig Access: Việc truy cập vào tệp tin KubeConfig giờ chỉ được phép khi Cluster đã Active. Cải tiến này giúp người dùng tránh các lỗi cấu hình khi sử dụng Terraform để tự động hóa việc triển khai Kubernetes.\n",
      "\n",
      "June 27, 2024\n",
      "\n",
      "VKS (VNGCloud Kubernetes Service) giới thiệu bản cập nhật mới nhất cho VKS đã có sẵn, mang đến nhiều cải tiến mới cho người dùng. Dưới đây là chi tiết về bản cập nhật:\n",
      "\n",
      "Cải tiến:\n",
      "\n",
      "Nâng cấp Plugin VNGCloud LoadBalancer Controller, Plugin VNGCloud Ingress Controller: Các lỗi đã được phát hiện trong các phiên bản trước đã được khắc phục, giúp hệ thống hoạt động mượt mà và tin cậy hơn.\n",
      "\n",
      "June 19, 2024\n",
      "\n",
      "VKS (VNGCloud Kubernetes Service) giới thiệu bản cập nhật mới nhất cho VKS đã có sẵn, mang đến nhiều cải tiến mới cho người dùng. Dưới đây là chi tiết về bản cập nhật:\n",
      "\n",
      "Cải tiến:\n",
      "\n",
      "Nâng cấp tính năng thiết lập kích cỡ PVC (Persistent Volume Claim Size): Người dùng giờ đây có thể chỉ định kích cỡ tối thiểu cho ổ đĩa CSI là *1GB* thay vì kích cỡ tối thiểu là 20GB như trước đây. Chi tiết bạn có thể tham khảo thêm tại Volume và Integrate with Container Storage Interface.\n",
      "\n",
      "Thay đổi Storage Class mặc định sử dụng cho Cluster: thay đổi mặc định từ ổ đĩa loại SSD - IOPS 200 thành mặc định ổ đĩa loại SSD - IOPS 3000.\n",
      "\n",
      "Nâng cấp Plugin VNGCloud LoadBalancer Controller, Plugin VNGCloud Ingress Controller: cải tiến plugin giúp tránh trùng lặp việc đặt tên Load Balancer.\n",
      "\n",
      "Chú ý:\n",
      "\n",
      "Do Storage Class mặc định cũ đã được chúng tôi xóa khỏi hệ thống, nếu bạn muốn tiếp tục sử dụng và thực hiện resize storage class này, bạn có thể:\n",
      "\n",
      "Tạo Storage Class có tên sc-iops-200-retain với Volume Type mà bạn mong muốn.\n",
      "\n",
      "Resize Storage Class thông qua lệnh:\n",
      "\n",
      "kubectl patch pvc sc-iops-200-retain -p '{\"spec\":{\"resources\":{\"requests\":{\"storage\":\"50Gi\"\\}}\\}}'\n",
      "\n",
      "Chi tiết tham khảo thêm tại Integrate with Container Storage Interface.\n",
      "\n",
      "June 12, 2024\n",
      "\n",
      "VKS (VNGCloud Kubernetes Service) giới thiệu bản cập nhật mới nhất cho VKS đã có sẵn, mang đến nhiều tính năng và cải tiến mới cho người dùng. Dưới đây là chi tiết về bản cập nhật:\n",
      "\n",
      "Tính năng mới:\n",
      "\n",
      "Hỗ trợ người dùng làm việc với VKS thông qua Terraform: Người dùng có thể dễ dàng khởi tạo Cluster và Node Group trong VKS bằng Terraform. Chi tiết tham khảo thêm tại đây.\n",
      "\n",
      "Cải tiến:\n",
      "\n",
      "Nâng cấp Plugin VNGCloud LoadBalancer Controller: Bổ sung Annotation để cấu hình Load Balancer hỗ trợ Proxy Protocol. Chi tiết tham khảo thêm tại đây.\n",
      "\n",
      "May 30, 2024\n",
      "\n",
      "Chúng tôi vô cùng trân trọng thông báo, bản release chính thức (General Availability) của dịch vụ VNGCloud Kubernetes Service đã có sẵn. Với bản release chính thức này, ngoài các tính năng mà chúng tôi đã cung cấp trên các bản release trước đó, phiên bản này sẽ mang đến nhiều tính năng và cải tiến mới cho người dùng. Dưới đây là chi tiết về bản cập nhật:\n",
      "\n",
      "Tính năng mới:\n",
      "\n",
      "Re-activate : VKS cho phép bạn thực hiện yêu cầu hệ thống tự động khởi tạo lại IAM Service Account mặc định khi bạn xóa nhầm hoặc thay đổi thông tin IAM Service Account mặc định đã khởi tạo trước đó. IAM Service Account mặc định là IAM Service Account được hệ thống VKS tự động khởi tạo khi bạn bắt đầu làm việc với VKS, chúng tôi sẽ sử dụng IAM Service Account này để khởi tạo các resource cho Cluster của bạn.\n",
      "\n",
      "----------------------------------------------------------------------------------------------------Document 3:\n",
      "Sử dụng VKS với Terraform\n",
      "\n",
      "Terraform là gì?\n",
      "\n",
      "Terraform là một cơ sở hạ tầng nguồn mở dưới dạng công cụ mã cho phép người dùng quản lý cơ sở hạ tầng của họ một cách dễ dàng và hiệu quả trên các nền tảng đám mây khác nhau, chẳng hạn như VNG Cloud, AWS, Google Cloud và Azure. Máy chủ Terraform đề cập đến phiên bản của công cụ Terraform đang chạy trên một máy chủ hoặc máy cụ thể. Đây là nơi mã cơ sở hạ tầng được viết và thực thi, cho phép người dùng tạo, sửa đổi và hủy tài nguyên trên nền tảng đám mây.\n",
      "\n",
      "Bản thân Terraform không có giao diện người dùng đồ họa, thay vào đó người dùng tương tác với nó bằng giao diện dòng lệnh. Terraform yêu cầu tài khoản và khóa của nhà cung cấp đám mây được định cấu hình cùng với tệp cấu hình Terraform để thực thi cơ sở hạ tầng dưới dạng mã. Ngoài ra, Terraform có thể hoạt động trong môi trường nhóm nơi nhiều người dùng có thể cộng tác trên cùng một cơ sở mã cơ sở hạ tầng, khiến nó trở thành một công cụ mạnh mẽ và linh hoạt để quản lý cơ sở hạ tầng đám mây.\n",
      "\n",
      "Các bước thực hiện\n",
      "\n",
      "Để khởi tạo một Cluster Kubernetes bằng Terraform, bạn cần thực hiện các bước sau:\n",
      "\n",
      "Truy cập IAM Portal tại đây, thực hiện tạo Service Account với quyền hạn VKS Full Access. Cụ thể, tại trang IAM, bạn có thể:\n",
      "\n",
      "Chọn \"Create a Service Account\", điền tên cho Service Account và nhấn Next Step để gắn quyền cho Service Account.\n",
      "\n",
      "Tìm và chọn Policy: VKSFullAccess sau đó nhấn \"Create a Service Account\" để tạo Service Account, Policy: VKSFullAccess do VNG Cloud tạo ra, bạn không thể xóa các policy này.\n",
      "\n",
      "Sau khi tạo thành công bạn cần phải lưu lại Client_ID và Secret_Key của Service Account để thực hiện bước tiếp theo.\n",
      "\n",
      "Truy cập VKS Portal tại đây, thực hiện Activate dịch vụ VKS ở tab Overview. Hãy chờ đợi tới khi chúng tôi khởi tạo thành công tài khoản VKS của bạn.\n",
      "\n",
      "Cài đặt Terraform:\n",
      "\n",
      "Tải xuống và cài đặt Terraform cho hệ điều hành của bạn từ https://developer.hashicorp.com/terraform/install.\n",
      "\n",
      "Khởi tạo cấu hình Terraform:\n",
      "\n",
      "Tạo tệp variable.tf và khai báo thông tin Service Account trong file này.\n",
      "\n",
      "Tạo tệp main.tf và định nghĩa các tài nguyên Kubernetes Cluster mà bạn muốn tạo.\n",
      "\n",
      "Ví dụ:\n",
      "\n",
      "Tệp variable.tf:bạn cần thay thế Client ID và Client Secret đã khởi tạo ở bước 1 ở file này.\n",
      "\n",
      "variable \"client_id\" { type = string default = \"xxxxxxxx-xxxx-xxxx-xxxx-xxxxxxxxxxxx\" } variable \"client_secret\" { type = string default = \"xxxxxxxx-xxxx-xxxx-xxxx-xxxxxxxxxxxx\" }\n",
      "\n",
      "Trên file main.tf, bạn cần có thể thêm resource để tạo Cluster/ Node Group:\n",
      "\n",
      "Tạo Cluster my-vks-cluster và Node Group my-nodegroup độc lập:\n",
      "\n",
      "```markup resource \"vngcloud_vks_cluster\" \"primary\" { name = \"my-cluster\" cidr = \"172.16.0.0/16\" vpc_id = \"net-xxxxxxxx-xxxx-xxxxx-xxxx-xxxxxxxxxxxx\" subnet_id = \"sub-xxxxxxxx-xxxx-xxxxx-xxxx-xxxxxxxxxxxx\" }\n",
      "\n",
      "resource \"vngcloud_vks_cluster_node_group\" \"primary\" { name= \"my-nodegroup\" ssh_key_id= \"ssh-xxxxxxxx-xxxx-xxxxx-xxxx-xxxxxxxxxxxx\" cluster_id= vngcloud_vks_cluster.primary.id } ```\n",
      "\n",
      "Tạo Cluster với Default Node Group\n",
      "\n",
      "markup resource \"vngcloud_vks_cluster\" \"primary\" { name = \"my-cluster\" cidr = \"172.16.0.0/16\" vpc_id = \"net-xxxxxxxx-xxxx-xxxxx-xxxx-xxxxxxxxxxxx\" subnet_id = \"sub-xxxxxxxx-xxxx-xxxxx-xxxx-xxxxxxxxxxxx\" node_group { name= \"my-nodegroup\" ssh_key_id= \"ssh-xxxxxxxx-xxxx-xxxxx-xxxx-xxxxxxxxxxxx\" } }\n",
      "\n",
      "Chú ý:\n",
      "\n",
      "Chúng tôi khuyên bạn nên tạo và quản lý các Cluster, Node Group dưới dạng resource riêng biệt, như trong ví dụ bên dưới. Điều này cho phép bạn thêm hoặc xóa các Node Group mà không cần tạo lại toàn bộ Cluster. Nếu bạn khai báo trực tiếp Node Group Default trong tài nguyên vngcloud_vks_cluster, bạn không thể xóa chúng mà không tạo lại chính Cluster đó.\n",
      "\n",
      "Trong file main.tf, để khởi tạo một cluster với một node group thành công, bạn bắt buộc cần nhập thông tin của 4 field sau:\n",
      "\n",
      "vpc_id = \"net-xxxxxxxx-xxxx-xxxxx-xxxx-xxxxxxxxxxxx\" subnet_id = \"sub-xxxxxxxx-xxxx-xxxxx-xxxx-xxxxxxxxxxxx\" ssh_key_id= \"ssh-xxxxxxxx-xxxx-xxxxx-xxxx-xxxxxxxxxxxx\"\n",
      "\n",
      "Các ví dụ tham khảo\n",
      "\n",
      "Example Usage 1 - Create a Cluster with Network type CALICO OVERLAY and a Node Group with AutoScale Mode\n",
      "\n",
      "``` terraform { required_providers { vngcloud = { source = \"vngcloud/vngcloud\" version = \"1.2.7\" } } } resource \"vngcloud_vks_cluster\" \"primary\" { name = \"cluster-demo\" description = \"Cluster create via terraform\" version = \"v1.29.1\" cidr = \"172.16.0.0/16\" enable_private_cluster = false network_type = \"CALICO\" vpc_id = \"net-70ef12d4-d619-43fc-88f0-1c1511683123\" subnet_id = \"sub-0725ef54-a32e-404c-96f2-34745239c123\" enabled_load_balancer_plugin = true enabled_block_store_csi_plugin = true }\n",
      "\n",
      "resource \"vngcloud_vks_cluster_node_group\" \"primary\" { cluster_id = vngcloud_vks_cluster.primary.id name = \"nodegroup1\" num_nodes = 3 auto_scale_config { min_size = 0 max_size = 5 } upgrade_config { strategy = \"SURGE\" max_surge = 1 max_unavailable = 0 } image_id = \"img-108b3a77-ab58-4000-9b3e-190d0b4b07fc\" flavor_id = \"flav-9e88cfb4-ec31-4ad4-8ba5-243459f6d123\" disk_size = 50 disk_type = \"vtype-61c3fc5b-f4e9-45b4-8957-8aa7b6029018\" enable_private_nodes = false ssh_key_id= \"ssh-f923c53c-cba7-4131-9f86-175d04ae2123\" security_groups = [\"secg-faf05344-fbd6-4f10-80a2-cda08d15ba5e\"] labels = { \"test\" = \"terraform\" } taint { key = \"key1\" value = \"value1\" effect = \"PreferNoSchedule\" } } ```\n",
      "\n",
      "Example Usage 2 - Create a Cluster with Network type CILIUM OVERLAY and a Node Group with AutoScale Mode\n",
      "\n",
      "``` terraform { required_providers { vngcloud = { source = \"vngcloud/vngcloud\" version = \"1.2.7\" } } } resource \"vngcloud_vks_cluster\" \"primary\" { name = \"cluster-demo\" description = \"Cluster create via terraform\" version = \"v1.29.1\" cidr = \"172.16.0.0/16\" enable_private_cluster = false network_type = \"CILIUM_OVERLAY\" vpc_id = \"net-70ef12d4-d619-43fc-88f0-1c1511683123\" subnet_id = \"sub-0725ef54-a32e-404c-96f2-34745239c123\" enabled_load_balancer_plugin = true enabled_block_store_csi_plugin = true }\n",
      "\n",
      "resource \"vngcloud_vks_cluster_node_group\" \"primary\" { cluster_id = vngcloud_vks_cluster.primary.id name = \"nodegroup1\" num_nodes = 3 auto_scale_config { min_size = 0 max_size = 5 } upgrade_config { strategy = \"SURGE\" max_surge = 1 max_unavailable = 0 } image_id = \"img-108b3a77-ab58-4000-9b3e-190d0b4b07fc\" flavor_id = \"flav-9e88cfb4-ec31-4ad4-8ba5-243459f6d123\" disk_size = 50 disk_type = \"vtype-61c3fc5b-f4e9-45b4-8957-8aa7b6029018\" enable_private_nodes = false ssh_key_id= \"ssh-f923c53c-cba7-4131-9f86-175d04ae2123\" security_groups = [\"secg-faf05344-fbd6-4f10-80a2-cda08d15ba5e\"] labels = { \"test\" = \"terraform\" } taint { key = \"key1\" value = \"value1\" effect = \"PreferNoSchedule\" } } ```\n",
      "\n",
      "Example Usage 3 - Create a Cluster with Network type CILIUM VPC Native Routing and a Node Group with AutoScale Mode\n",
      "\n",
      "----------------------------------------------------------------------------------------------------"
     ]
    }
   ],
   "execution_count": 22
  },
  {
   "metadata": {},
   "cell_type": "markdown",
   "source": "## Integrated with DeepSeek R1",
   "id": "91bdebe4b088b89d"
  },
  {
   "metadata": {
    "ExecuteTime": {
     "end_time": "2025-03-17T04:36:30.967742Z",
     "start_time": "2025-03-17T04:36:30.941491Z"
    }
   },
   "cell_type": "code",
   "source": [
    "from langchain_openai import ChatOpenAI\n",
    "from langchain_core.prompts import ChatPromptTemplate"
   ],
   "id": "e581c060125b4cd1",
   "outputs": [],
   "execution_count": 23
  },
  {
   "metadata": {
    "ExecuteTime": {
     "end_time": "2025-03-17T04:36:31.012234Z",
     "start_time": "2025-03-17T04:36:30.977757Z"
    }
   },
   "cell_type": "code",
   "source": [
    "# Connect to vLLM API\n",
    "llm = ChatOpenAI(\n",
    "    openai_api_key=\"EMPTY\",\n",
    "    openai_api_base=envs['VLLM_HOST_URL_2'] + \"/v1/\",\n",
    "    model_name=MODEL_NAME,\n",
    "    max_tokens=MAX_TOKENS,\n",
    "    streaming=True,\n",
    ")\n",
    "\n",
    "prompt = ChatPromptTemplate.from_template(\"\"\"\n",
    "Bạn là một trợ lí ảo nhằm trả lời các CÂU HỎI cho khách hàng của VNGCloud.\n",
    "Câu trả lời của bạn phải có liên quan đến NGỮ CẢNH được cung cấp. Nếu không liên quan hãy yêu cầu cung cấp thêm thông tin.\n",
    "Bạn PHẢI trả lời bằng TIẾNG VIỆT\n",
    "\n",
    "CÂU HỎI: {query}\n",
    "\n",
    "NGỮ CẢNH:\n",
    "{context}\n",
    "\n",
    "TRẢ LỜI:\n",
    "\"\"\")\n",
    "\n",
    "chain = prompt | llm"
   ],
   "id": "19665e3cffbed612",
   "outputs": [],
   "execution_count": 24
  },
  {
   "metadata": {},
   "cell_type": "markdown",
   "source": "## Prepare the context",
   "id": "bc5367669a025ea5"
  },
  {
   "metadata": {
    "ExecuteTime": {
     "end_time": "2025-03-17T04:36:31.220790Z",
     "start_time": "2025-03-17T04:36:31.022301Z"
    }
   },
   "cell_type": "code",
   "source": [
    "query = \"VKS là gì?\"\n",
    "context = utils.from_documents_to_context(vector_store.similarity_search(query))\n",
    "\n",
    "display(Markdown(context[:1000]))"
   ],
   "id": "67d83d38b35681f3",
   "outputs": [
    {
     "data": {
      "text/plain": [
       "<IPython.core.display.Markdown object>"
      ],
      "text/markdown": "- Document 1:\nVKS là gì?\n\nVKS (VNGCloud Kubernetes Service) là một dịch vụ được quản lý trên VNGCloud giúp bạn đơn giản hóa quá trình triển khai và quản lý các ứng dụng dựa trên container. Kubernetes là một nền tảng mã nguồn mở được phát triển bởi Google, được sử dụng rộng rãi để quản lý và triển khai các ứng dụng container trên môi trường phân tán.\n\nNhững điểm nổi bật của VKS\n\nQuản lý Control Plane hoàn toàn tự động (Fully Managed control plane): VKS sẽ giải phóng bạn khỏi gánh nặng quản lý Control Plane của Kubernetes, giúp bạn tập trung vào việc phát triển ứng dụng.\n\nHỗ trợ các phiên bản Kubernetes mới nhất: VKS luôn cập nhật những phiên bản Kubernetes mới nhất (minor version từ 1.27, 1.28, 1.29) để đảm bảo bạn luôn tận dụng được những tính năng tiên tiến nhất.\n\nKubernetes Networking: VKS tích hợp Calico CNI, mang lại tính hiệu quả và bảo mật cao.\n\nUpgrade seamlessly: VKS hỗ trợ nâng cấp giữa các phiên bản Kubernetes một cách dễ dàng và nhanh chóng, giúp bạn luôn cập nhật những cải "
     },
     "metadata": {},
     "output_type": "display_data"
    }
   ],
   "execution_count": 25
  },
  {
   "metadata": {
    "ExecuteTime": {
     "end_time": "2025-03-17T04:38:11.814981Z",
     "start_time": "2025-03-17T04:36:31.227518Z"
    }
   },
   "cell_type": "code",
   "source": [
    "query = \"VKS là gì?\"\n",
    "\n",
    "print(\"THINKING...\")\n",
    "for chunk in chain.stream({\"query\": query,\n",
    "                           \"context\": utils.from_documents_to_context(vector_store.similarity_search(query))}):\n",
    "    if chunk.content.strip() == \"</think>\":\n",
    "        print(\"\\n\\n\\nGENERATED RESPONSE\")\n",
    "        continue\n",
    "\n",
    "    print(chunk.content, end=\"\", flush=True)"
   ],
   "id": "4059545922116ad1",
   "outputs": [
    {
     "name": "stdout",
     "output_type": "stream",
     "text": [
      "THINKING...\n",
      "Được rồi, mình đang cố gắng trả lời câu hỏi \"VKS là gì?\" bằng cách xem qua các tài liệu được cung cấp. Đầu tiên, mình chú ý đến Document 1 và 2, chúng đều giải thích VKS là VNGCloud Kubernetes Service, một dịch vụ quản lý trên VNGCloud giúp triển khai và quản lý ứng dụng container dựa trên Kubernetes.\n",
      "\n",
      "Mình thấy rằng VKS tự động quản lý Control Plane, hỗ trợ các phiên bản Kubernetes mới nhất, tích hợp các công nghệ như Calico CNI và CSI. Ngoài ra, VKS còn có khả năng tự động scale và heal, giúp người dùng tiết kiệm thời gian quản lý. Mình cũng chú ý đến các cập nhật gần đây trong Document 3, như hỗ trợ giám sát tài nguyên, nâng cấp qua Terraform, và các cải tiến về bảo mật, hiệu suất mạng.\n",
      "\n",
      "Document 4 ayrıntı hơn về việc sử dụng Terraform với VKS, hướng dẫn các bước khởi tạo cluster và node group. Điều này cho thấy VKS không chỉ là một dịch vụ McC 通리 mà còn tích hợp tốt với các công cụ DevOps như Terraform, giúp tự động hóa quá trình triển khai.\n",
      "\n",
      "Khi tổng hợp thông tin, mình nhận thấy VKS có rất nhiều tính năng mạnh mẽ, phù hợp cho các doanh nghiệp muốn triển khai ứng dụng container một cách dễ dàng và hiệu quả. Mình cần trình bày những điểm nổi bật này một cách rõ ràng và có thứ bậc để khách hàng dễ hiểu.\n",
      "\n",
      "Mình cũng để ý đến việc VKS hỗ trợ hai region tại Hà Nội và Hồ Chí Minh, điều này quan trọng vì nó ảnh hưởng đến việc lựa chọn vị trí triển khai ứng dụng. Hơn nữa, các bản cập nhật liên tục cho thấy dịch vụ này đang không ngừng cải thiện và đáp ứng nhu cầu người dùng.\n",
      "\n",
      "Cuối cùng, mình kết luận rằng VKS là một giải pháp toàn diện, giúp quản lý Kubernetes hiệu quả với chi phí hợp lý và dễ sử dụng. Mình sẽ tổng hợp các điểm này thành một câu trả lời đầy đủ và dễ hiểu cho khách hàng.\n",
      "\n",
      "\n",
      "\n",
      "GENERATED RESPONSE\n",
      "\n",
      "\n",
      "VKS (VNGCloud Kubernetes Service) là dịch vụ quản lý trên nền tảng đám mây VNGCloud, giúp đơn giản hóa quá trình triển khai và quản lý các ứng dụng container dựa trên Kubernetes. Dưới đây là những điểm nổi bật và thông tin chi tiết về VKS:\n",
      "\n",
      "### Giới thiệu chung:\n",
      "- **Kubernetes**: Là một nền tảng mã nguồn mở được phát triển bởi Google,用于 quản lý và triển khai các ứng dụng container trên môi trường phân tán.\n",
      "- **VKS**: Là dịch vụ được quản lý bởi VNGCloud, giúp các developer tập trung vào việc phát triển ứng dụng mà không cần phải lo lắng về việc quản lý hạ tầng.\n",
      "\n",
      "### Points nổi bật của VKS:\n",
      "\n",
      "1. **Quản lý Control Plane tự động**:\n",
      "   - VKS tự động quản lý Control Plane, giúp người dùng không cần phải lo lắng về việc vận hành và bảo trì.\n",
      "\n",
      "2. **Hỗ trợ các phiên bản Kubernetes mới nhất**:\n",
      "   - VKS liên tục cập nhật các phiên bản Kubernetes mới nhất để người dùng có thể tận dụng các tính năng tiên tiến.\n",
      "\n",
      "3. **Tích hợp Calico CNI**:\n",
      "   - Cung cấp giải pháp mạng hiệu quả và bảo mật cho các ứng dụng container.\n",
      "\n",
      "4. **Upgrade dễ dàng**:\n",
      "   - Hỗ trợ nâng cấp phiên bản Kubernetes một cách nhanh chóng và dễ dàng.\n",
      "\n",
      "5. **Tự động mở rộng và healing**:\n",
      "   - VKS tự động mở rộng Node Group khi cần thiết và tự động sửa lỗi khi gặp vấn đề.\n",
      "\n",
      "6. **Giảm chi phí và nâng cao độ tin cậy**:\n",
      "   - Control Plane được triển khai ở chế độ sẵn sàng cao, miễn phí sử dụng.\n",
      "\n",
      "7. **Tích hợp Blockstore CSI**:\n",
      "   - Quản lý lưu trữ block thông qua YAML của Kubernetes, hỗ trợ các tính năng như thay đổi kích thước, IOPS, và snapshot.\n",
      "\n",
      "8. **Tích hợp Load Balancer và Ingress Controller**:\n",
      "   - Quản lý NLB/ALB và Ingress thông qua YAML của Kubernetes.\n",
      "\n",
      "9. **Bảo mật cao**:\n",
      "   - Hỗ trợ tạo Private Node Group và kiểm soát truy cập thông qua Whitelist IP.\n",
      "\n",
      "10. **Dễ sử dụng và chi phí hợp lý**:\n",
      "    - Giao diện đơn giản, dễ sử dụng và mức giá cạnh tranh.\n",
      "\n",
      "### Các bản cập nhật gần đây:\n",
      "\n",
      "- **Giám sát tài nguyên**: Theo dõi hoạt động của Cluster, Node, CPU, RAM, Memory,... thông qua dashboard.\n",
      "- **Nâng cấp qua Terraform**: Quản lý và cấu hình Cluster, Node Group qua Terraform một cách linh hoạt.\n",
      "- **Private Node Group**: Cập nhật MTU lên 1450 để cải thiện hiệu suất mạng.\n",
      "- **Hỗ trợ Stop POC**: Dừng toàn bộ tài nguyên thử nghiệm một cách dễ dàng.\n",
      "- **Tích hợp Terraform**: Khởi tạo và quản lý Cluster, Node Group qua Terraform.\n",
      "- **Cải tiến bảo mật và hiệu suất**: Nâng cấp các plugin và khắc phục lỗi để hệ thống hoạt động mượt mà hơn.\n",
      "\n",
      "### Các region và thông tin kỹ thuật:\n",
      "\n",
      "- **Region**: Hiện tại VKS được triển khai tại hai cơ sở hạ tầng ở Hà Nội (HAN01) và Hồ Chí Minh (HCM03).\n",
      "  - Farm Domain:\n",
      "    - HCM03: [https://vks.console.vngcloud.vn](https://vks.console.vngcloud.vn)\n",
      "    - HAN01: [https://vks-han-1.console.vngcloud.vn](https://vks-han-1.console.vngcloud.vn)\n",
      "\n",
      "### Kết luận:\n",
      "VKS là một dịch vụ mạnh mẽ, giúp người dùng dễ dàng triển khai và quản lý các ứng dụng container trên Kubernetes. Với các tính năng tự động hóa, bảo mật cao, và hỗ trợ các công nghệ tiên tiến, VKS là một lựa chọn tuyệt vời cho các doanh nghiệp muốn tối ưu hóa quá trình phát triển và vận hành ứng dụng."
     ]
    }
   ],
   "execution_count": 26
  },
  {
   "metadata": {
    "ExecuteTime": {
     "end_time": "2025-03-17T04:39:39.094846Z",
     "start_time": "2025-03-17T04:38:11.828552Z"
    }
   },
   "cell_type": "code",
   "source": [
    "query = \"Làm sao để expose service trong VKS?\"\n",
    "\n",
    "print(\"THINKING...\")\n",
    "for chunk in chain.stream({\"query\": query,\n",
    "                           \"context\": utils.from_documents_to_context(vector_store.similarity_search(query))}):\n",
    "    if chunk.content.strip() == \"</think>\":\n",
    "        print(\"\\n\\n\\nGENERATED RESPONSE\")\n",
    "        continue\n",
    "\n",
    "    print(chunk.content, end=\"\", flush=True)"
   ],
   "id": "793703c5a99bc82f",
   "outputs": [
    {
     "name": "stdout",
     "output_type": "stream",
     "text": [
      "THINKING...\n",
      "Okay, so the user is asking how to expose a service in VKS. I remember that in Kubernetes, exposing a service typically involves creating a Service object and then an Ingress or using a LoadBalancer type. But since VKS is a managed Kubernetes service by VNGCloud, I should check if there are any specific instructions or differences in their setup.\n",
      "\n",
      "Looking at the provided documents, especially Document 2 and Document 4, they talk about setting up Terraform configurations for creating clusters and node groups. They mention enabling load balancer plugins, which suggests that LoadBalancer is supported.\n",
      "\n",
      "In a typical Kubernetes setup, you can expose a service by changing its type to LoadBalancer, which would provision a load balancer from the cloud provider. Alternatively, you can create an Ingress resource to route traffic via HTTP/HTTPS.\n",
      "\n",
      "I should outline the steps the user needs to take. First, they need to create a Kubernetes Deployment or ensure their application is running. Then, create a Service of type LoadBalancer. This should trigger VKS to create a load balancer, and the service will be accessible via the external IP provided.\n",
      "\n",
      "Alternatively, if they prefer using Ingress, they can create an Ingress resource with the necessary rules. But for this, an Ingress controller must be set up, which might be already handled by VKS if the load balancer plugin is enabled.\n",
      "\n",
      "So, I'll structure the response by explaining both methods. First, using LoadBalancer type for the Service, then creating an Ingress if needed. Also, remind them to make sure their cluster has the necessary network policies and that the load balancer plugin is enabled, which is mentioned in the Terraform examples provided.\n",
      "\n",
      "\n",
      "\n",
      "GENERATED RESPONSE\n",
      "\n",
      "\n",
      "Để expose một service trong VKS (VNGCloud Kubernetes Service), bạn có thể thực hiện theo các bước sau:\n",
      "\n",
      "1. **Tạo Deployment hoặc Pod**:\n",
      "   - 首先, bạn cần tạo một Deployment hoặc Pod chạy ứng dụng mà bạn muốn expose. Điều này có thể được thực hiện thông qua 文件 YAML hoặc sử dụng Terraform.\n",
      "\n",
      "   Ví dụestival file YAML để tạo Deployment:\n",
      "   ```yaml\n",
      "   apiVersion: apps/v1\n",
      "   kind: Deployment\n",
      "   metadata:\n",
      "     name: my-app\n",
      "   spec:\n",
      "     replicas: 2\n",
      "     selector:\n",
      "       matchLabels:\n",
      "         app: my-app\n",
      "     template:\n",
      "       metadata:\n",
      "         labels:\n",
      "           app: my-app\n",
      "       spec:\n",
      "         containers:\n",
      "         - name: my-container\n",
      "           image: <image-name>\n",
      "           ports:\n",
      "           - containerPort: 80\n",
      "   ```\n",
      "\n",
      "2. **Tạo Service**:\n",
      "   - Sau khi Deployment được tạo, bạn cần tạo một Service để expose ứng dụng. Service có thể là loại LoadBalancer, ClusterIP, hoặc NodePort tùy thuộc vào nhu cầu của bạn.\n",
      "\n",
      "   Ví dụestival file YAML để tạo Service loại LoadBalancer:\n",
      "   ```yaml\n",
      "   apiVersion: v1\n",
      "   kind: Service\n",
      "   metadata:\n",
      "     name: my-service\n",
      "   spec:\n",
      "     selector:\n",
      "       app: my-app\n",
      "     ports:\n",
      "     - name: http\n",
      "       port: 80\n",
      "       targetPort: 80\n",
      "     type: LoadBalancer\n",
      "   ```\n",
      "\n",
      "3. **Sử dụng Terraform (nếu cần)**:\n",
      "   - Nếu bạn đang sử dụng Terraform để quản lý các tài nguyên, bạn có thể định nghĩa Service trong file main.tf.\n",
      "\n",
      "   Ví dụestival:\n",
      "   ```terraform\n",
      "   resource \"kubernetes_service\" \"example\" {\n",
      "     metadata {\n",
      "       name = \"my-service\"\n",
      "     }\n",
      "     spec {\n",
      "       selector = {\n",
      "         app = \"my-app\"\n",
      "       }\n",
      "       port {\n",
      "         port        = 80\n",
      "         target_port = 80\n",
      "       }\n",
      "       type = \"LoadBalancer\"\n",
      "     }\n",
      "   }\n",
      "   ```\n",
      "\n",
      "4. **Kiểm tra Service**:\n",
      "   - Sau khi tạo Service, bạn có thể kiểm tra trạng thái của Service và lấy thông tin về địa chỉ IP 外部 để truy cập.\n",
      "\n",
      "   Sử dụng lệnh Kubernetes:\n",
      "   ```bash\n",
      "   kubectl get svc -n <namespace>\n",
      "   ```\n",
      "   Bạn sẽ thấy 外部 IP được gán cho Service nếu sử dụng loại LoadBalancer.\n",
      "\n",
      "5. **Cập nhật Security Group (nếu cần)**:\n",
      "   - Đảm bảo rằng Security Group được gắn với các Node trong Cluster cho phép lưu lượng truy cập đến các cổng mà bạn expose.\n",
      "\n",
      "6. **Sử dụng Ingress (tùy chọn)**:\n",
      "   - Bạn cũng có thể sử dụng Ingress để expose Service thông qua HTTP/HTTPS. Điều này yêu cầu bạn tạo một Ingress resource.\n",
      "\n",
      "   Ví dụestival file YAML để tạo Ingress:\n",
      "   ```yaml\n",
      "   apiVersion: networking.k8s.io/v1\n",
      "   kind: Ingress\n",
      "   metadata:\n",
      "     name: my-ingress\n",
      "   spec:\n",
      "     rules:\n",
      "     - host: my-app.example.com\n",
      "       http:\n",
      "         paths:\n",
      "         - path: /\n",
      "           pathType: Prefix\n",
      "           backend:\n",
      "             service:\n",
      "               name: my-service\n",
      "               port:\n",
      "                 number: 80\n",
      "   ```\n",
      "\n",
      "Những bước trên sẽ giúp bạn expose service trong VKS. Nếu bạn gặp khó khăn trong quá trình này, bạn có thể liên hệ với hỗ trợ VNG Cloud qua email support@vngcloud.vn hoặc hotline 19001549."
     ]
    }
   ],
   "execution_count": 27
  },
  {
   "metadata": {
    "ExecuteTime": {
     "end_time": "2025-03-17T04:39:55.221060Z",
     "start_time": "2025-03-17T04:39:39.106992Z"
    }
   },
   "cell_type": "code",
   "source": [
    "query = \"Hoàng Sa và Trường Sa là của ai?\"\n",
    "\n",
    "print(\"THINKING...\")\n",
    "for chunk in chain.stream({\"query\": query,\n",
    "                           \"context\": utils.from_documents_to_context(vector_store.similarity_search(query))}):\n",
    "    if chunk.content.strip() == \"</think>\":\n",
    "        print(\"\\n\\n\\nGENERATED RESPONSE\")\n",
    "        continue\n",
    "\n",
    "    print(chunk.content, end=\"\", flush=True)"
   ],
   "id": "4fdd6c4add382759",
   "outputs": [
    {
     "name": "stdout",
     "output_type": "stream",
     "text": [
      "THINKING...\n",
      "Được yêu cầu trả lời về chủ quyền của Hoàng Sa và Trường Sa, tôi xem xét các tài liệu cung cấp. Tài liệu 1 chỉ dẫn tham khảo thêm, Document 2 giới hạn và hạn chế CSI, Document 3 giải thích về Label và Taint, còn Document 4 nói về CSI. Không có thông tin nào liên quan đến chủ đề địa lý chính trị này. Do đó, tôi không có đủ thông tin để trả lời câu hỏi và cần yêu cầu khách hàng cung cấp thêm chi tiết.\n",
      "\n",
      "\n",
      "\n",
      "GENERATED RESPONSE\n",
      "\n",
      "\n",
      "Câu hỏi của bạn không liên quan đến thông tin предоставлена в.ActionListener. esos documentos говорят о Kubernetes, Lable, Taint и CSI.\n",
      "\n",
      "Пожалуйста, предоставьте больше информации или переформулируйте вопрос."
     ]
    }
   ],
   "execution_count": 28
  },
  {
   "metadata": {
    "ExecuteTime": {
     "end_time": "2025-03-17T04:40:39.231066Z",
     "start_time": "2025-03-17T04:39:55.228057Z"
    }
   },
   "cell_type": "code",
   "source": [
    "query = \"Tạo cho tôi PVC 20Gb trong vks\"\n",
    "\n",
    "print(\"THINKING...\")\n",
    "for chunk in chain.stream({\"query\": query,\n",
    "                           \"context\": utils.from_documents_to_context(vector_store.similarity_search(query))}):\n",
    "    if chunk.content.strip() == \"</think>\":\n",
    "        print(\"\\n\\n\\nGENERATED RESPONSE\")\n",
    "        continue\n",
    "\n",
    "    print(chunk.content, end=\"\", flush=True)"
   ],
   "id": "d1eeb23c809491b0",
   "outputs": [
    {
     "name": "stdout",
     "output_type": "stream",
     "text": [
      "THINKING...\n",
      "Được yêu cầu tạo PVC 20Gb trong VKS, tôi xem xét các tài liệu hướng dẫn cách tạo Persistent Volume Claim (PVC) thông qua file YAML. Tài liệu Document 1 và Document 2 đều提到 việc tạo PVC bằng cách sử dụng YAML và kể cả thay đổi kích thước lưu trữ. Document 1 cũng có thông tin về việc thay đổi kích thước PVC tối thiểu xuống 1GB, chứng tỏ việc tạo PVC với kích thước cụ thể là được hỗ trợ.\n",
      "\n",
      " Document 2 chi tiết cách tạo PVC size 20Gi bằng cách thêm tham số `requests: storage: 20Gi` vào YAML. Hơn nữa, mẫu YAML trong Document 2 và Document 3 đều prima usando refute size 20Gi. Điều này cho thấy cách thức đúng để tạo PVC 20Gb là sử dụng YAML với tham số phù hợp.\n",
      "\n",
      " Tôi cũng chú ý到 việc thêm annotation `isPOC: \"true\"` trong YAML nếu muốn sử dụng ví POC. Nếu không rõ thì cần hỏi thêm, nhưng mặc định có thể tạo PVC với kích thước yêu cầu.\n",
      "\n",
      "\n",
      "\n",
      "GENERATED RESPONSE\n",
      "\n",
      "\n",
      "Dưới đây là hướng dẫn tạo PVC 20GB trong VKS thông qua YAML:\n",
      "\n",
      "1. **Tạo file YAML** với nội dung như sau:\n",
      "\n",
      "```yaml\n",
      "apiVersion: v1\n",
      "kind: PersistentVolumeClaim\n",
      "metadata:\n",
      "  name: my-expansion-pvc\n",
      "spec:\n",
      "  accessModes:\n",
      "    - ReadWriteOnce\n",
      "  resources:\n",
      "    requests:\n",
      "      storage: 20Gi\n",
      "  storageClassName: my-expansion-storage-class\n",
      "```\n",
      "\n",
      "2. **Chạy lệnh áp dụng cấu hình**:\n",
      "\n",
      "```bash\n",
      "kubectl apply -f <file-yaml-name>.yaml\n",
      "```\n",
      "\n",
      "Thay thế `<file-yaml-name>` bằng tên file bạn đã tạo.\n",
      "\n",
      "File YAML này sẽ tạo một PVC với dung lượng 20GB sử dụng Storage Class `my-expansion-storage-class`. Sau khi chạy lệnh, PVC sẽ được tạo và sẵn sàng để sử dụng.\n",
      "\n",
      "Nếu cần thêm thông tin, vui lòng cho tôi biết!"
     ]
    }
   ],
   "execution_count": 29
  },
  {
   "metadata": {
    "ExecuteTime": {
     "end_time": "2025-03-17T04:41:41.813628Z",
     "start_time": "2025-03-17T04:40:39.239411Z"
    }
   },
   "cell_type": "code",
   "source": [
    "query = \"Làm sao để cấu hình volume type khi dùng pvc trong vks\"\n",
    "\n",
    "print(\"THINKING...\")\n",
    "for chunk in chain.stream({\"query\": query,\n",
    "                           \"context\": utils.from_documents_to_context(vector_store.similarity_search(query))}):\n",
    "    if chunk.content.strip() == \"</think>\":\n",
    "        print(\"\\n\\n\\nGENERATED RESPONSE\")\n",
    "        continue\n",
    "\n",
    "    print(chunk.content, end=\"\", flush=True)"
   ],
   "id": "5a8b25886a6b74d",
   "outputs": [
    {
     "name": "stdout",
     "output_type": "stream",
     "text": [
      "THINKING...\n",
      "Được nghiên cứu từ các documentation về tổng hợp của người dùng, tôi hiểu rằng để cấu hình volume type khi dùng PVC trong VKS, cần xác định storageClassName phù hợp.\n",
      "\n",
      "Tôi xem qua các document và thấy được nhắc đến storageClassName như là một phần quan trọng trong cấu hình PVC. Trong Document 1, người dùng định nghĩa storageClassName là my-expansion-storage-class. Điều này cho thấy rằng khi tạo PVC, cần phải chỉ định storageClassName tương ứng với loại volume mong muốn.\n",
      "\n",
      "Tôi cũng chú ý rằng trong Document 4, có đề cập đến việc thay đổi storage class mặc định từ IOPS 200 sang IOPS 3000. Điều này ám chỉ rằng người dùng có thể tạo các StorageClass khác nhau với các thông số như IOPS và khả năng lưu trữ không giới hạn.\n",
      "\n",
      "Từ đó, tôi suy ra rằng để cấu hình volume type, người dùng cần:\n",
      "\n",
      "1. Tạo một StorageClass với các tham số phù hợp, bao gồm type của volume như IOPS và kích thước lưu trữ.\n",
      "\n",
      "2. Khi tạo PVC, chỉ định storageClassName này để đảm bảo rằng PVC sử dụng đúng loại volume.\n",
      "\n",
      "Tôi cũng xem các ví dụ về việc chỉnh sửa annotations để thay đổi IOPS, nhưng điều này dường như là để thay đổi sau khi PVC đã tồn tại. Do đó, cách chính thức và khuyến nghị hơn là định nghĩa storageClassName từ đầu.\n",
      "\n",
      "Cuối cùng, tôi kết luận rằng để cấu hình volume type khi dùng PVC, người dùng cần định nghĩa StorageClass phù hợp và tham chiếu đến.StorageClass đó trong PVC.\n",
      "\n",
      "\n",
      "\n",
      "GENERATED RESPONSE\n",
      "\n",
      "\n",
      "Để cấu hình volume type khi sử dụng Persistent Volume Claim (PVC) trong VNGCloud Kubernetes Service (VKS), bạn cần định nghĩa `storageClassName` phù hợp trong file YAML của PVC. Dưới đây là hướng dẫn chi tiết:\n",
      "\n",
      "1. **Tạo StorageClass**:\n",
      "   - Định nghĩa một StorageClass mới với các thông số mong muốn như loại volume và IOPS.\n",
      "   - Ví dụ, nếu bạn muốn tạo một StorageClass với tên `my-storage-class` và các thông số cụ thể:\n",
      "\n",
      "   ```yaml\n",
      "   apiVersion: storage.k8s.io/v1\n",
      "   kind: StorageClass\n",
      "   metadata:\n",
      "     name: my-storage-class\n",
      "   provisioner: bs.csi.vngcloud.vn\n",
      "   parameters:\n",
      "     type: \"your-volume-type-id\"  # Thay đổi thành ID loại volume mong muốn\n",
      "     csi.storage.k8s.io/provisioner: bs.csi.vngcloud.vn\n",
      "   ```\n",
      "\n",
      "2. **Tạo PVC với StorageClass**:\n",
      "   - Trong file PVC, chỉ định `storageClassName` mà bạn đã tạo:\n",
      "\n",
      "   ```yaml\n",
      "   apiVersion: v1\n",
      "   kind: PersistentVolumeClaim\n",
      "   metadata:\n",
      "     name: my-pvc\n",
      "   spec:\n",
      "     accessModes:\n",
      "       - ReadWriteOnce\n",
      "     resources:\n",
      "       requests:\n",
      "         storage: 20Gi  # Kích thước lưu trữ mong muốn\n",
      "     storageClassName: my-storage-class  # Tên StorageClass đã tạo\n",
      "   ```\n",
      "\n",
      "3. **Áp dụng Cấu hình**:\n",
      "   - Chạy lệnh sau để áp dụng cấu hình:\n",
      "\n",
      "   ```bash\n",
      "   kubectl apply -f pvc.yaml\n",
      "   ```\n",
      "\n",
      "4. **Kiểm tra**:\n",
      "   - Sau khi áp dụng, kiểm tra xem PVC đã được tạo với đúng StorageClass:\n",
      "\n",
      "   ```bash\n",
      "   kubectl get pvc -o wide\n",
      "   ```\n",
      "\n",
      "Bằng cách này, bạn đã cấu hình thành công volume type cho PVC trong VKS bằng cách sử dụng StorageClass phù hợp."
     ]
    }
   ],
   "execution_count": 30
  },
  {
   "metadata": {
    "ExecuteTime": {
     "end_time": "2025-03-17T04:41:41.829175Z",
     "start_time": "2025-03-17T04:41:41.827370Z"
    }
   },
   "cell_type": "code",
   "source": "",
   "id": "62e7652d0138e8d2",
   "outputs": [],
   "execution_count": null
  }
 ],
 "metadata": {
  "kernelspec": {
   "name": "python3",
   "language": "python",
   "display_name": "Python 3 (ipykernel)"
  }
 },
 "nbformat": 5,
 "nbformat_minor": 9
}
