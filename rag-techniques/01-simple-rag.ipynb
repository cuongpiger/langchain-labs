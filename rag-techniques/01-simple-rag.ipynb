{
 "cells": [
  {
   "cell_type": "code",
   "execution_count": 1,
   "metadata": {},
   "outputs": [],
   "source": [
    "%load_ext autoreload\n",
    "%autoreload 2"
   ]
  },
  {
   "cell_type": "markdown",
   "metadata": {},
   "source": [
    "# Simple RAG (Retrieval-Augmented Generation) System\n",
    "## Overview\n",
    "\n",
    "This code implements a basic Retrieval-Augmented Generation (RAG) system for processing and querying PDF documents. The system encodes the document content into a vector store, which can then be queried to retrieve relevant information.\n",
    "\n",
    "## Key Components\n",
    "\n",
    "1. PDF processing and text extraction\n",
    "2. Text chunking for manageable processing\n",
    "3. Vector store creation using [FAISS](https://engineering.fb.com/2017/03/29/data-infrastructure/faiss-a-library-for-efficient-similarity-search/) and OpenAI embeddings\n",
    "4. Retriever setup for querying the processed documents\n",
    "5. Evaluation of the RAG system"
   ]
  },
  {
   "cell_type": "markdown",
   "metadata": {},
   "source": [
    "### Import libraries and environment variables"
   ]
  },
  {
   "cell_type": "code",
   "execution_count": 2,
   "metadata": {},
   "outputs": [],
   "source": [
    "import os\n",
    "import sys"
   ]
  },
  {
   "cell_type": "code",
   "execution_count": 3,
   "metadata": {},
   "outputs": [],
   "source": [
    "os.environ[\"GOOGLE_APPLICATION_CREDENTIALS\"] = (\n",
    "    \"/home/stackops/secret/work/vngcloud/ai-platform/vertex-ai-credential.json\"\n",
    ")"
   ]
  },
  {
   "cell_type": "code",
   "execution_count": 4,
   "metadata": {},
   "outputs": [
    {
     "name": "stderr",
     "output_type": "stream",
     "text": [
      "/tmp/ipykernel_32842/1451311806.py:1: LangChainDeprecationWarning: As of langchain-core 0.3.0, LangChain uses pydantic v2 internally. The langchain_core.pydantic_v1 module was a compatibility shim for pydantic v1, and should no longer be used. Please update the code to import from Pydantic directly.\n",
      "\n",
      "For example, replace imports like: `from langchain_core.pydantic_v1 import BaseModel`\n",
      "with: `from pydantic import BaseModel`\n",
      "or the v1 compatibility namespace if you are working in a code base that has not been fully upgraded to pydantic 2 yet. \tfrom pydantic.v1 import BaseModel\n",
      "\n",
      "  from helpers.helper_functions import *\n"
     ]
    }
   ],
   "source": [
    "from helpers.helper_functions import *\n",
    "from helpers.evalute_rag import *\n",
    "\n",
    "from langchain_community.document_loaders import PyPDFLoader\n",
    "from langchain_text_splitters import RecursiveCharacterTextSplitter\n",
    "from langchain.vectorstores import FAISS"
   ]
  },
  {
   "cell_type": "markdown",
   "metadata": {},
   "source": [
    "### Read Docs"
   ]
  },
  {
   "cell_type": "code",
   "execution_count": 5,
   "metadata": {},
   "outputs": [],
   "source": [
    "path = \"/home/stackops/langchain-labs/data/vks/pdf/vi/01-vks-la-gi.pdf\""
   ]
  },
  {
   "cell_type": "markdown",
   "metadata": {},
   "source": [
    "### Encode document"
   ]
  },
  {
   "cell_type": "code",
   "execution_count": 6,
   "metadata": {},
   "outputs": [],
   "source": [
    "def encode_pdf(path: str, chunk_size=1000, chunk_overlap=200):\n",
    "    \"\"\"\n",
    "    Encodes a PDF book into a vector store using OpenAI embeddings.\n",
    "\n",
    "    Args:\n",
    "        path: The path to the PDF file.\n",
    "        chunk_size: The desired size of each text chunk.\n",
    "        chunk_overlap: The amount of overlap between consecutive chunks.\n",
    "\n",
    "    Returns:\n",
    "        A FAISS vector store containing the encoded book content.\n",
    "    \"\"\"\n",
    "\n",
    "    # Load PDF documents\n",
    "    loader = PyPDFLoader(path)\n",
    "    documents = loader.load()\n",
    "\n",
    "    # Split documents into chunks\n",
    "    text_splitter = RecursiveCharacterTextSplitter(\n",
    "        chunk_size=chunk_size, chunk_overlap=chunk_overlap, length_function=len\n",
    "    )\n",
    "    texts = text_splitter.split_documents(documents)\n",
    "    cleaned_texts = replace_t_with_space(texts)\n",
    "\n",
    "    # Create embeddings (Tested with OpenAI and Amazon Bedrock)\n",
    "    embeddings = get_langchain_embedding_provider(EmbeddingProvider.HUGGINGFACE)\n",
    "    #embeddings = get_langchain_embedding_provider(EmbeddingProvider.AMAZON_BEDROCK)\n",
    "\n",
    "    # Create vector store\n",
    "    vectorstore = FAISS.from_documents(cleaned_texts, embeddings)\n",
    "\n",
    "    return vectorstore"
   ]
  },
  {
   "cell_type": "code",
   "execution_count": 7,
   "metadata": {},
   "outputs": [
    {
     "name": "stderr",
     "output_type": "stream",
     "text": [
      "/home/stackops/.local/lib/python3.10/site-packages/tqdm/auto.py:21: TqdmWarning: IProgress not found. Please update jupyter and ipywidgets. See https://ipywidgets.readthedocs.io/en/stable/user_install.html\n",
      "  from .autonotebook import tqdm as notebook_tqdm\n"
     ]
    }
   ],
   "source": [
    "chunks_vector_store = encode_pdf(path, chunk_size=1000, chunk_overlap=200)"
   ]
  },
  {
   "cell_type": "markdown",
   "metadata": {},
   "source": [
    "### Create retriever"
   ]
  },
  {
   "cell_type": "code",
   "execution_count": 8,
   "metadata": {},
   "outputs": [],
   "source": [
    "chunks_query_retriever = chunks_vector_store.as_retriever(search_kwargs={\"k\": 3})"
   ]
  },
  {
   "cell_type": "markdown",
   "metadata": {},
   "source": [
    "### Test retriever"
   ]
  },
  {
   "cell_type": "code",
   "execution_count": 9,
   "metadata": {},
   "outputs": [
    {
     "name": "stdout",
     "output_type": "stream",
     "text": [
      "Context 1:\n",
      "1. Giới thiệu về VNGCloud Kubernetes\n",
      "Service - VKS\n",
      "1.1. VNGCloud Kubernetes Service (VKS) là gì?\n",
      "VNGCloud Kubernetes Service (hay còn gọi là VKS) là một dịch vụ quản lý Kubernetes được cung\n",
      "cấp bởi VNGCloud. VKS giúp bạn triển khai và quản lý các ứng dụng dựa trên container một cách\n",
      "dễ dàng và hiệu quả. VKS giúp bạn tập trung vào việc phát triển ứng dụng mà không cần quan tâm\n",
      "đến việc quản lý Control Plane của Kubernetes.\n",
      "VKS (VNGCloud Kubernetes Service) là một dịch vụ được quản lý trên VNGCloud giúp bạn đơn\n",
      "giản hóa quá trình triển khai và quản lý các ứng dụng dựa trên container. Kubernetes là một nền\n",
      "tảng mã nguồn mở được phát triển bởi Google, được sử dụng rộng rãi để quản lý và triển khai các\n",
      "ứng dụng container trên môi trường phân tán.\n",
      "\n",
      "\n",
      "Context 2:\n",
      "1.2. Những điểm nổi bật của VKS\n",
      "Những điểm nổi bật của dịch vụ VKS có thể kể đến gồm:\n",
      "Quản lý Control Plane hoàn toàn tự động (Fully Managed control plane): VKS sẽ giải phóng\n",
      "bạn khỏi gánh nặng quản lý Control Plane của Kubernetes, giúp bạn tập trung vào việc phát\n",
      "triển ứng dụng.\n",
      "Hỗ trợ các phiên bản Kubernetes mới nhất: VKS luôn cập nhật những phiên bản Kubernetes\n",
      "mới nhất (minor version từ 1.27, 1.28, 1.29) để đảm bảo bạn luôn tận dụng được những tính\n",
      "năng tiên tiến nhất.\n",
      "Kubernetes Networking: VKS tích hợp Calico CNI, mang lại tính hiệu quả và bảo mật cao.\n",
      "Upgrade seamlessly: VKS hỗ trợ nâng cấp giữa các phiên bản Kubernetes một cách dễ dàng\n",
      "và nhanh chóng, giúp bạn luôn cập nhật những cải tiến mới nhất.\n",
      "Scaling & Healing Automatically: VKS tự động mở rộng Node group khi cần thiết và tự động\n",
      "sửa lỗi khi node gặp vấn đề, giúp bạn tiết kiệm thời gian và công sức quản lý.\n",
      "\n",
      "\n",
      "Context 3:\n",
      "quyền truy cập vào cluster thông qua tính năng Whitelist IP, đảm bảo an toàn cho hệ thống của\n",
      "bạn.\n",
      "Ngoài ra, VKS còn có các ưu điểm sau:\n",
      "Dễ sử dụng: VKS cung cấp giao diện đơn giản và dễ sử dụng.\n",
      "Chi phí hợp lý: VKS cung cấp mức giá cạnh tranh cho các dịch vụ của mình.\n",
      "1.3. VKS cung cấp dịch vụ trên các khu vực (region)\n",
      "nào?\n",
      "Hiện tại, trên VKS, chúng tôi đang cung cấp cho bạn 2 cơ sở hạ tầng riêng biệt được đặt tại Hà Nội\n",
      "và Hồ Chí Minh. Bạn có thể lựa chọn sử dụng VKS trên mỗi region tùy thuộc vào vị trí và nhu cầu\n",
      "thực tế của bạn. Đối với 2 farm HCM03, HAN01, các thông số cụ thể cho mỗi region được chúng\n",
      "tôi cung cấp như sau:\n",
      "Khu vực Hồ Chí Minh (HCM03): https://vks.console.vngcloud.vn\n",
      "Khu vực Hà Nội (HAN01): https://vks-han-1.console.vngcloud.vn\n",
      "1.4. Tài liệu tham khảo:\n",
      "Bạn có thể tìm hiểu thêm về VKS tại đường dẫn https://docs.vngcloud.vn/vng-cloud-\n",
      "document/vn/vks/vks-la-gi\n",
      "\n",
      "\n"
     ]
    },
    {
     "name": "stderr",
     "output_type": "stream",
     "text": [
      "/home/stackops/langchain-labs/rag-techniques/helpers/helper_functions.py:90: LangChainDeprecationWarning: The method `BaseRetriever.get_relevant_documents` was deprecated in langchain-core 0.1.46 and will be removed in 1.0. Use :meth:`~invoke` instead.\n",
      "  docs = chunks_query_retriever.get_relevant_documents(question)\n"
     ]
    }
   ],
   "source": [
    "test_query = \"VKS là gì vậy?\"\n",
    "context = retrieve_context_per_question(test_query, chunks_query_retriever)\n",
    "show_context(context)"
   ]
  },
  {
   "cell_type": "markdown",
   "metadata": {},
   "source": [
    "### Evaluate results"
   ]
  },
  {
   "cell_type": "code",
   "execution_count": 10,
   "metadata": {},
   "outputs": [
    {
     "data": {
      "text/plain": [
       "{'questions': ['##  How might the changing climate impact the cultural practices and traditions of indigenous communities in the Arctic, and what steps can be taken to mitigate these impacts? ',\n",
       "  ''],\n",
       " 'results': ['```json\\n{\\n  \"Relevance\": 1,\\n  \"Completeness\": 1,\\n  \"Conciseness\": 1\\n}\\n```\\n\\n**Explanation:**\\n\\n* **Relevance:** The retrieved information is completely irrelevant to the question. It describes a cloud service called VNGCloud Kubernetes Service, which has nothing to do with climate change, indigenous communities, or cultural practices.\\n* **Completeness:** The context is not complete in any way related to the question. It provides information about a cloud service, but it doesn\\'t offer any insights into the impact of climate change on indigenous communities.\\n* **Conciseness:** While the context is concise in describing the VNGCloud Kubernetes Service, it\\'s irrelevant to the question, making conciseness a moot point. \\n\\n**Overall:** The retrieved context is completely off-topic and provides no useful information for answering the question. \\n',\n",
       "  '```json\\n{\\n  \"Relevance\": 3,\\n  \"Completeness\": 2,\\n  \"Conciseness\": 2\\n}\\n```\\n\\n**Explanation:**\\n\\n* **Relevance:** The retrieved context is somewhat relevant as it discusses VKS, a service that likely relates to clusters. However, it doesn\\'t directly answer the question about the regions where VKS is available.\\n* **Completeness:** The context provides information about the regions (Hà Nội and Hồ Chí Minh) and even links to their respective consoles. However, it lacks details about the specific services offered in each region, which would be crucial for answering the question.\\n* **Conciseness:** The context is quite lengthy and includes a lot of information about VKS\\'s features and benefits. While some of this information is relevant, it could be more concisely presented to focus on the specific question about regions. \\n\\n**Improvements:**\\n\\nThe retrieved context could be improved by:\\n\\n* **Directly answering the question:**  Clearly stating the regions where VKS is available and any specific services offered in each region.\\n* **Removing irrelevant information:**  Focusing on the question about regions and removing details about VKS\\'s features and benefits that are not directly related.\\n* **Providing a more concise summary:**  Summarizing the key information about regions in a shorter and more focused manner. \\n'],\n",
       " 'average_scores': None}"
      ]
     },
     "execution_count": 10,
     "metadata": {},
     "output_type": "execute_result"
    }
   ],
   "source": [
    "#Note - this currently works with OPENAI only\n",
    "evaluate_rag(chunks_query_retriever, 1)"
   ]
  },
  {
   "cell_type": "code",
   "execution_count": null,
   "metadata": {},
   "outputs": [],
   "source": []
  }
 ],
 "metadata": {
  "kernelspec": {
   "display_name": "Python 3",
   "language": "python",
   "name": "python3"
  },
  "language_info": {
   "codemirror_mode": {
    "name": "ipython",
    "version": 3
   },
   "file_extension": ".py",
   "mimetype": "text/x-python",
   "name": "python",
   "nbconvert_exporter": "python",
   "pygments_lexer": "ipython3",
   "version": "3.10.12"
  }
 },
 "nbformat": 4,
 "nbformat_minor": 2
}
