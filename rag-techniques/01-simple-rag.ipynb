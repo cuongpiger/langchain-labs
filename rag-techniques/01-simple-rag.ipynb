{
 "cells": [
  {
   "cell_type": "code",
   "execution_count": 1,
   "metadata": {},
   "outputs": [],
   "source": [
    "%load_ext autoreload\n",
    "%autoreload 2"
   ]
  },
  {
   "cell_type": "markdown",
   "metadata": {},
   "source": [
    "# Simple RAG (Retrieval-Augmented Generation) System\n",
    "## Overview\n",
    "\n",
    "This code implements a basic Retrieval-Augmented Generation (RAG) system for processing and querying PDF documents. The system encodes the document content into a vector store, which can then be queried to retrieve relevant information.\n",
    "\n",
    "## Key Components\n",
    "\n",
    "1. PDF processing and text extraction\n",
    "2. Text chunking for manageable processing\n",
    "3. Vector store creation using [FAISS](https://engineering.fb.com/2017/03/29/data-infrastructure/faiss-a-library-for-efficient-similarity-search/) and OpenAI embeddings\n",
    "4. Retriever setup for querying the processed documents\n",
    "5. Evaluation of the RAG system"
   ]
  },
  {
   "cell_type": "markdown",
   "metadata": {},
   "source": [
    "### Import libraries and environment variables"
   ]
  },
  {
   "cell_type": "code",
   "execution_count": 2,
   "metadata": {},
   "outputs": [],
   "source": [
    "import os\n",
    "import sys"
   ]
  },
  {
   "cell_type": "code",
   "execution_count": 3,
   "metadata": {},
   "outputs": [],
   "source": [
    "os.environ[\"GOOGLE_APPLICATION_CREDENTIALS\"] = (\n",
    "    \"/home/stackops/secret/work/vngcloud/ai-platform/vertex-ai-credential.json\"\n",
    ")"
   ]
  },
  {
   "cell_type": "code",
   "execution_count": 4,
   "metadata": {},
   "outputs": [
    {
     "name": "stderr",
     "output_type": "stream",
     "text": [
      "/tmp/ipykernel_9170/1451311806.py:1: LangChainDeprecationWarning: As of langchain-core 0.3.0, LangChain uses pydantic v2 internally. The langchain_core.pydantic_v1 module was a compatibility shim for pydantic v1, and should no longer be used. Please update the code to import from Pydantic directly.\n",
      "\n",
      "For example, replace imports like: `from langchain_core.pydantic_v1 import BaseModel`\n",
      "with: `from pydantic import BaseModel`\n",
      "or the v1 compatibility namespace if you are working in a code base that has not been fully upgraded to pydantic 2 yet. \tfrom pydantic.v1 import BaseModel\n",
      "\n",
      "  from helpers.helper_functions import *\n",
      "/home/stackops/.local/lib/python3.10/site-packages/deepeval/__init__.py:53: UserWarning: You are using deepeval version 2.3.7, however version 2.4.1 is available. You should consider upgrading via the \"pip install --upgrade deepeval\" command.\n",
      "  warnings.warn(\n"
     ]
    }
   ],
   "source": [
    "from helpers.helper_functions import *\n",
    "from helpers.evalute_rag import *\n",
    "\n",
    "from langchain_community.document_loaders import PyPDFLoader\n",
    "from langchain_text_splitters import RecursiveCharacterTextSplitter\n",
    "from langchain.vectorstores import FAISS"
   ]
  },
  {
   "cell_type": "markdown",
   "metadata": {},
   "source": [
    "### Read Docs"
   ]
  },
  {
   "cell_type": "code",
   "execution_count": 5,
   "metadata": {},
   "outputs": [],
   "source": [
    "paths = (\"/home/stackops/langchain-labs/data/vks/pdf/vi/01-vks-la-gi.pdf\", \n",
    "         \"/home/stackops/langchain-labs/data/vks/pdf/vi/02-nlb.pdf\",\n",
    "         \"/home/stackops/langchain-labs/data/vks/pdf/vi/03-mo-hinh-hoat-dong.pdf\",\n",
    "         \"/home/stackops/langchain-labs/data/vks/pdf/vi/04-thong-bao-cap-nhat-release-note.pdf\")"
   ]
  },
  {
   "cell_type": "markdown",
   "metadata": {},
   "source": [
    "### Encode document"
   ]
  },
  {
   "cell_type": "code",
   "execution_count": 6,
   "metadata": {},
   "outputs": [],
   "source": [
    "def encode_pdf(paths: List[str], chunk_size=1000, chunk_overlap=200):\n",
    "    \"\"\"\n",
    "    Encodes a PDF book into a vector store using OpenAI embeddings.\n",
    "\n",
    "    Args:\n",
    "        path: The path to the PDF file.\n",
    "        chunk_size: The desired size of each text chunk.\n",
    "        chunk_overlap: The amount of overlap between consecutive chunks.\n",
    "\n",
    "    Returns:\n",
    "        A FAISS vector store containing the encoded book content.\n",
    "    \"\"\"\n",
    "\n",
    "    # Load PDF documents\n",
    "    cleaned_texts = []\n",
    "    for path in paths:\n",
    "        loader = PyPDFLoader(path)\n",
    "        documents = loader.load()\n",
    "\n",
    "        # Split documents into chunks\n",
    "        text_splitter = RecursiveCharacterTextSplitter(\n",
    "            chunk_size=chunk_size, chunk_overlap=chunk_overlap, length_function=len\n",
    "        )\n",
    "        texts = text_splitter.split_documents(documents)\n",
    "        cleaned_texts = cleaned_texts + replace_t_with_space(texts)\n",
    "\n",
    "    # Create embeddings (Tested with OpenAI and Amazon Bedrock)\n",
    "    embeddings = get_langchain_embedding_provider(EmbeddingProvider.HUGGINGFACE)\n",
    "    #embeddings = get_langchain_embedding_provider(EmbeddingProvider.AMAZON_BEDROCK)\n",
    "\n",
    "    # Create vector store\n",
    "    vectorstore = FAISS.from_documents(cleaned_texts, embeddings)\n",
    "\n",
    "    return vectorstore"
   ]
  },
  {
   "cell_type": "code",
   "execution_count": 7,
   "metadata": {},
   "outputs": [
    {
     "name": "stderr",
     "output_type": "stream",
     "text": [
      "/home/stackops/.local/lib/python3.10/site-packages/pypdf/_crypt_providers/_cryptography.py:32: CryptographyDeprecationWarning: ARC4 has been moved to cryptography.hazmat.decrepit.ciphers.algorithms.ARC4 and will be removed from cryptography.hazmat.primitives.ciphers.algorithms in 48.0.0.\n",
      "  from cryptography.hazmat.primitives.ciphers.algorithms import AES, ARC4\n",
      "/home/stackops/.local/lib/python3.10/site-packages/tqdm/auto.py:21: TqdmWarning: IProgress not found. Please update jupyter and ipywidgets. See https://ipywidgets.readthedocs.io/en/stable/user_install.html\n",
      "  from .autonotebook import tqdm as notebook_tqdm\n"
     ]
    }
   ],
   "source": [
    "chunks_vector_store = encode_pdf(paths, chunk_size=8000, chunk_overlap=7800)"
   ]
  },
  {
   "cell_type": "markdown",
   "metadata": {},
   "source": [
    "### Create retriever"
   ]
  },
  {
   "cell_type": "code",
   "execution_count": 8,
   "metadata": {},
   "outputs": [],
   "source": [
    "chunks_query_retriever = chunks_vector_store.as_retriever(search_kwargs={\"k\": 3})"
   ]
  },
  {
   "cell_type": "markdown",
   "metadata": {},
   "source": [
    "### Test retriever"
   ]
  },
  {
   "cell_type": "code",
   "execution_count": 9,
   "metadata": {},
   "outputs": [
    {
     "name": "stdout",
     "output_type": "stream",
     "text": [
      "Context 1:\n",
      "2. Tích hợp Network Load Balancer (NLB) trên VKS\n",
      "2.1. Network Load Balancer (NLB) là gì?\n",
      "Network Load Balancer (tên viết tắt là NLB) là một bộ cân bằng tải được cung cấp bởi VNGCloud giúp phân phối lưu lượng truy cập\n",
      "mạng đến nhiều máy chủ back-end (backend servers) trong một nhóm máy tính (instance group). NLB hoạt động ở layer 4 của mô hình\n",
      "OSI, giúp cân bằng tải dựa trên địa chỉ IP và cổng TCP/UDP. Để biết thêm thông tin chi tiết về NLB, vui lòng tham khảo tại\n",
      "https://docs.vngcloud.vn/vng-cloud-document/vn/vks/network/lam-viec-voi-network-load-balancing-nlb\n",
      "2.2. Mô hình triển khai\n",
      "(Đường dẫn đến hình ảnh: https://docs.vngcloud.vn/~gitbook/image?url=https%3A%2F%2F3672463924-\n",
      "ﬁles.gitbook.io%2F%7E%2Fﬁles%2Fv0%2Fb%2Fgitbook-x-\n",
      "prod.appspot.com%2Fo%2Fspaces%252FB0NrrrdJdpYOYzRkbWp5%252Fuploads%252FVYBtJjEoUNgDi1f5J9vL%252Fimage.png%3Falt%3\n",
      "Dmedia%26token%3D554a2d62-320e-48d1-a884-3c7cce589071&width=768&dpr=2&quality=100&sign=4336a109&sv=2)\n",
      "VNGCloud LoadBalancer Controller: là một bộ điều khiển (hay còn gọi là controller) chạy trên các cụm Kubernetes được triển khai trên\n",
      "VNGCloud. Controller này chịu trách nhiệm:\n",
      "Quản lý các Network Load Balancer (NLB) cho các Service của Kubernetes có thuộc tính  serviceType  là  LoadBalancer .\n",
      "Điều phối lưu lượng mạng đến các  pod  trên worker node của bạn.\n",
      "2.3. Cài đặt VNGCloud LoadBalancer Controller để sử dụng NLB\n",
      "Để sử dụng NLB trên VKS, bạn cần cài đặt plugin VNGCloud LoadBalancer Controller. Plugin này đảm nhận vai trò quản lý và cấu hình NLB\n",
      "cho các tài nguyên  Service  có thuộc tính  serviceType  là  LoadBalancer . Mặc định, một cụm Kubernetes trên VKS đã được cài đặt sẵn\n",
      "plugin VNGCloud LoadBalancer Controller này. Việc cài đặt sẵn này giúp bạn có thể sử dụng NLB mà không cần phải thực hiện thêm bất kỳ\n",
      "\n",
      "\n",
      "Context 2:\n",
      "Bắt buộc phải có trong spec của tài nguyên  Service : Không bắt buộc\n",
      "Ý nghĩa: Bao gồm 2 giá trị là  internet-facing  và  internal . Nếu giá trị của annotation này là  internet-facing , NLB sẽ được cấu\n",
      "hình để truy cập từ Internet. Nếu giá trị của annotation này là  internal , NLB sẽ được cấu hình để truy cập từ mạng nội bộ.\n",
      " vks.vngcloud.vn/security-groups :\n",
      "Bắt buộc phải có trong spec của tài nguyên  Service : Không bắt buộc\n",
      "Ý nghĩa: Mặc định, VNGCloud LoadBalancer Controller sẽ tự động tạo một Security Group mới cho NLB của bạn. Tuy nhiên, nếu\n",
      "bạn muốn sử dụng một Security Group đã có, bạn có thể sử dụng annotation này để thiết lập Security Group cho NLB của bạn. Ví\n",
      "dụ:  vks.vngcloud.vn/security-groups: secg-303d9c91-f4b2-400d-8e81-12039167da0c . Ngoài ra, bạn cũng có thể cấu hình nhiều\n",
      "Security Group cho NLB của bạn bằng cách sử dụng dấu phẩy  ,  để ngăn cách giữa các Security Group. Ví dụ:\n",
      " vks.vngcloud.vn/security-groups: secg-303d9c91-f4b2-400d-8e81-12039167da0c,secg-303d9c91-f4b2-400d-8e81-12039167da0d \n",
      ".\n",
      " vks.vngcloud.vn/inbound-cidrs :\n",
      "Bắt buộc phải có trong spec của tài nguyên  Service : Không bắt buộc\n",
      "Ý nghĩa: Mặc định, NLB sẽ được cấu hình để truy cập từ mọi địa chỉ IP. Tuy nhiên, nếu bạn muốn cấu hình NLB để chỉ cho phép truy\n",
      "cập từ một số địa chỉ IP cụ thể, bạn có thể sử dụng annotation này. Ví dụ:  vks.vngcloud.vn/inbound-cidrs: 183.23.23.13 . Ngoài\n",
      "ra, bạn cũng có thể cấu hình nhiều địa chỉ IP cho NLB của bạn bằng cách sử dụng dấu phẩy  ,  để ngăn cách giữa các địa chỉ IP. Ví\n",
      "dụ:  vks.vngcloud.vn/inbound-cidrs: 183.23.23.13,183.23.23.23 .\n",
      " vks.vngcloud.vn/healthy-threshold-count :\n",
      "Bắt buộc phải có trong spec của tài nguyên  Service : Không bắt buộc\n",
      "Ý nghĩa: Là ngưỡng số lần liên tiếp mà một máy chủ back-end phải trả về trạng thái  healthy  để được coi là HEALTHY. Mặc định,\n",
      "giá trị của annotation này là  3 .\n",
      " vks.vngcloud.vn/unhealthy-threshold-count :\n",
      "Bắt buộc phải có trong spec của tài nguyên  Service : Không bắt buộc\n",
      "Ý nghĩa: Là ngưỡng số lần liên tiếp mà một máy chủ back-end phải trả về trạng thái  unhealthy  để được coi là UNHEALTHY. Mặc\n",
      "định, giá trị của annotation này là  3 .\n",
      " vks.vngcloud.vn/healthcheck-interval-seconds :\n",
      "Bắt buộc phải có trong spec của tài nguyên  Service : Không bắt buộc\n",
      "Ý nghĩa: Là khoảng thời gian giữa các lần kiểm tra sức khỏe của máy chủ back-end. Mặc định, giá trị của annotation này là  30  giây.\n",
      " vks.vngcloud.vn/healthcheck-timeout-seconds :\n",
      "Bắt buộc phải có trong spec của tài nguyên  Service : Không bắt buộc\n",
      "Ý nghĩa: Là thời gian tối đa mà một máy chủ back-end phải trả về trạng thái  healthy  hoặc  unhealthy . Mặc định, giá trị của\n",
      "annotation này là  5  giây.\n",
      " vks.vngcloud.vn/healthcheck-protocol :\n",
      "Bắt buộc phải có trong spec của tài nguyên  Service : Không bắt buộc\n",
      "Ý nghĩa: Là giao thức sử dụng để kiểm tra sức khỏe của máy chủ back-end. Mặc định, giá trị của annotation này là  TCP . Ngoài ra,\n",
      "một vài giá trị khác mà bạn có thể sử dụng là  PING-UDP ,  HTTP ,  HTTPS .\n",
      " vks.vngcloud.vn/healthcheck-http-method :\n",
      "Bắt buộc phải có trong spec của tài nguyên  Service : Không bắt buộc\n",
      "Ý nghĩa: Là phương thức HTTP sử dụng để kiểm tra sức khỏe của máy chủ back-end. Mặc định, giá trị của annotation này là  GET .\n",
      "Ngoài ra, một vài giá trị khác mà bạn có thể sử dụng là  PUT ,  POST . Lưu ý rằng annotation này chỉ có tác dụng khi\n",
      " vks.vngcloud.vn/healthcheck-protocol  được thiết lập là  HTTP  hoặc  HTTPS .\n",
      " vks.vngcloud.vn/healthcheck-path :\n",
      "Bắt buộc phải có trong spec của tài nguyên  Service : Không bắt buộc\n",
      "Ý nghĩa: Là đường dẫn sử dụng để kiểm tra sức khỏe của máy chủ back-end. Mặc định, giá trị của annotation này là  / . Lưu ý rằng\n",
      "annotation này chỉ có tác dụng khi  vks.vngcloud.vn/healthcheck-protocol  được thiết lập là  HTTP  hoặc  HTTPS .\n",
      " vks.vngcloud.vn/healthcheck-http-version :\n",
      "Bắt buộc phải có trong spec của tài nguyên  Service : Không bắt buộc\n",
      "Ý nghĩa: Là phiên bản HTTP sử dụng để kiểm tra sức khỏe của máy chủ back-end. Mặc định, giá trị của annotation này là  1.0 .\n",
      "Ngoài ra bạn cũng có thể sử dụng giá trị  1.1  khi cần thiết. Lưu ý rằng annotation này chỉ có tác dụng khi\n",
      " vks.vngcloud.vn/healthcheck-protocol  được thiết lập là  HTTP  hoặc  HTTPS .\n",
      " vks.vngcloud.vn/healthcheck-http-domain-name :\n",
      "Bắt buộc phải có trong spec của tài nguyên  Service : Không bắt buộc\n",
      "Ý nghĩa: Là tên miền sử dụng để kiểm tra sức khỏe của máy chủ back-end. Mặc định, giá trị của annotation này là RỖNG. Lưu ý rằng\n",
      "annotation này chỉ có tác dụng khi  vks.vngcloud.vn/healthcheck-protocol  được thiết lập là  HTTP  hoặc  HTTPS .\n",
      " vks.vngcloud.vn/healthcheck-port :\n",
      "Bắt buộc phải có trong spec của tài nguyên  Service : Không bắt buộc\n",
      "Ý nghĩa: Là cổng sử dụng để kiểm tra sức khỏe của máy chủ back-end. Mặc định, giá trị của annotation này sẽ lấy theo trường  port \n",
      "của tài nguyên  Service  cần dùng NLB này. Lưu ý rằng annotation này chỉ có tác dụng khi\n",
      "\n",
      "\n",
      "Context 3:\n",
      "thao tác cấu hình nào khác và đảm bảo luôn được cập nhật phiên bản mới nhất. Tuy nhiên người dùng hoàn toàn có thể bật/tắt plugin này\n",
      "thông qua thiết lập Enable vLB Native Integration Driver trên VKS Console.\n",
      "Ngoài ra, người dùng hoàn toàn có thể tự cài đặt plugin VNGCloud LoadBalancer Controller bằng cách thực hiện các bước sau:\n",
      "Bước 1: Tạo một Kubernetes cluster trên VKS, hoặc sử dụng một cluster đã có. Tải ﬁle  kubeconfig  của cluster về thiết bị của bạn.\n",
      "Ngoài ra, bạn nên kiểm tra ﬁle  kubeconfig  này đã có thể kết nối đến cluster thành công hay chưa thông qua  kubectl  CLI.\n",
      "Bước 2: Khởi tạo hoặc sử dụng một IAM Service Account đã có trên IAM Console và thiết lập hai policy  vLBFullAccess  và\n",
      " vServerFullAccess  cho Service Account này. Bạn có thể tham khảo cách tạo Service Account tại https://hcm-\n",
      "3.console.vngcloud.vn/iam/service-accounts. Sau đó, bạn cần lưu lại Client ID và Client Secret của Service Account này.\n",
      "Bước 3: Bạn cần cài đặt Helm 3.0 trên thiết bị của bạn, bạn có thể tham khảo cách cài đặt Helm tại https://helm.sh/docs/intro/install.\n",
      "Sau khi  helm  CLI đã được cài đặt thành công, bạn đã có thể dùng  helm  CLI để cài đặt plugin, lưu ý rằng bạn cần thay thế các giá trị\n",
      "Client ID và Client Secret của Service Account vào lệnh dưới đây:\n",
      "helm install vngcloud-load-balancer-controller oci://vcr.vngcloud.vn/81-vks-public/vks-helm-charts/vngcloud-load-balance\n",
      "Bước 4: Sau khi Helm hoàn tất việc cài đặt VNGCloud LoadBalancer Controller, bạn có thể kiểm tra xem plugin đã hoạt động hay chưa\n",
      "bằng lệnh:\n",
      "kubectl -n kube-system get pod -l app.kubernetes.io/name =vngcloud-load-balancer-controller\n",
      "Dưới đây là ví dụ kết quả trả về khi plugin đã hoạt động:\n",
      "NAME                                                              READY   STATUS    RESTARTS   AGE\n",
      "vngcloud-load-balancer-controller-1736217866-manager-77599vrxpz   1/1     Running   0          4h24m\n",
      "2.4. Sử dụng Network Load Balancer (NLB) trên VKS\n",
      "Sau khi đã cài đặt plugin VNGCloud LoadBalancer Controller thành công, bạn đã có thể sử dụng NLB thông quà tài nguyên  Service  trên\n",
      "Kubernetes. Dưới đây là một vài tình huống sử dụng NLB trên VKS:\n",
      "Ví dụ 1: Công khai một dịch vụ Nginx trên cổng 80 với NLB đến Internet:\n",
      "\n",
      "\n"
     ]
    }
   ],
   "source": [
    "test_query = \"NLB là gì?\"\n",
    "context = retrieve_context_per_question(test_query, chunks_query_retriever)\n",
    "show_context(context)"
   ]
  },
  {
   "cell_type": "code",
   "execution_count": 10,
   "metadata": {},
   "outputs": [
    {
     "name": "stdout",
     "output_type": "stream",
     "text": [
      "Context 1:\n",
      "Public cluster: Khó kiểm soát hơn, có thể quản lý truy cập thông qua tính năng\n",
      "Whitelist.\n",
      "Private cluster: Kiểm soát truy cập chặt chẽ, mọi kết nối đều nằm trong mạng private\n",
      "của VNG Cloud, từ đó giảm thiểu nguy cơ từ các cuộc tấn công mạng từ bên ngoài.\n",
      "Khả năng mở rộng (AutoScaling):\n",
      "Public cluster: Dễ dàng mở rộng thông qua tính năng Auto Scaling.\n",
      "Private cluster: Dễ dàng mở rộng thông qua tính năng Auto Scaling.\n",
      "Khả năng tự hồi phục (AutoHealing):\n",
      "Public cluster: Tự động phát hiện lỗi và khởi động lại node (Auto Healing)\n",
      "Private cluster: Tự động phát hiện lỗi và khởi động lại node (Auto Healing)\n",
      "Khả năng truy cập từ bên ngoài:\n",
      "Public cluster: Dễ dàng truy cập từ bất kỳ đâu với\n",
      "Private cluster: Truy cập từ bên ngoài phải qua các giải pháp bảo mật khác.\n",
      "Cấu hình và triển khai:\n",
      "Public cluster: Đơn giản hơn do không yêu cầu thiết lập mạng nội bộ.\n",
      "Private cluster: Phức tạp hơn, yêu cầu cấu hình mạng private và bảo mật.\n",
      "Chi phí:\n",
      "Public cluster: Thường thấp hơn do không cần thiết lập cơ sở hạ tầng bảo mật phức\n",
      "tạp.\n",
      "Private cluster: Chi phí cao hơn do yêu cầu thêm các thành phần bảo mật và quản lý.\n",
      "Cụ thể, khi sử dụng private cluster, bạn cần chi trả chi phí cho 4 private service\n",
      "endpoint được tạo tự động để kết nối tới các dịch vụ trên VNGCloud.\n",
      "Tính linh hoạt:\n",
      "Public cluster: Cao, dễ dàng thay đổi và truy cập các dịch vụ.\n",
      "Private cluster: Linh hoạt hơn trong các ứng dụng yêu cầu bảo mật, nhưng ít linh hoạt\n",
      "hơn cho các ứng dụng yêu cầu truy cập từ bên ngoài.\n",
      "Kết luận:\n",
      "Public Cluster: Phù hợp cho các ứng dụng không yêu cầu bảo mật cao và cần sự linh\n",
      "hoạt, truy cập từ nhiều địa điểm. Dễ dàng triển khai và quản lý nhưng có rủi ro bảo mật\n",
      "cao hơn.\n",
      "Private Cluster: Phù hợp cho các ứng dụng yêu cầu bảo mật cao, tuân thủ nghiêm ngặt\n",
      "các quy định về bảo mật và quyền riêng tư. Mang lại kết nối ổn định và bảo mật, nhưng\n",
      "yêu cầu cấu hình và quản lý phức tạp hơn, cũng như chi phí cao hơn.\n",
      "\n",
      "\n",
      "Context 2:\n",
      "3. Mô hình hoạt động của VKS\n",
      "VNGCloud Kubernetes Service (VKS) hỗ trợ 2 loại cluster chính là Public Cluster và Private\n",
      "Cluster. Đối với node group, VKS hỗ trợ 2 loại node group chính là Public Node Group và\n",
      "Private Node Group. Từ đó, khách hàng có thể kết hợp giữa các loại cluster và node group để\n",
      "tạo ra các mô hình hoạt động phù hợp với yêu cầu của ứng dụng, cụ thể:\n",
      "Public Cluster với Public Node Group: Các node trong nodegroup có địa chỉ IP Public\n",
      "riêng, kết đến nối ControlPlane thông qua IP Public của Kubernetes API Server. Điều này\n",
      "dẫn rủi ro bảo mật cao hơn. Tuy nhiên bạn hoàn toàn có thể hạn chế truy cập đến\n",
      "ControlPlane thông qua tính năng Whitelist IP. Một điều lưu ý là bạn cần đảm bảo không\n",
      "hạn chế truy cập từ các IP của các node trong nodegroup.\n",
      "Public Cluster với Private Node Group: Các node trong nodegroup không có địa chỉ IP\n",
      "Public riêng, không thể kết nối trực tiếp đến ControlPlane. Để các node trong nodegroup\n",
      "có thể kết nối đến ControlPlane, bạn cần sử dụng một NAT Gateway (NATGW). NATGW\n",
      "hoạt động như một trạm chuyển tiếp, cho phép các node kết nối với ControlPlane mà\n",
      "không cần IP Public. VNGCloud khuyến nghị sử dụng Pfsense hoặc Palo Alto như một\n",
      "NATGW cho Cluster của bạn.\n",
      "Private Cluster với Public Node Group: Các node trong nodegroup có địa chỉ IP Public\n",
      "riêng, kết đến nối ControlPlane thông qua IP Private của Kubernetes API Server. Điều này\n",
      "giúp giảm rủi ro bảo mật.\n",
      "Private Cluster với Private Node Group: Các node trong nodegroup không có địa chỉ IP\n",
      "Public riêng, mọi kết nối đến Kubernetes API server đều thông qua IP Private. Điều này\n",
      "giúp tăng cường bảo mật cho cụm Kubernetes của bạn.\n",
      "3.1. So sánh public cluster và private cluster\n",
      "Dưới đây là bảng so sánh giữa việc tạo và sử dụng Public Cluster và Private Cluster trên hệ\n",
      "thống VKS:\n",
      "Kết nối:\n",
      "Public cluster: Sử dụng địa chỉ Public IP để giao tiếp giữa nodes và control plane,\n",
      "giữa client và control plane, giữa nodes và các dịch vụ khác trong VNG Cloud.\n",
      "Private cluster: Sử dụng địa chỉ Private IP để giao tiếp giữa nodes và control plane,\n",
      "giữa client và control plane, giữa nodes và các dịch vụ khác trong VNG Cloud.\n",
      "Bảo mật:\n",
      "Public cluster: Bảo mật trung bình do các kết nối sử dụng Public IP.\n",
      "Private cluster: Bảo mật cao hơn với tất cả kết nối đều private và giới hạn truy cập.\n",
      "Quản lý truy cập:\n",
      "\n",
      "\n",
      "Context 3:\n",
      "Ubuntu-22.kube_v1.27.12-vks.1724605200\n",
      "Ubuntu-22.kube_v1.28.8-vks.1724605200\n",
      "Ubuntu-22.kube_v1.29.1-vks.1724605200\n",
      "Lưu ý: Để khởi tạo một Private Cluster, bạn cần chọn sử dụng một trong 3 image mới này.\n",
      "Đối với Public Cluster, bạn có thể chọn sử dụng bất kỳ image cũ hoặc mới tùy theo nhu\n",
      "cầu của bạn.\n",
      "\n",
      "\n"
     ]
    }
   ],
   "source": [
    "test_query = \"Public cluster là gì, hãy so sánh nó với private cluster\"\n",
    "context = retrieve_context_per_question(test_query, chunks_query_retriever)\n",
    "show_context(context)"
   ]
  },
  {
   "cell_type": "markdown",
   "metadata": {},
   "source": [
    "### Evaluate results"
   ]
  },
  {
   "cell_type": "code",
   "execution_count": 11,
   "metadata": {},
   "outputs": [
    {
     "name": "stderr",
     "output_type": "stream",
     "text": [
      "/home/stackops/langchain-labs/rag-techniques/helpers/evalute_rag.py:120: LangChainDeprecationWarning: The method `BaseRetriever.get_relevant_documents` was deprecated in langchain-core 0.1.46 and will be removed in 1.0. Use :meth:`~invoke` instead.\n",
      "  context = retriever.get_relevant_documents(question)\n"
     ]
    },
    {
     "data": {
      "text/plain": [
       "{'questions': ['##  How might the changing climate impact the cultural practices and traditions of indigenous communities in the Arctic, and what steps can be taken to mitigate these impacts? ',\n",
       "  ''],\n",
       " 'results': ['```json\\n{\\n  \"Relevance\": 1,\\n  \"Completeness\": 1,\\n  \"Conciseness\": 1\\n}\\n```\\n\\nThe retrieved information is completely irrelevant to the question. It focuses on configuring Network Load Balancers (NLB) on VNGCloud, a cloud platform, which has no relation to the impact of climate change on indigenous communities in the Arctic. \\n\\nThe context is not complete as it does not provide any information related to the question. It is also not concise as it provides a detailed explanation of NLB configuration on VNGCloud, which is not relevant to the user\\'s query. \\n',\n",
       "  '```json\\n{\\n  \"Relevance\": 3,\\n  \"Completeness\": 2,\\n  \"Conciseness\": 2\\n}\\n```\\n\\n**Explanation:**\\n\\n* **Relevance:** The retrieved context is somewhat relevant as it discusses Network Load Balancer (NLB) on VKS, which is related to the question. However, it doesn\\'t directly answer the question about how to use NLB.\\n* **Completeness:** The context provides a lot of information about NLB, including its purpose, deployment model, and configuration options. However, it doesn\\'t explain how to actually use NLB in a practical sense. It lacks specific instructions or examples.\\n* **Conciseness:** The context is quite lengthy and includes a lot of details about NLB, some of which might not be relevant to the question. It could be more concise by focusing on the essential information related to using NLB. \\n\\n**Overall:** The retrieved context provides some relevant information about NLB but lacks the practical guidance needed to answer the question. It could be improved by being more concise and providing specific instructions or examples on how to use NLB. \\n'],\n",
       " 'average_scores': None}"
      ]
     },
     "execution_count": 11,
     "metadata": {},
     "output_type": "execute_result"
    }
   ],
   "source": [
    "#Note - this currently works with OPENAI only\n",
    "evaluate_rag(chunks_query_retriever, 1)"
   ]
  },
  {
   "cell_type": "code",
   "execution_count": null,
   "metadata": {},
   "outputs": [],
   "source": []
  }
 ],
 "metadata": {
  "kernelspec": {
   "display_name": "Python 3",
   "language": "python",
   "name": "python3"
  },
  "language_info": {
   "codemirror_mode": {
    "name": "ipython",
    "version": 3
   },
   "file_extension": ".py",
   "mimetype": "text/x-python",
   "name": "python",
   "nbconvert_exporter": "python",
   "pygments_lexer": "ipython3",
   "version": "3.10.12"
  }
 },
 "nbformat": 4,
 "nbformat_minor": 2
}
