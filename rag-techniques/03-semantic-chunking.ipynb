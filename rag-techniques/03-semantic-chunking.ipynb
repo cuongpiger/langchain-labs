{
 "cells": [
  {
   "cell_type": "code",
   "execution_count": 1,
   "metadata": {},
   "outputs": [
    {
     "name": "stderr",
     "output_type": "stream",
     "text": [
      "/tmp/ipykernel_13579/3395977847.py:5: LangChainDeprecationWarning: As of langchain-core 0.3.0, LangChain uses pydantic v2 internally. The langchain_core.pydantic_v1 module was a compatibility shim for pydantic v1, and should no longer be used. Please update the code to import from Pydantic directly.\n",
      "\n",
      "For example, replace imports like: `from langchain_core.pydantic_v1 import BaseModel`\n",
      "with: `from pydantic import BaseModel`\n",
      "or the v1 compatibility namespace if you are working in a code base that has not been fully upgraded to pydantic 2 yet. \tfrom pydantic.v1 import BaseModel\n",
      "\n",
      "  from helpers.helper_functions import *\n",
      "/home/stackops/.local/lib/python3.10/site-packages/deepeval/__init__.py:53: UserWarning: You are using deepeval version 2.3.7, however version 2.4.1 is available. You should consider upgrading via the \"pip install --upgrade deepeval\" command.\n",
      "  warnings.warn(\n"
     ]
    }
   ],
   "source": [
    "import os\n",
    "import sys\n",
    "from dotenv import load_dotenv\n",
    "\n",
    "from helpers.helper_functions import *\n",
    "from helpers.evalute_rag import *\n",
    "\n",
    "from langchain_experimental.text_splitter import SemanticChunker\n",
    "from langchain_huggingface.embeddings import HuggingFaceEmbeddings\n",
    "from langchain.vectorstores import FAISS"
   ]
  },
  {
   "cell_type": "code",
   "execution_count": 2,
   "metadata": {},
   "outputs": [],
   "source": [
    "os.environ[\"GOOGLE_APPLICATION_CREDENTIALS\"] = (\n",
    "    \"/home/stackops/secret/work/vngcloud/ai-platform/vertex-ai-credential.json\"\n",
    ")\n"
   ]
  },
  {
   "cell_type": "markdown",
   "metadata": {},
   "source": [
    "## Define file path\n"
   ]
  },
  {
   "cell_type": "code",
   "execution_count": 3,
   "metadata": {},
   "outputs": [],
   "source": [
    "path = \"/home/stackops/langchain-labs/data/vks/pdf/vi/02-nlb.pdf\""
   ]
  },
  {
   "cell_type": "markdown",
   "metadata": {},
   "source": [
    "## Read PDF to string\n"
   ]
  },
  {
   "cell_type": "code",
   "execution_count": 4,
   "metadata": {},
   "outputs": [],
   "source": [
    "content = read_pdf_to_string(path)"
   ]
  },
  {
   "cell_type": "code",
   "execution_count": 5,
   "metadata": {},
   "outputs": [
    {
     "data": {
      "text/plain": [
       "'\\n2. Tích hợp Network Load Balancer (NLB) trên VKS\\n2.1. Network Load Balancer (NLB) là gì?\\nNetwork Load Balancer (tên viết tắt là NLB) là một bộ cân bằng tải được cung cấp bởi VNGCloud giúp phân phối lưu lượng truy cập\\nmạng đến nhiều máy chủ back-end (backend servers) trong một nhóm máy tính (instance group). NLB hoạt động ở layer 4 của mô hình\\nOSI, giúp cân bằng tải dựa trên địa chỉ IP và cổng TCP/UDP. Để biết thêm thông tin chi tiết về NLB, vui lòng tham khảo tại\\nhttps://docs.vngcloud.vn/vng-cloud-document/vn/vks/network/lam-viec-voi-network-load-balancing-nlb\\n2.2. Mô hình triển khai\\n(Đường dẫn đến hình ảnh: https://docs.vngcloud.vn/~gitbook/image?url=https%3A%2F%2F3672463924-\\nﬁles.gitbook.io%2F%7E%2Fﬁles%2Fv0%2Fb%2Fgitbook-x-\\nprod.appspot.com%2Fo%2Fspaces%252FB0NrrrdJdpYOYzRkbWp5%252Fuploads%252FVYBtJjEoUNgDi1f5J9vL%252Fimage.png%3Falt%3\\nDmedia%26token%3D554a2d62-320e-48d1-a884-3c7cce589071&width=768&dpr=2&quality=100&sign=4336a109&sv=2)\\nVNGCloud LoadBalancer Controller: là một bộ điều khiển (hay còn gọi là controller) chạy trên các cụm Kubernetes được triển khai trên\\nVNGCloud. Controller này chịu trách nhiệm:\\nQuản lý các Network Load Balancer (NLB) cho các Service của Kubernetes có thuộc tính \\xa0serviceType\\xa0 là \\xa0LoadBalancer\\xa0.\\nĐiều phối lưu lượng mạng đến các \\xa0pod\\xa0 trên worker node của bạn.\\n2.3. Cài đặt VNGCloud LoadBalancer Controller để sử dụng NLB\\nĐể sử dụng NLB trên VKS, bạn cần cài đặt plugin VNGCloud LoadBalancer Controller. Plugin này đảm nhận vai trò quản lý và cấu hình NLB\\ncho các tài nguyên \\xa0Service\\xa0 có thuộc tính \\xa0serviceType\\xa0 là \\xa0LoadBalancer\\xa0. Mặc định, một cụm Kubernetes trên VKS đã được cài đặt sẵn\\nplugin VNGCloud LoadBalancer Controller này. Việc cài đặt sẵn này giúp bạn có thể sử dụng NLB mà không cần phải thực hiện thêm bất kỳ\\nthao tác cấu hình nào khác và đảm bảo luôn được cập nhật phiên bản mới nhất. Tuy nhiên người dùng hoàn toàn có thể bật/tắt plugin này\\nthông qua thiết lập Enable vLB Native Integration Driver trên VKS Console.\\nNgoài ra, người dùng hoàn toàn có thể tự cài đặt plugin VNGCloud LoadBalancer Controller bằng cách thực hiện các bước sau:\\nBước 1: Tạo một Kubernetes cluster trên VKS, hoặc sử dụng một cluster đã có. Tải ﬁle \\xa0kubeconfig\\xa0 của cluster về thiết bị của bạn.\\nNgoài ra, bạn nên kiểm tra ﬁle \\xa0kubeconfig\\xa0 này đã có thể kết nối đến cluster thành công hay chưa thông qua \\xa0kubectl\\xa0 CLI.\\nBước 2: Khởi tạo hoặc sử dụng một IAM Service Account đã có trên IAM Console và thiết lập hai policy \\xa0vLBFullAccess\\xa0 và\\n\\xa0vServerFullAccess\\xa0 cho Service Account này. Bạn có thể tham khảo cách tạo Service Account tại https://hcm-\\n3.console.vngcloud.vn/iam/service-accounts. Sau đó, bạn cần lưu lại Client ID và Client Secret của Service Account này.\\nBước 3: Bạn cần cài đặt Helm 3.0 trên thiết bị của bạn, bạn có thể tham khảo cách cài đặt Helm tại https://helm.sh/docs/intro/install.\\nSau khi \\xa0helm\\xa0 CLI đã được cài đặt thành công, bạn đã có thể dùng \\xa0helm\\xa0 CLI để cài đặt plugin, lưu ý rằng bạn cần thay thế các giá trị\\nClient ID và Client Secret của Service Account vào lệnh dưới đây:\\nhelm install vngcloud-load-balancer-controller oci://vcr.vngcloud.vn/81-vks-public/vks-helm-charts/vngcloud-load-balance\\nBước 4: Sau khi Helm hoàn tất việc cài đặt VNGCloud LoadBalancer Controller, bạn có thể kiểm tra xem plugin đã hoạt động hay chưa\\nbằng lệnh:\\nkubectl -n kube-system get pod -l app.kubernetes.io/name=vngcloud-load-balancer-controller\\nDưới đây là ví dụ kết quả trả về khi plugin đã hoạt động:\\nNAME                                                              READY   STATUS    RESTARTS   AGE\\nvngcloud-load-balancer-controller-1736217866-manager-77599vrxpz   1 /1     Running   0           4h24m\\n2.4. Sử dụng Network Load Balancer (NLB) trên VKS\\nSau khi đã cài đặt plugin VNGCloud LoadBalancer Controller thành công, bạn đã có thể sử dụng NLB thông quà tài nguyên \\xa0Service\\xa0 trên\\nKubernetes. Dưới đây là một vài tình huống sử dụng NLB trên VKS:\\nVí dụ 1: Công khai một dịch vụ Nginx trên cổng 80 với NLB đến Internet:\\napiVersion: apps/v1\\nkind: Deployment\\nmetadata:\\n  name: nginx-app\\nspec:\\n  selector:\\n    matchLabels:\\n      app: nginx\\n  replicas: 1 \\n  template:\\n    metadata:\\n      labels:\\n        app: nginx\\n    spec:\\n      containers:\\n      - name: nginx\\n        image: nginx:1.19.1\\n        ports:\\n        - containerPort: 8 0 \\n---\\napiVersion: v1\\nkind: Service\\nmetadata:\\n  name: nginx-service\\nspec:\\n  selector:\\n    app: nginx\\n  type: LoadBalancer \\n  ports:\\n    - protocol: TCP\\n      port: 8 0 \\n      targetPort: 8 0 \\nVí dụ 2: Triển khai dịch vụ Apache HTTP và chỉ cho phép truy cập nội bộ qua port 8080:\\napiVersion: apps/v1\\nkind: Deployment\\nmetadata:\\n  name: internal-http-apache2-deployment\\nspec:\\n  replicas: 2 \\n  selector:\\n    matchLabels:\\n      app: apache2\\n  template:\\n    metadata:\\n      labels:\\n        app: apache2\\n    spec:\\n      containers:\\n        - name: apache2\\n          image: httpd\\n          ports:\\n            - containerPort: 8 0 \\n---\\napiVersion: v1\\nkind: Service\\nmetadata:\\n  name: internal-http-apache2-service\\n  annotations:\\n    vks.vngcloud.vn/scheme: \"internal\"              # Thiệt lập annotation để tạo NLB nội bộ\\nspec:\\n  selector:\\n    app: apache2\\n  type: LoadBalancer\\n  ports:\\n    - name: http\\n      protocol: TCP\\n      port: 8 0 8 0 \\n      targetPort: 8 0 \\nVí dụ 3: Triển khai một dịch vụ sử dụng protocol UDP:\\napiVersion: apps/v1\\nkind: Deployment\\nmetadata:\\n  name: udp-server-deployment\\nspec:\\n  selector:\\n    matchLabels:\\n      name: udp-server\\n  replicas: 5 \\n  template:\\n    metadata:\\n      labels:\\n        name: udp-server\\n    spec:\\n      containers:\\n      - name: udp-server\\n        image: vcr.vngcloud.vn/udp-server\\n        imagePullPolicy: Always\\n        ports:\\n        - containerPort: 1 0 0 0 1 \\n          protocol: UDP\\n---\\napiVersion: v1\\nkind: Service\\nmetadata:\\n  name: udp-server-service\\n  annotations:\\n    vks.vngcloud.vn/pool-algorithm: \"source-ip\"   # Thiết lập annotation để chọn thuật toán cân bằng tải\\n  labels:\\n    app: udp-server\\nspec:\\n  type: LoadBalancer\\n  sessionAffinity: ClientIP\\n  ports:\\n  - port: 1 0 0 0 1 \\n    protocol: UDP\\n  selector:\\n    name: udp-server\\nVí dụ 4: Sử dụng lại một NLB đã có trên hệ thống vLB. Để sử dụng lại một NLB đã có, bạn cần nhập thông tin Load Balancer ID vào\\nannotation \\xa0vks.vngcloud.vn/load-balancer-id\\xa0 của Service:\\napiVersion: apps/v1\\nkind: Deployment\\nmetadata:\\n  name: external-http-nginx-deployment\\nspec:\\n  replicas: 2 \\n  selector:\\n    matchLabels:\\n      app: nginx\\n  template:\\n    metadata:\\n      labels:\\n        app: nginx\\n    spec:\\n      containers:\\n      - name: nginx\\n        image: nginx\\n        ports:\\n        - containerPort: 8 0 \\n---\\nkind: Service\\napiVersion: v1\\nmetadata:\\n  name: external-http-nginx-service\\n  annotations:\\n    vks.vngcloud.vn/load-balancer-id: \"__PUT_YOUR_LOAD_BALANCER_ID__\"\\nspec:\\n  selector:\\n    app: nginx\\n  type: LoadBalancer\\n  ports:\\n  - name: http\\n    port: 8 0 \\n    targetPort: 8 0 \\nNgoài ra, bạn cũng có thể tìm hiểu thêm về các annotation khác mà bạn có thể sử dụng để tùy chỉnh NLB phù hợp với nhu cầu của bạn tại\\nđường dẫn https://docs.vngcloud.vn/vng-cloud-document/vn/vks/network/lam-viec-voi-network-load-balancing-nlb/cau-hinh-cho-mot-\\nnetwork-load-balancer.\\n2.5. Cấu hình cho một Network Load Balancer\\nBạn có thể tùy chỉnh hoặc cấu hình NLB phù hợp với nhu cầu của bạn thông qua các annotation dưới đây:\\n\\xa0vks.vngcloud.vn/load-balancer-id\\xa0:\\nBắt buộc phải có trong spec của tài nguyên \\xa0Service\\xa0: Không bắt buộc\\nÝ nghĩa: Dùng để sử dụng lại một NLB sẵn có trên hệ thống vLB. Nếu annotation này không được thiết lập, một NLB mới sẽ được\\ntạo tự động.\\n\\xa0vks.vngcloud.vn/load-balancer-name\\xa0:\\nBắt buộc phải có trong spec của tài nguyên \\xa0Service\\xa0: Không bắt buộc\\nÝ nghĩa: Giá trị của annotation này sẽ dùng làm tên cho NLB của bạn. Nếu annotation này không được thiết lập, VNGCloud\\nLoadBalancer Controller sẽ tự động tạo một tên cho NLB của bạn. Annotation này sẽ không có tác dụng nếu một trong các\\nannotation sau được thiết lập: \\xa0vks.vngcloud.vn/load-balancer-id\\xa0.\\n\\xa0vks.vngcloud.vn/package-id\\xa0:\\nBắt buộc phải có trong spec của tài nguyên \\xa0Service\\xa0: Không bắt buộc\\nÝ nghĩa: Dùng để thiết lập package của NLB. Nếu không được thiết lập, mặc định sẽ sử dụng cấu hình NLB Small. Ngoài ra, bạn\\ncũng có thể dùng annotation này để cấu hình lại package của NLB hiện tại.\\n\\xa0vks.vngcloud.vn/tags\\xa0:\\nBắt buộc phải có trong spec của tài nguyên \\xa0Service\\xa0: Không bắt buộc\\nÝ nghĩa: Tiến hành gắn thẻ cho NLB của bạn. Thẻ này bao gồm các cặp key-value nhằm giúp bạn dễ dàng quản lí các NLB trên\\nVNGCloud Portal.\\n\\xa0vks.vngcloud.vn/scheme\\xa0:\\nBắt buộc phải có trong spec của tài nguyên \\xa0Service\\xa0: Không bắt buộc\\nÝ nghĩa: Bao gồm 2 giá trị là \\xa0internet-facing\\xa0 và \\xa0internal\\xa0. Nếu giá trị của annotation này là \\xa0internet-facing\\xa0, NLB sẽ được cấu\\nhình để truy cập từ Internet. Nếu giá trị của annotation này là \\xa0internal\\xa0, NLB sẽ được cấu hình để truy cập từ mạng nội bộ.\\n\\xa0vks.vngcloud.vn/security-groups\\xa0:\\nBắt buộc phải có trong spec của tài nguyên \\xa0Service\\xa0: Không bắt buộc\\nÝ nghĩa: Mặc định, VNGCloud LoadBalancer Controller sẽ tự động tạo một Security Group mới cho NLB của bạn. Tuy nhiên, nếu\\nbạn muốn sử dụng một Security Group đã có, bạn có thể sử dụng annotation này để thiết lập Security Group cho NLB của bạn. Ví\\ndụ: \\xa0vks.vngcloud.vn/security-groups: secg-303d9c91-f4b2-400d-8e81-12039167da0c\\xa0. Ngoài ra, bạn cũng có thể cấu hình nhiều\\nSecurity Group cho NLB của bạn bằng cách sử dụng dấu phẩy \\xa0,\\xa0 để ngăn cách giữa các Security Group. Ví dụ:\\n\\xa0vks.vngcloud.vn/security-groups: secg-303d9c91-f4b2-400d-8e81-12039167da0c,secg-303d9c91-f4b2-400d-8e81-12039167da0d\\xa0\\n.\\n\\xa0vks.vngcloud.vn/inbound-cidrs\\xa0:\\nBắt buộc phải có trong spec của tài nguyên \\xa0Service\\xa0: Không bắt buộc\\nÝ nghĩa: Mặc định, NLB sẽ được cấu hình để truy cập từ mọi địa chỉ IP. Tuy nhiên, nếu bạn muốn cấu hình NLB để chỉ cho phép truy\\ncập từ một số địa chỉ IP cụ thể, bạn có thể sử dụng annotation này. Ví dụ: \\xa0vks.vngcloud.vn/inbound-cidrs: 183.23.23.13\\xa0. Ngoài\\nra, bạn cũng có thể cấu hình nhiều địa chỉ IP cho NLB của bạn bằng cách sử dụng dấu phẩy \\xa0,\\xa0 để ngăn cách giữa các địa chỉ IP. Ví\\ndụ: \\xa0vks.vngcloud.vn/inbound-cidrs: 183.23.23.13,183.23.23.23\\xa0.\\n\\xa0vks.vngcloud.vn/healthy-threshold-count\\xa0:\\nBắt buộc phải có trong spec của tài nguyên \\xa0Service\\xa0: Không bắt buộc\\nÝ nghĩa: Là ngưỡng số lần liên tiếp mà một máy chủ back-end phải trả về trạng thái \\xa0healthy\\xa0 để được coi là HEALTHY. Mặc định,\\ngiá trị của annotation này là \\xa03\\xa0.\\n\\xa0vks.vngcloud.vn/unhealthy-threshold-count\\xa0:\\nBắt buộc phải có trong spec của tài nguyên \\xa0Service\\xa0: Không bắt buộc\\nÝ nghĩa: Là ngưỡng số lần liên tiếp mà một máy chủ back-end phải trả về trạng thái \\xa0unhealthy\\xa0 để được coi là UNHEALTHY. Mặc\\nđịnh, giá trị của annotation này là \\xa03\\xa0.\\n\\xa0vks.vngcloud.vn/healthcheck-interval-seconds\\xa0:\\nBắt buộc phải có trong spec của tài nguyên \\xa0Service\\xa0: Không bắt buộc\\nÝ nghĩa: Là khoảng thời gian giữa các lần kiểm tra sức khỏe của máy chủ back-end. Mặc định, giá trị của annotation này là \\xa030\\xa0 giây.\\n\\xa0vks.vngcloud.vn/healthcheck-timeout-seconds\\xa0:\\nBắt buộc phải có trong spec của tài nguyên \\xa0Service\\xa0: Không bắt buộc\\nÝ nghĩa: Là thời gian tối đa mà một máy chủ back-end phải trả về trạng thái \\xa0healthy\\xa0 hoặc \\xa0unhealthy\\xa0. Mặc định, giá trị của\\nannotation này là \\xa05\\xa0 giây.\\n\\xa0vks.vngcloud.vn/healthcheck-protocol\\xa0:\\nBắt buộc phải có trong spec của tài nguyên \\xa0Service\\xa0: Không bắt buộc\\nÝ nghĩa: Là giao thức sử dụng để kiểm tra sức khỏe của máy chủ back-end. Mặc định, giá trị của annotation này là \\xa0TCP\\xa0. Ngoài ra,\\nmột vài giá trị khác mà bạn có thể sử dụng là \\xa0PING-UDP\\xa0, \\xa0HTTP\\xa0, \\xa0HTTPS\\xa0.\\n\\xa0vks.vngcloud.vn/healthcheck-http-method\\xa0:\\nBắt buộc phải có trong spec của tài nguyên \\xa0Service\\xa0: Không bắt buộc\\nÝ nghĩa: Là phương thức HTTP sử dụng để kiểm tra sức khỏe của máy chủ back-end. Mặc định, giá trị của annotation này là \\xa0GET\\xa0.\\nNgoài ra, một vài giá trị khác mà bạn có thể sử dụng là \\xa0PUT\\xa0, \\xa0POST\\xa0. Lưu ý rằng annotation này chỉ có tác dụng khi\\n\\xa0vks.vngcloud.vn/healthcheck-protocol\\xa0 được thiết lập là \\xa0HTTP\\xa0 hoặc \\xa0HTTPS\\xa0.\\n\\xa0vks.vngcloud.vn/healthcheck-path\\xa0:\\nBắt buộc phải có trong spec của tài nguyên \\xa0Service\\xa0: Không bắt buộc\\nÝ nghĩa: Là đường dẫn sử dụng để kiểm tra sức khỏe của máy chủ back-end. Mặc định, giá trị của annotation này là \\xa0/\\xa0. Lưu ý rằng\\nannotation này chỉ có tác dụng khi \\xa0vks.vngcloud.vn/healthcheck-protocol\\xa0 được thiết lập là \\xa0HTTP\\xa0 hoặc \\xa0HTTPS\\xa0.\\n\\xa0vks.vngcloud.vn/healthcheck-http-version\\xa0:\\nBắt buộc phải có trong spec của tài nguyên \\xa0Service\\xa0: Không bắt buộc\\nÝ nghĩa: Là phiên bản HTTP sử dụng để kiểm tra sức khỏe của máy chủ back-end. Mặc định, giá trị của annotation này là \\xa01.0\\xa0.\\nNgoài ra bạn cũng có thể sử dụng giá trị \\xa01.1\\xa0 khi cần thiết. Lưu ý rằng annotation này chỉ có tác dụng khi\\n\\xa0vks.vngcloud.vn/healthcheck-protocol\\xa0 được thiết lập là \\xa0HTTP\\xa0 hoặc \\xa0HTTPS\\xa0.\\n\\xa0vks.vngcloud.vn/healthcheck-http-domain-name\\xa0:\\nBắt buộc phải có trong spec của tài nguyên \\xa0Service\\xa0: Không bắt buộc\\nÝ nghĩa: Là tên miền sử dụng để kiểm tra sức khỏe của máy chủ back-end. Mặc định, giá trị của annotation này là RỖNG. Lưu ý rằng\\nannotation này chỉ có tác dụng khi \\xa0vks.vngcloud.vn/healthcheck-protocol\\xa0 được thiết lập là \\xa0HTTP\\xa0 hoặc \\xa0HTTPS\\xa0.\\n\\xa0vks.vngcloud.vn/healthcheck-port\\xa0:\\nBắt buộc phải có trong spec của tài nguyên \\xa0Service\\xa0: Không bắt buộc\\nÝ nghĩa: Là cổng sử dụng để kiểm tra sức khỏe của máy chủ back-end. Mặc định, giá trị của annotation này sẽ lấy theo trường \\xa0port\\xa0\\ncủa tài nguyên \\xa0Service\\xa0 cần dùng NLB này. Lưu ý rằng annotation này chỉ có tác dụng khi\\n\\xa0vks.vngcloud.vn/healthcheck-protocol\\xa0 được thiết lập là \\xa0HTTP\\xa0 hoặc \\xa0HTTPS\\xa0.\\n\\xa0vks.vngcloud.vn/success-codes\\xa0:\\nBắt buộc phải có trong spec của tài nguyên \\xa0Service\\xa0: Không bắt buộc\\nÝ nghĩa: Là mã trạng thái HTTP sẽ được coi là thành công khi kiểm tra sức khỏe của máy chủ back-end. Mặc định, giá trị của\\nannotation này là \\xa0200\\xa0. Lưu ý rằng annotation này chỉ có tác dụng khi \\xa0vks.vngcloud.vn/healthcheck-protocol\\xa0 được thiết lập là\\n\\xa0HTTP\\xa0 hoặc \\xa0HTTPS\\xa0.\\n\\xa0vks.vngcloud.vn/idle-timeout-client\\xa0:\\nBắt buộc phải có trong spec của tài nguyên \\xa0Service\\xa0: Không bắt buộc\\nÝ nghĩa: Là thời gian tối đa mà một kết nối từ client có thể không hoạt động trước khi bị đóng. Mặc định, giá trị của annotation này là\\n\\xa050\\xa0 giây.\\n\\xa0vks.vngcloud.vn/idle-timeout-member\\xa0:\\nBắt buộc phải có trong spec của tài nguyên \\xa0Service\\xa0: Không bắt buộc\\nÝ nghĩa: Là thời gian tối đa mà một kết nối từ máy chủ back-end có thể không hoạt động trước khi bị đóng. Mặc định, giá trị của\\nannotation này là \\xa050\\xa0 giây.\\n\\xa0vks.vngcloud.vn/idle-timeout-connection\\xa0:\\nBắt buộc phải có trong spec của tài nguyên \\xa0Service\\xa0: Không bắt buộc\\nÝ nghĩa: Là thời gian tối đa mà một kết nối giữa NLB và máy chủ back-end có thể không hoạt động trước khi bị đóng. Mặc định, giá\\ntrị của annotation này là \\xa05\\xa0 giây.\\n\\xa0vks.vngcloud.vn/pool-algorithm\\xa0:\\nBắt buộc phải có trong spec của tài nguyên \\xa0Service\\xa0: Không bắt buộc\\nÝ nghĩa: Là thuật toán cân bằng tải sẽ được sử dụng cho NLB. Mặc định, giá trị của annotation này là \\xa0ROUND_ROBIN\\xa0. Ngoài ra, một\\nvài giá trị khác mà bạn có thể sử dụng là \\xa0SOURCE_IP\\xa0, \\xa0LEAST_CONNECTIONS\\xa0.\\n\\xa0vks.vngcloud.vn/target-node-labels\\xa0:\\nBắt buộc phải có trong spec của tài nguyên \\xa0Service\\xa0: Không bắt buộc\\nÝ nghĩa: Mặc định VNGCloud LoadBalancer Controller sẽ chọn toàn bộ các node trong cluster để thêm vào pool của NLB. Tuy\\nnhiên, nếu bạn muốn chỉ chọn một số node cụ thể, bạn có thể sử dụng annotation này. Ví dụ:\\n\\xa0vks.vngcloud.vn/target-node-labels: node-role.kubernetes.io/worker=true\\xa0. Lưu ý rằng bạn cũng có thể cấu hình nhiều node\\ncho NLB của bạn bằng cách sử dụng dấu phẩy \\xa0,\\xa0 để ngăn cách giữa các node. Ví dụ:\\n\\xa0vks.vngcloud.vn/target-node-labels: node-role.kubernetes.io/worker=true,node-role.kubernetes.io/worker=false\\xa0.\\n\\xa0vks.vngcloud.vn/enable-proxy-protocol\\xa0:\\nBắt buộc phải có trong spec của tài nguyên \\xa0Service\\xa0: Không bắt buộc\\nÝ nghĩa: Mặc định, giá trị của annotation này là RỖNG. Bạn cần chỉ định danh sách các Service Port Name (trong tài nguyên\\n\\xa0Service\\xa0, bạn có thể chỉ định nhiều Service Port, mỗi Service Port này bạn cần cấu hình thuộc tính \\xa0name\\xa0 cho chúng để sử dụng tính\\nnăng này) mà Proxy Protocol sẽ được kích hoạt. Ví dụ:\\n\\xa0vks.vngcloud.vn/enable-proxy-protocol: service_port_name_1,service_port_name_2\\xa0. Hoặc nếu bạn muốn kích hoạt Proxy\\nProtocol cho tất cả các Service Port, bạn có thể sử dụng giá trị \\xa0*\\xa0. Ví dụ: \\xa0vks.vngcloud.vn/enable-proxy-protocol: \"*\"\\xa0.\\n2.6. Những hạn chế của NLB trên VKS\\nMột NLB có thể được sử dụng chung cho nhiều cluster nhưng phải đảm bảo các cluster này có chung một VPC.\\nMột NLB sẽ bị giới hạn về số lượng pools, listeners, members. Chi tiết tại https://docs.vngcloud.vn/pages/viewpage.action?\\npageId=59802094.\\n2.7. Tài liệu tham khảo\\nBạn có thể tham khảo tại liệu trên website của VNGCloud tại https://docs.vngcloud.vn/vng-cloud-document/vn/vks/network/lam-viec-voi-\\nnetwork-load-balancing-nlb.'"
      ]
     },
     "execution_count": 5,
     "metadata": {},
     "output_type": "execute_result"
    }
   ],
   "source": [
    "content"
   ]
  },
  {
   "cell_type": "markdown",
   "metadata": {},
   "source": [
    "Breakpoint types:\n",
    "  - 'percentile': all differences between sentences are calculated, and then any difference greater than the X percentile is split.\n",
    "  - 'standard_deviation': any difference greater than X standard deviations is split.\n",
    "  - 'interquartile': the interquartile distance is used to split chunks."
   ]
  },
  {
   "cell_type": "code",
   "execution_count": 6,
   "metadata": {},
   "outputs": [
    {
     "name": "stderr",
     "output_type": "stream",
     "text": [
      "/home/stackops/.local/lib/python3.10/site-packages/tqdm/auto.py:21: TqdmWarning: IProgress not found. Please update jupyter and ipywidgets. See https://ipywidgets.readthedocs.io/en/stable/user_install.html\n",
      "  from .autonotebook import tqdm as notebook_tqdm\n"
     ]
    }
   ],
   "source": [
    "text_splitter = SemanticChunker(HuggingFaceEmbeddings(\n",
    "    model_name=\"sentence-transformers/paraphrase-multilingual-mpnet-base-v2\"), breakpoint_threshold_type='percentile', breakpoint_threshold_amount=90) # chose which embeddings and breakpoint type and threshold to use"
   ]
  },
  {
   "cell_type": "markdown",
   "metadata": {},
   "source": [
    "## Split original text to semantic chunks\n"
   ]
  },
  {
   "cell_type": "code",
   "execution_count": 7,
   "metadata": {},
   "outputs": [],
   "source": [
    "docs = text_splitter.create_documents([content])\n"
   ]
  },
  {
   "cell_type": "markdown",
   "metadata": {},
   "source": [
    "## Create vector store and retriever\n"
   ]
  },
  {
   "cell_type": "code",
   "execution_count": 8,
   "metadata": {},
   "outputs": [],
   "source": [
    "embeddings = HuggingFaceEmbeddings(\n",
    "    model_name=\"sentence-transformers/paraphrase-multilingual-mpnet-base-v2\")\n",
    "vectorstore = FAISS.from_documents(docs, embeddings)\n",
    "chunks_query_retriever = vectorstore.as_retriever(search_kwargs={\"k\": 5})"
   ]
  },
  {
   "cell_type": "markdown",
   "metadata": {},
   "source": [
    "## Test the retriever\n"
   ]
  },
  {
   "cell_type": "code",
   "execution_count": 9,
   "metadata": {},
   "outputs": [
    {
     "name": "stdout",
     "output_type": "stream",
     "text": [
      "Context 1:\n",
      "Dưới đây là một vài tình huống sử dụng NLB trên VKS:\n",
      "Ví dụ 1: Công khai một dịch vụ Nginx trên cổng 80 với NLB đến Internet:\n",
      "apiVersion: apps/v1\n",
      "kind: Deployment\n",
      "metadata:\n",
      "  name: nginx-app\n",
      "spec:\n",
      "  selector:\n",
      "    matchLabels:\n",
      "      app: nginx\n",
      "  replicas: 1 \n",
      "  template:\n",
      "    metadata:\n",
      "      labels:\n",
      "        app: nginx\n",
      "    spec:\n",
      "      containers:\n",
      "      - name: nginx\n",
      "        image: nginx:1.19.1\n",
      "        ports:\n",
      "        - containerPort: 8 0 \n",
      "---\n",
      "apiVersion: v1\n",
      "kind: Service\n",
      "metadata:\n",
      "  name: nginx-service\n",
      "spec:\n",
      "  selector:\n",
      "    app: nginx\n",
      "  type: LoadBalancer \n",
      "  ports:\n",
      "    - protocol: TCP\n",
      "      port: 8 0 \n",
      "      targetPort: 8 0 \n",
      "Ví dụ 2: Triển khai dịch vụ Apache HTTP và chỉ cho phép truy cập nội bộ qua port 8080:\n",
      "apiVersion: apps/v1\n",
      "kind: Deployment\n",
      "metadata:\n",
      "  name: internal-http-apache2-deployment\n",
      "spec:\n",
      "  replicas: 2 \n",
      "  selector:\n",
      "    matchLabels:\n",
      "      app: apache2\n",
      "  template:\n",
      "    metadata:\n",
      "      labels:\n",
      "        app: apache2\n",
      "    spec:\n",
      "      containers:\n",
      "        - name: apache2\n",
      "          image: httpd\n",
      "          ports:\n",
      "            - containerPort: 8 0 \n",
      "---\n",
      "apiVersion: v1\n",
      "kind: Service\n",
      "metadata:\n",
      "  name: internal-http-apache2-service\n",
      "  annotations:\n",
      "    vks.vngcloud.vn/scheme: \"internal\"              # Thiệt lập annotation để tạo NLB nội bộ\n",
      "spec:\n",
      "  selector:\n",
      "    app: apache2\n",
      "  type: LoadBalancer\n",
      "  ports:\n",
      "    - name: http\n",
      "      protocol: TCP\n",
      "      port: 8 0 8 0 \n",
      "      targetPort: 8 0 \n",
      "Ví dụ 3: Triển khai một dịch vụ sử dụng protocol UDP:\n",
      "apiVersion: apps/v1\n",
      "kind: Deployment\n",
      "metadata:\n",
      "  name: udp-server-deployment\n",
      "spec:\n",
      "  selector:\n",
      "    matchLabels:\n",
      "      name: udp-server\n",
      "  replicas: 5 \n",
      "  template:\n",
      "    metadata:\n",
      "      labels:\n",
      "        name: udp-server\n",
      "    spec:\n",
      "      containers:\n",
      "      - name: udp-server\n",
      "        image: vcr.vngcloud.vn/udp-server\n",
      "        imagePullPolicy: Always\n",
      "        ports:\n",
      "        - containerPort: 1 0 0 0 1 \n",
      "          protocol: UDP\n",
      "---\n",
      "apiVersion: v1\n",
      "kind: Service\n",
      "metadata:\n",
      "  name: udp-server-service\n",
      "  annotations:\n",
      "    vks.vngcloud.vn/pool-algorithm: \"source-ip\"   # Thiết lập annotation để chọn thuật toán cân bằng tải\n",
      "  labels:\n",
      "    app: udp-server\n",
      "spec:\n",
      "  type: LoadBalancer\n",
      "  sessionAffinity: ClientIP\n",
      "  ports:\n",
      "  - port: 1 0 0 0 1 \n",
      "    protocol: UDP\n",
      "  selector:\n",
      "    name: udp-server\n",
      "Ví dụ 4: Sử dụng lại một NLB đã có trên hệ thống vLB. Để sử dụng lại một NLB đã có, bạn cần nhập thông tin Load Balancer ID vào\n",
      "annotation  vks.vngcloud.vn/load-balancer-id  của Service:\n",
      "apiVersion: apps/v1\n",
      "kind: Deployment\n",
      "metadata:\n",
      "  name: external-http-nginx-deployment\n",
      "spec:\n",
      "  replicas: 2 \n",
      "  selector:\n",
      "    matchLabels:\n",
      "      app: nginx\n",
      "  template:\n",
      "    metadata:\n",
      "      labels:\n",
      "        app: nginx\n",
      "    spec:\n",
      "      containers:\n",
      "      - name: nginx\n",
      "        image: nginx\n",
      "        ports:\n",
      "        - containerPort: 8 0 \n",
      "---\n",
      "kind: Service\n",
      "apiVersion: v1\n",
      "metadata:\n",
      "  name: external-http-nginx-service\n",
      "  annotations:\n",
      "    vks.vngcloud.vn/load-balancer-id: \"__PUT_YOUR_LOAD_BALANCER_ID__\"\n",
      "spec:\n",
      "  selector:\n",
      "    app: nginx\n",
      "  type: LoadBalancer\n",
      "  ports:\n",
      "  - name: http\n",
      "    port: 8 0 \n",
      "    targetPort: 8 0 \n",
      "Ngoài ra, bạn cũng có thể tìm hiểu thêm về các annotation khác mà bạn có thể sử dụng để tùy chỉnh NLB phù hợp với nhu cầu của bạn tại\n",
      "đường dẫn https://docs.vngcloud.vn/vng-cloud-document/vn/vks/network/lam-viec-voi-network-load-balancing-nlb/cau-hinh-cho-mot-\n",
      "network-load-balancer.\n",
      "\n",
      "\n",
      "Context 2:\n",
      "\n",
      "2. Tích hợp Network Load Balancer (NLB) trên VKS\n",
      "2.1. Network Load Balancer (NLB) là gì? Network Load Balancer (tên viết tắt là NLB) là một bộ cân bằng tải được cung cấp bởi VNGCloud giúp phân phối lưu lượng truy cập\n",
      "mạng đến nhiều máy chủ back-end (backend servers) trong một nhóm máy tính (instance group). NLB hoạt động ở layer 4 của mô hình\n",
      "OSI, giúp cân bằng tải dựa trên địa chỉ IP và cổng TCP/UDP. Để biết thêm thông tin chi tiết về NLB, vui lòng tham khảo tại\n",
      "https://docs.vngcloud.vn/vng-cloud-document/vn/vks/network/lam-viec-voi-network-load-balancing-nlb\n",
      "2.2. Mô hình triển khai\n",
      "(Đường dẫn đến hình ảnh: https://docs.vngcloud.vn/~gitbook/image?url=https%3A%2F%2F3672463924-\n",
      "ﬁles.gitbook.io%2F%7E%2Fﬁles%2Fv0%2Fb%2Fgitbook-x-\n",
      "prod.appspot.com%2Fo%2Fspaces%252FB0NrrrdJdpYOYzRkbWp5%252Fuploads%252FVYBtJjEoUNgDi1f5J9vL%252Fimage.png%3Falt%3\n",
      "Dmedia%26token%3D554a2d62-320e-48d1-a884-3c7cce589071&width=768&dpr=2&quality=100&sign=4336a109&sv=2)\n",
      "VNGCloud LoadBalancer Controller: là một bộ điều khiển (hay còn gọi là controller) chạy trên các cụm Kubernetes được triển khai trên\n",
      "VNGCloud.\n",
      "\n",
      "\n",
      "Context 3:\n",
      "2.3. Cài đặt VNGCloud LoadBalancer Controller để sử dụng NLB\n",
      "Để sử dụng NLB trên VKS, bạn cần cài đặt plugin VNGCloud LoadBalancer Controller. Plugin này đảm nhận vai trò quản lý và cấu hình NLB\n",
      "cho các tài nguyên  Service  có thuộc tính  serviceType  là  LoadBalancer . Mặc định, một cụm Kubernetes trên VKS đã được cài đặt sẵn\n",
      "plugin VNGCloud LoadBalancer Controller này. Việc cài đặt sẵn này giúp bạn có thể sử dụng NLB mà không cần phải thực hiện thêm bất kỳ\n",
      "thao tác cấu hình nào khác và đảm bảo luôn được cập nhật phiên bản mới nhất. Tuy nhiên người dùng hoàn toàn có thể bật/tắt plugin này\n",
      "thông qua thiết lập Enable vLB Native Integration Driver trên VKS Console. Ngoài ra, người dùng hoàn toàn có thể tự cài đặt plugin VNGCloud LoadBalancer Controller bằng cách thực hiện các bước sau:\n",
      "Bước 1: Tạo một Kubernetes cluster trên VKS, hoặc sử dụng một cluster đã có. Tải ﬁle  kubeconfig  của cluster về thiết bị của bạn. Ngoài ra, bạn nên kiểm tra ﬁle  kubeconfig  này đã có thể kết nối đến cluster thành công hay chưa thông qua  kubectl  CLI. Bước 2: Khởi tạo hoặc sử dụng một IAM Service Account đã có trên IAM Console và thiết lập hai policy  vLBFullAccess  và\n",
      " vServerFullAccess  cho Service Account này.\n",
      "\n",
      "\n",
      "Context 4:\n",
      "2.6. Những hạn chế của NLB trên VKS\n",
      "Một NLB có thể được sử dụng chung cho nhiều cluster nhưng phải đảm bảo các cluster này có chung một VPC. Một NLB sẽ bị giới hạn về số lượng pools, listeners, members. Chi tiết tại https://docs.vngcloud.vn/pages/viewpage.action?\n",
      "\n",
      "\n",
      "Context 5:\n",
      "2.5. Cấu hình cho một Network Load Balancer\n",
      "Bạn có thể tùy chỉnh hoặc cấu hình NLB phù hợp với nhu cầu của bạn thông qua các annotation dưới đây:\n",
      " vks.vngcloud.vn/load-balancer-id :\n",
      "Bắt buộc phải có trong spec của tài nguyên  Service : Không bắt buộc\n",
      "Ý nghĩa: Dùng để sử dụng lại một NLB sẵn có trên hệ thống vLB. Nếu annotation này không được thiết lập, một NLB mới sẽ được\n",
      "tạo tự động. vks.vngcloud.vn/load-balancer-name :\n",
      "Bắt buộc phải có trong spec của tài nguyên  Service : Không bắt buộc\n",
      "Ý nghĩa: Giá trị của annotation này sẽ dùng làm tên cho NLB của bạn. Nếu annotation này không được thiết lập, VNGCloud\n",
      "LoadBalancer Controller sẽ tự động tạo một tên cho NLB của bạn. Annotation này sẽ không có tác dụng nếu một trong các\n",
      "annotation sau được thiết lập:  vks.vngcloud.vn/load-balancer-id . vks.vngcloud.vn/package-id :\n",
      "Bắt buộc phải có trong spec của tài nguyên  Service : Không bắt buộc\n",
      "Ý nghĩa: Dùng để thiết lập package của NLB. Nếu không được thiết lập, mặc định sẽ sử dụng cấu hình NLB Small. Ngoài ra, bạn\n",
      "cũng có thể dùng annotation này để cấu hình lại package của NLB hiện tại. vks.vngcloud.vn/tags :\n",
      "Bắt buộc phải có trong spec của tài nguyên  Service : Không bắt buộc\n",
      "Ý nghĩa: Tiến hành gắn thẻ cho NLB của bạn. Thẻ này bao gồm các cặp key-value nhằm giúp bạn dễ dàng quản lí các NLB trên\n",
      "VNGCloud Portal. vks.vngcloud.vn/scheme :\n",
      "Bắt buộc phải có trong spec của tài nguyên  Service : Không bắt buộc\n",
      "Ý nghĩa: Bao gồm 2 giá trị là  internet-facing  và  internal . Nếu giá trị của annotation này là  internet-facing , NLB sẽ được cấu\n",
      "hình để truy cập từ Internet. Nếu giá trị của annotation này là  internal , NLB sẽ được cấu hình để truy cập từ mạng nội bộ. vks.vngcloud.vn/security-groups :\n",
      "Bắt buộc phải có trong spec của tài nguyên  Service : Không bắt buộc\n",
      "Ý nghĩa: Mặc định, VNGCloud LoadBalancer Controller sẽ tự động tạo một Security Group mới cho NLB của bạn. Tuy nhiên, nếu\n",
      "bạn muốn sử dụng một Security Group đã có, bạn có thể sử dụng annotation này để thiết lập Security Group cho NLB của bạn. Ví\n",
      "dụ:  vks.vngcloud.vn/security-groups: secg-303d9c91-f4b2-400d-8e81-12039167da0c . Ngoài ra, bạn cũng có thể cấu hình nhiều\n",
      "Security Group cho NLB của bạn bằng cách sử dụng dấu phẩy  ,  để ngăn cách giữa các Security Group. Ví dụ:\n",
      " vks.vngcloud.vn/security-groups: secg-303d9c91-f4b2-400d-8e81-12039167da0c,secg-303d9c91-f4b2-400d-8e81-12039167da0d \n",
      ". vks.vngcloud.vn/inbound-cidrs :\n",
      "Bắt buộc phải có trong spec của tài nguyên  Service : Không bắt buộc\n",
      "Ý nghĩa: Mặc định, NLB sẽ được cấu hình để truy cập từ mọi địa chỉ IP. Tuy nhiên, nếu bạn muốn cấu hình NLB để chỉ cho phép truy\n",
      "cập từ một số địa chỉ IP cụ thể, bạn có thể sử dụng annotation này. Ví dụ:  vks.vngcloud.vn/inbound-cidrs: 183.23.23.13 . Ngoài\n",
      "ra, bạn cũng có thể cấu hình nhiều địa chỉ IP cho NLB của bạn bằng cách sử dụng dấu phẩy  ,  để ngăn cách giữa các địa chỉ IP. Ví\n",
      "dụ:  vks.vngcloud.vn/inbound-cidrs: 183.23.23.13,183.23.23.23 .\n",
      "\n",
      "\n"
     ]
    }
   ],
   "source": [
    "test_query = \"Làm sao để sử dụng lại một NLB\"\n",
    "context = retrieve_context_per_question(test_query, chunks_query_retriever)\n",
    "show_context(context)"
   ]
  },
  {
   "cell_type": "code",
   "execution_count": null,
   "metadata": {},
   "outputs": [],
   "source": []
  }
 ],
 "metadata": {
  "kernelspec": {
   "display_name": "Python 3",
   "language": "python",
   "name": "python3"
  },
  "language_info": {
   "codemirror_mode": {
    "name": "ipython",
    "version": 3
   },
   "file_extension": ".py",
   "mimetype": "text/x-python",
   "name": "python",
   "nbconvert_exporter": "python",
   "pygments_lexer": "ipython3",
   "version": "3.10.12"
  }
 },
 "nbformat": 4,
 "nbformat_minor": 2
}
