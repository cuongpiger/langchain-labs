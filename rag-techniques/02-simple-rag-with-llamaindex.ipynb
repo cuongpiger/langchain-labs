{
 "cells": [
  {
   "cell_type": "code",
   "execution_count": 1,
   "metadata": {},
   "outputs": [],
   "source": [
    "%load_ext autoreload\n",
    "%autoreload 2"
   ]
  },
  {
   "cell_type": "markdown",
   "metadata": {},
   "source": [
    "# Simple RAG (Retrieval-Augmented Generation) System\n"
   ]
  },
  {
   "cell_type": "code",
   "execution_count": 2,
   "metadata": {},
   "outputs": [],
   "source": [
    "from typing import List\n",
    "from llama_index.core import SimpleDirectoryReader, VectorStoreIndex\n",
    "from llama_index.core.ingestion import IngestionPipeline\n",
    "from llama_index.core.schema import BaseNode, TransformComponent\n",
    "from llama_index.vector_stores.faiss import FaissVectorStore\n",
    "from llama_index.core.text_splitter import SentenceSplitter\n",
    "from llama_index.embeddings.openai import OpenAIEmbedding\n",
    "from llama_index.core import Settings\n",
    "import faiss\n",
    "import os\n",
    "import sys\n",
    "from dotenv import load_dotenv"
   ]
  },
  {
   "cell_type": "code",
   "execution_count": 3,
   "metadata": {},
   "outputs": [],
   "source": [
    "EMBED_DIMENSION = 512\n",
    "\n",
    "# Chunk settings are way different than langchain examples\n",
    "# Beacuse for the chunk length langchain uses length of the string,\n",
    "# while llamaindex uses length of the tokens\n",
    "CHUNK_SIZE = 10000\n",
    "CHUNK_OVERLAP = 9800"
   ]
  },
  {
   "cell_type": "code",
   "execution_count": 4,
   "metadata": {},
   "outputs": [],
   "source": [
    "os.environ[\"GOOGLE_APPLICATION_CREDENTIALS\"] = (\n",
    "    \"/home/stackops/secret/work/vngcloud/ai-platform/vertex-ai-credential.json\"\n",
    ")"
   ]
  },
  {
   "cell_type": "code",
   "execution_count": 5,
   "metadata": {},
   "outputs": [],
   "source": [
    "from langchain_huggingface.embeddings import HuggingFaceEmbeddings"
   ]
  },
  {
   "cell_type": "code",
   "execution_count": 6,
   "metadata": {},
   "outputs": [
    {
     "name": "stderr",
     "output_type": "stream",
     "text": [
      "/home/stackops/.local/lib/python3.10/site-packages/tqdm/auto.py:21: TqdmWarning: IProgress not found. Please update jupyter and ipywidgets. See https://ipywidgets.readthedocs.io/en/stable/user_install.html\n",
      "  from .autonotebook import tqdm as notebook_tqdm\n"
     ]
    }
   ],
   "source": [
    "Settings.embed_model = HuggingFaceEmbeddings(\n",
    "    model_name=\"sentence-transformers/paraphrase-multilingual-mpnet-base-v2\",\n",
    "    model_kwargs={\"truncate_dim\": EMBED_DIMENSION})"
   ]
  },
  {
   "cell_type": "markdown",
   "metadata": {},
   "source": [
    "# Read Docs\n"
   ]
  },
  {
   "cell_type": "code",
   "execution_count": 7,
   "metadata": {},
   "outputs": [
    {
     "name": "stdout",
     "output_type": "stream",
     "text": [
      "Doc ID: 22025cd3-a2ae-4bb9-b78d-aced24dfd9dd\n",
      "Text: 1. Giới thiệu về VNGCloud Kubernetes Service - VKS 1.1. VNGCloud\n",
      "Kubernetes Service (VKS) là gì? VNGCloud Kubernetes Service (hay còn\n",
      "gọi là VKS) là một dịch vụ quản lý Kubernetes được cung cấp bởi\n",
      "VNGCloud. VKS giúp bạn triển khai và quản lý các ứng dụng dựa trên\n",
      "container một cách dễ dàng và hiệu quả. VKS giúp bạn tập trung vào\n",
      "việc phát triển...\n"
     ]
    }
   ],
   "source": [
    "path = \"/home/stackops/langchain-labs/data/vks/pdf/vi/\"\n",
    "node_parser = SimpleDirectoryReader(input_dir=path, required_exts=['.pdf'])\n",
    "documents = node_parser.load_data()\n",
    "print(documents[0])"
   ]
  },
  {
   "cell_type": "code",
   "execution_count": 8,
   "metadata": {},
   "outputs": [],
   "source": [
    "faiss_index = faiss.IndexFlatL2(EMBED_DIMENSION)\n",
    "vector_store = FaissVectorStore(faiss_index=faiss_index)"
   ]
  },
  {
   "cell_type": "markdown",
   "metadata": {},
   "source": [
    "## Text Cleaner Transformation\n"
   ]
  },
  {
   "cell_type": "code",
   "execution_count": 9,
   "metadata": {},
   "outputs": [],
   "source": [
    "class TextCleaner(TransformComponent):\n",
    "    \"\"\"\n",
    "    Transformation to be used within the ingestion pipeline.\n",
    "    Cleans clutters from texts.\n",
    "    \"\"\"\n",
    "    def __call__(self, nodes, **kwargs) -> List[BaseNode]:\n",
    "        return nodes"
   ]
  },
  {
   "cell_type": "markdown",
   "metadata": {},
   "source": [
    "## Ingestion Pipeline\n"
   ]
  },
  {
   "cell_type": "code",
   "execution_count": 10,
   "metadata": {},
   "outputs": [],
   "source": [
    "text_splitter = SentenceSplitter(chunk_size=CHUNK_SIZE, chunk_overlap=CHUNK_OVERLAP)\n",
    "\n",
    "# Create a pipeline with defined document transformations and vectorstore\n",
    "pipeline = IngestionPipeline(\n",
    "    transformations=[\n",
    "        TextCleaner(),\n",
    "        text_splitter,\n",
    "    ],\n",
    "    vector_store=vector_store, \n",
    ")"
   ]
  },
  {
   "cell_type": "code",
   "execution_count": 11,
   "metadata": {},
   "outputs": [],
   "source": [
    "# Run pipeline and get generated nodes from the process\n",
    "nodes = pipeline.run(documents=documents)"
   ]
  },
  {
   "cell_type": "markdown",
   "metadata": {},
   "source": [
    "## Create retriever\n"
   ]
  },
  {
   "cell_type": "code",
   "execution_count": 12,
   "metadata": {},
   "outputs": [],
   "source": [
    "vector_store_index = VectorStoreIndex(nodes)\n",
    "retriever = vector_store_index.as_retriever(similarity_top_k=5)"
   ]
  },
  {
   "cell_type": "code",
   "execution_count": 13,
   "metadata": {},
   "outputs": [],
   "source": [
    "def show_context(context):\n",
    "    \"\"\"\n",
    "    Display the contents of the provided context list.\n",
    "\n",
    "    Args:\n",
    "        context (list): A list of context items to be displayed.\n",
    "\n",
    "    Prints each context item in the list with a heading indicating its position.\n",
    "    \"\"\"\n",
    "    for i, c in enumerate(context):\n",
    "        print(f\"Context {i+1}:\")\n",
    "        print(c.text)\n",
    "        print(\"\\n\")"
   ]
  },
  {
   "cell_type": "code",
   "execution_count": 14,
   "metadata": {},
   "outputs": [
    {
     "name": "stdout",
     "output_type": "stream",
     "text": [
      "Context 1:\n",
      "3. Mô hình hoạt động của VKS\n",
      "VNGCloud Kubernetes Service (VKS) hỗ trợ 2 loại cluster chính là Public Cluster và Private\n",
      "Cluster. Đối với node group, VKS hỗ trợ 2 loại node group chính là Public Node Group và\n",
      "Private Node Group. Từ đó, khách hàng có thể kết hợp giữa các loại cluster và node group để\n",
      "tạo ra các mô hình hoạt động phù hợp với yêu cầu của ứng dụng, cụ thể:\n",
      "Public Cluster với Public Node Group: Các node trong nodegroup có địa chỉ IP Public\n",
      "riêng, kết đến nối ControlPlane thông qua IP Public của Kubernetes API Server. Điều này\n",
      "dẫn rủi ro bảo mật cao hơn. Tuy nhiên bạn hoàn toàn có thể hạn chế truy cập đến\n",
      "ControlPlane thông qua tính năng Whitelist IP. Một điều lưu ý là bạn cần đảm bảo không\n",
      "hạn chế truy cập từ các IP của các node trong nodegroup.\n",
      "Public Cluster với Private Node Group: Các node trong nodegroup không có địa chỉ IP\n",
      "Public riêng, không thể kết nối trực tiếp đến ControlPlane. Để các node trong nodegroup\n",
      "có thể kết nối đến ControlPlane, bạn cần sử dụng một NAT Gateway (NATGW). NATGW\n",
      "hoạt động như một trạm chuyển tiếp, cho phép các node kết nối với ControlPlane mà\n",
      "không cần IP Public. VNGCloud khuyến nghị sử dụng Pfsense hoặc Palo Alto như một\n",
      "NATGW cho Cluster của bạn.\n",
      "Private Cluster với Public Node Group: Các node trong nodegroup có địa chỉ IP Public\n",
      "riêng, kết đến nối ControlPlane thông qua IP Private của Kubernetes API Server. Điều này\n",
      "giúp giảm rủi ro bảo mật.\n",
      "Private Cluster với Private Node Group: Các node trong nodegroup không có địa chỉ IP\n",
      "Public riêng, mọi kết nối đến Kubernetes API server đều thông qua IP Private. Điều này\n",
      "giúp tăng cường bảo mật cho cụm Kubernetes của bạn.\n",
      "3.1. So sánh public cluster và private cluster\n",
      "Dưới đây là bảng so sánh giữa việc tạo và sử dụng Public Cluster và Private Cluster trên hệ\n",
      "thống VKS:\n",
      "Kết nối:\n",
      "Public cluster: Sử dụng địa chỉ Public IP để giao tiếp giữa nodes và control plane,\n",
      "giữa client và control plane, giữa nodes và các dịch vụ khác trong VNG Cloud.\n",
      "Private cluster: Sử dụng địa chỉ Private IP để giao tiếp giữa nodes và control plane,\n",
      "giữa client và control plane, giữa nodes và các dịch vụ khác trong VNG Cloud.\n",
      "Bảo mật:\n",
      "Public cluster: Bảo mật trung bình do các kết nối sử dụng Public IP.\n",
      "Private cluster: Bảo mật cao hơn với tất cả kết nối đều private và giới hạn truy cập.\n",
      "Quản lý truy cập:\n",
      "\n",
      "\n",
      "Context 2:\n",
      "VPC Native Routing tích hợp chặt chẽ với VPC của VNG Cloud, giúp tối ưu hiệu suất và\n",
      "bảo mật cho ứng dụng của bạn. Chi tiết tham khảo thêm tại đây.\n",
      "Cải tiến:\n",
      "Multiple Subnet cho Cluster trên VKS: VKS giờ đây hỗ trợ sử dụng nhiều subnet cho một\n",
      "cluster. Điều này cho phép bạn cấu hình từng node group trong cluster nằm ở các subnet\n",
      "khác nhau trong cùng một VPC, tối ưu hóa việc phân bổ tài nguyên và quản lý mạng.\n",
      "Chỉnh sửa Labels/Taints trên cụm VKS hiện có: Với khả năng chỉnh sửa trực tiếp\n",
      "Labels/Taints trên cụm VKS đã triển khai, bạn có thể điều khiển việc lên lịch Pod, áp dụng\n",
      "các chính sách khác nhau cho các Node Group, và tùy chỉnh quy tắc lựa chọn node cho\n",
      "các ứng dụng. Điều này giúp quản lý và phân loại tài nguyên hiệu quả hơn.\n",
      "Enable/Disable lựa chọn sử dụng Private Service Endpoint: Trước đây, khi tạo private\n",
      "cluster trên VKS, việc tạo private service endpoint là bắt buộc. Giờ đây, bạn có thể dễ\n",
      "dàng bật/tắt tính năng này, cho phép các dịch vụ trong cụm VKS giao tiếp qua địa chỉ IP\n",
      "nội bộ, tăng cường bảo mật và giảm thiểu rủi ro tấn công từ bên ngoài.\n",
      "Enable/Disable lựa chọn mã hóa Volume: Tính năng mã hóa Volume cho phép bạn bảo vệ\n",
      "dữ liệu nhạy cảm được lưu trữ trong các Persistent Volume của cụm VKS. Việc này đảm\n",
      "bảo an toàn dữ liệu và tuân thủ các quy định về bảo vệ thông tin. Giờ đây, bạn có thể\n",
      "bật/tắt tính năng mã hóa cho từng Volume theo nhu cầu.\n",
      "Ngày 28 tháng 8 năm 2024\n",
      "VKS (VNGCloud Kubernetes Service) giới thiệu bản cập nhật mới nhất cho VKS đã có sẵn,\n",
      "mang đến nhiều tính năng mới cho người dùng. Dưới đây là chi tiết về bản cập nhật:\n",
      "Tính năng mới:\n",
      "Private Cluster: Trước đây, các public cluster trên VKS đang sử dụng địa chỉ Public IP để\n",
      "giao tiếp giữa nodes và control plane. Để nâng cao bảo mật cho cluster của bạn, chúng tôi\n",
      "đã cho ra mắt mô hình private cluster. Tính năng Private Cluster giúp cho cụm K8S của bạn\n",
      "được bảo mật nhất có thể, mọi kết nối hoàn toàn là private từ kết nối giữa nodes tới\n",
      "control plane, kết nối từ client tới control plane, hay kết nối từ nodes tới các sản phẩm\n",
      "dịch vụ khác trong VNG Cloud như: vStorage, vCR, vMonitor, VNGCloud APIs,...Private\n",
      "Cluster là lựa chọn lý tưởng cho các dịch vụ yêu cầu kiểm soát truy cập chặt chẽ, đảm\n",
      "bảo tuân thủ các quy định về bảo mật và quyền riêng tư dữ liệu.\n",
      "Ngày 26 tháng 8 năm 2024\n",
      "VKS (VNGCloud Kubernetes Service) giới thiệu bản cập nhật mới nhất cho VKS đã có sẵn,\n",
      "mang đến nhiều cải tiến mới cho người dùng. Dưới đây là chi tiết về bản cập nhật:\n",
      "Cải tiến:\n",
      "Kubernetes Version: VKS đã bổ sung các image mới nhằm tối ưu hóa size, feature,\n",
      "network,...so với các image cũ. Việc xây dựng các image này cũng nhằm phục vụ cho cả\n",
      "hai loại cluster là Public và Private mà VKS sắp ra mắt. Cụ thể, trong bản phát hành này,\n",
      "chúng tôi đã bổ sung thêm các image sau:\n",
      "\n",
      "\n",
      "Context 3:\n",
      "1.2. Những điểm nổi bật của VKS\n",
      "Những điểm nổi bật của dịch vụ VKS có thể kể đến gồm:\n",
      "Quản lý Control Plane hoàn toàn tự động (Fully Managed control plane): VKS sẽ giải phóng\n",
      "bạn khỏi gánh nặng quản lý Control Plane của Kubernetes, giúp bạn tập trung vào việc phát\n",
      "triển ứng dụng.\n",
      "Hỗ trợ các phiên bản Kubernetes mới nhất: VKS luôn cập nhật những phiên bản Kubernetes\n",
      "mới nhất (minor version từ 1.27, 1.28, 1.29) để đảm bảo bạn luôn tận dụng được những tính\n",
      "năng tiên tiến nhất.\n",
      "Kubernetes Networking: VKS tích hợp Calico CNI, mang lại tính hiệu quả và bảo mật cao.\n",
      "Upgrade seamlessly: VKS hỗ trợ nâng cấp giữa các phiên bản Kubernetes một cách dễ dàng\n",
      "và nhanh chóng, giúp bạn luôn cập nhật những cải tiến mới nhất.\n",
      "Scaling & Healing Automatically: VKS tự động mở rộng Node group khi cần thiết và tự động\n",
      "sửa lỗi khi node gặp vấn đề, giúp bạn tiết kiệm thời gian và công sức quản lý.\n",
      "\n",
      "\n",
      "Context 4:\n",
      "1. Giới thiệu về VNGCloud Kubernetes\n",
      "Service - VKS\n",
      "1.1. VNGCloud Kubernetes Service (VKS) là gì?\n",
      "VNGCloud Kubernetes Service (hay còn gọi là VKS) là một dịch vụ quản lý Kubernetes được cung\n",
      "cấp bởi VNGCloud. VKS giúp bạn triển khai và quản lý các ứng dụng dựa trên container một cách\n",
      "dễ dàng và hiệu quả. VKS giúp bạn tập trung vào việc phát triển ứng dụng mà không cần quan tâm\n",
      "đến việc quản lý Control Plane của Kubernetes.\n",
      "VKS (VNGCloud Kubernetes Service) là một dịch vụ được quản lý trên VNGCloud giúp bạn đơn\n",
      "giản hóa quá trình triển khai và quản lý các ứng dụng dựa trên container. Kubernetes là một nền\n",
      "tảng mã nguồn mở được phát triển bởi Google, được sử dụng rộng rãi để quản lý và triển khai các\n",
      "ứng dụng container trên môi trường phân tán.\n",
      "\n",
      "\n",
      "Context 5:\n",
      "Public cluster: Khó kiểm soát hơn, có thể quản lý truy cập thông qua tính năng\n",
      "Whitelist.\n",
      "Private cluster: Kiểm soát truy cập chặt chẽ, mọi kết nối đều nằm trong mạng private\n",
      "của VNG Cloud, từ đó giảm thiểu nguy cơ từ các cuộc tấn công mạng từ bên ngoài.\n",
      "Khả năng mở rộng (AutoScaling):\n",
      "Public cluster: Dễ dàng mở rộng thông qua tính năng Auto Scaling.\n",
      "Private cluster: Dễ dàng mở rộng thông qua tính năng Auto Scaling.\n",
      "Khả năng tự hồi phục (AutoHealing):\n",
      "Public cluster: Tự động phát hiện lỗi và khởi động lại node (Auto Healing)\n",
      "Private cluster: Tự động phát hiện lỗi và khởi động lại node (Auto Healing)\n",
      "Khả năng truy cập từ bên ngoài:\n",
      "Public cluster: Dễ dàng truy cập từ bất kỳ đâu với\n",
      "Private cluster: Truy cập từ bên ngoài phải qua các giải pháp bảo mật khác.\n",
      "Cấu hình và triển khai:\n",
      "Public cluster: Đơn giản hơn do không yêu cầu thiết lập mạng nội bộ.\n",
      "Private cluster: Phức tạp hơn, yêu cầu cấu hình mạng private và bảo mật.\n",
      "Chi phí:\n",
      "Public cluster: Thường thấp hơn do không cần thiết lập cơ sở hạ tầng bảo mật phức\n",
      "tạp.\n",
      "Private cluster: Chi phí cao hơn do yêu cầu thêm các thành phần bảo mật và quản lý.\n",
      "Cụ thể, khi sử dụng private cluster, bạn cần chi trả chi phí cho 4 private service\n",
      "endpoint được tạo tự động để kết nối tới các dịch vụ trên VNGCloud.\n",
      "Tính linh hoạt:\n",
      "Public cluster: Cao, dễ dàng thay đổi và truy cập các dịch vụ.\n",
      "Private cluster: Linh hoạt hơn trong các ứng dụng yêu cầu bảo mật, nhưng ít linh hoạt\n",
      "hơn cho các ứng dụng yêu cầu truy cập từ bên ngoài.\n",
      "Kết luận:\n",
      "Public Cluster: Phù hợp cho các ứng dụng không yêu cầu bảo mật cao và cần sự linh\n",
      "hoạt, truy cập từ nhiều địa điểm. Dễ dàng triển khai và quản lý nhưng có rủi ro bảo mật\n",
      "cao hơn.\n",
      "Private Cluster: Phù hợp cho các ứng dụng yêu cầu bảo mật cao, tuân thủ nghiêm ngặt\n",
      "các quy định về bảo mật và quyền riêng tư. Mang lại kết nối ổn định và bảo mật, nhưng\n",
      "yêu cầu cấu hình và quản lý phức tạp hơn, cũng như chi phí cao hơn.\n",
      "\n",
      "\n"
     ]
    }
   ],
   "source": [
    "test_query = \"So sánh các loại cluster VKS?\"\n",
    "context = retriever.retrieve(test_query)\n",
    "show_context(context)"
   ]
  },
  {
   "cell_type": "markdown",
   "metadata": {},
   "source": [
    "## Let's see how well does it perform:\n"
   ]
  },
  {
   "cell_type": "code",
   "execution_count": null,
   "metadata": {},
   "outputs": [
    {
     "name": "stderr",
     "output_type": "stream",
     "text": [
      "/home/stackops/.local/lib/python3.10/site-packages/deepeval/__init__.py:53: UserWarning: You are using deepeval version 2.3.7, however version 2.4.1 is available. You should consider upgrading via the \"pip install --upgrade deepeval\" command.\n",
      "  warnings.warn(\n"
     ]
    },
    {
     "ename": "ModuleNotFoundError",
     "evalue": "No module named 'evaluation'",
     "output_type": "error",
     "traceback": [
      "\u001b[0;31m---------------------------------------------------------------------------\u001b[0m",
      "\u001b[0;31mModuleNotFoundError\u001b[0m                       Traceback (most recent call last)",
      "Cell \u001b[0;32mIn[16], line 5\u001b[0m\n\u001b[1;32m      3\u001b[0m \u001b[38;5;28;01mfrom\u001b[39;00m\u001b[38;5;250m \u001b[39m\u001b[38;5;21;01mdeepeval\u001b[39;00m\u001b[38;5;21;01m.\u001b[39;00m\u001b[38;5;21;01mmetrics\u001b[39;00m\u001b[38;5;250m \u001b[39m\u001b[38;5;28;01mimport\u001b[39;00m GEval, FaithfulnessMetric, ContextualRelevancyMetric\n\u001b[1;32m      4\u001b[0m \u001b[38;5;28;01mfrom\u001b[39;00m\u001b[38;5;250m \u001b[39m\u001b[38;5;21;01mdeepeval\u001b[39;00m\u001b[38;5;21;01m.\u001b[39;00m\u001b[38;5;21;01mtest_case\u001b[39;00m\u001b[38;5;250m \u001b[39m\u001b[38;5;28;01mimport\u001b[39;00m LLMTestCaseParams\n\u001b[0;32m----> 5\u001b[0m \u001b[38;5;28;01mfrom\u001b[39;00m\u001b[38;5;250m \u001b[39m\u001b[38;5;21;01mevaluation\u001b[39;00m\u001b[38;5;21;01m.\u001b[39;00m\u001b[38;5;21;01mevalute_rag\u001b[39;00m\u001b[38;5;250m \u001b[39m\u001b[38;5;28;01mimport\u001b[39;00m create_deep_eval_test_cases\n",
      "\u001b[0;31mModuleNotFoundError\u001b[0m: No module named 'evaluation'"
     ]
    }
   ],
   "source": [
    "import json\n",
    "from deepeval import evaluate\n",
    "from deepeval.metrics import GEval, FaithfulnessMetric, ContextualRelevancyMetric\n",
    "from deepeval.test_case import LLMTestCaseParams\n",
    "from evalute_rag import create_deep_eval_test_cases"
   ]
  },
  {
   "cell_type": "code",
   "execution_count": null,
   "metadata": {},
   "outputs": [],
   "source": []
  }
 ],
 "metadata": {
  "kernelspec": {
   "display_name": "Python 3",
   "language": "python",
   "name": "python3"
  },
  "language_info": {
   "codemirror_mode": {
    "name": "ipython",
    "version": 3
   },
   "file_extension": ".py",
   "mimetype": "text/x-python",
   "name": "python",
   "nbconvert_exporter": "python",
   "pygments_lexer": "ipython3",
   "version": "3.10.12"
  }
 },
 "nbformat": 4,
 "nbformat_minor": 2
}
