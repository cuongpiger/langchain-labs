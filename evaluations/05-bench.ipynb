{
 "cells": [
  {
   "cell_type": "code",
   "execution_count": 3,
   "metadata": {},
   "outputs": [
    {
     "name": "stdout",
     "output_type": "stream",
     "text": [
      "The autoreload extension is already loaded. To reload it, use:\n",
      "  %reload_ext autoreload\n"
     ]
    }
   ],
   "source": [
    "%load_ext autoreload\n",
    "%autoreload 2"
   ]
  },
  {
   "cell_type": "code",
   "execution_count": 4,
   "metadata": {},
   "outputs": [
    {
     "name": "stderr",
     "output_type": "stream",
     "text": [
      "4it [00:00, 23596.65it/s]            \n"
     ]
    },
    {
     "data": {
      "text/plain": [
       "TestRun(name='quickstart_run2', test_cases=[TestCaseOutput(id=UUID('ed80a143-d7fc-43db-af26-3fd55a8af5d0'), output='1932', score=1.0, score_result=ScoreResult(score=1.0, category=Category(name='match', description='model output matches reference output'))), TestCaseOutput(id=UUID('4b860b66-cf42-4471-b4f0-c0ee828aba5b'), output='up is the opposite of down', score=0.0, score_result=ScoreResult(score=0.0, category=Category(name='non match', description='model output is different from reference output')))], description=None, model_name=None, foundation_model=None, prompt_template=None, model_version=None, test_suite_id=UUID('a7359879-d973-449d-a223-f16e5811ed5b'), client=<arthur_bench.client.local.client.LocalBenchClient object at 0x7f5288311180>, id=UUID('40329430-1e9c-4e5d-b69f-fe1fdf7cb78f'))"
      ]
     },
     "execution_count": 4,
     "metadata": {},
     "output_type": "execute_result"
    }
   ],
   "source": [
    "from arthur_bench.run.testsuite import TestSuite\n",
    "suite = TestSuite(\n",
    "    \"bench_quickstart\",\n",
    "    \"bertscore\",\n",
    "    input_text_list=[\"What year was FDR elected?\", \"What is the opposite of down?\"],\n",
    "    reference_output_list=[\"1932\", \"up\"]\n",
    ")\n",
    "suite.run(\"quickstart_run2\", candidate_output_list=[\"1932\", \"up is the opposite of down\"])"
   ]
  },
  {
   "cell_type": "code",
   "execution_count": 7,
   "metadata": {},
   "outputs": [
    {
     "name": "stderr",
     "output_type": "stream",
     "text": [
      "4it [00:00, 34663.67it/s]            "
     ]
    },
    {
     "name": "stdout",
     "output_type": "stream",
     "text": [
      "name='quickstart_run3' test_cases=[TestCaseOutput(id=UUID('ed80a143-d7fc-43db-af26-3fd55a8af5d0'), output='1932', score=1.0, score_result=ScoreResult(score=1.0, category=Category(name='match', description='model output matches reference output'))), TestCaseOutput(id=UUID('4b860b66-cf42-4471-b4f0-c0ee828aba5b'), output='up is the opposite of down', score=0.0, score_result=ScoreResult(score=0.0, category=Category(name='non match', description='model output is different from reference output')))] description=None model_name=None foundation_model=None prompt_template=None model_version=None test_suite_id=UUID('a7359879-d973-449d-a223-f16e5811ed5b') client=<arthur_bench.client.local.client.LocalBenchClient object at 0x7f5288311180> id=UUID('3924f326-6bb0-4edb-8018-58c401d03e6e')\n"
     ]
    },
    {
     "name": "stderr",
     "output_type": "stream",
     "text": [
      "\n"
     ]
    }
   ],
   "source": [
    "run = suite.run('quickstart_run3', candidate_output_list=[\"1932\", \"up is the opposite of down\"])\n",
    "print(run)"
   ]
  },
  {
   "cell_type": "code",
   "execution_count": null,
   "metadata": {},
   "outputs": [],
   "source": []
  }
 ],
 "metadata": {
  "kernelspec": {
   "display_name": "Python 3",
   "language": "python",
   "name": "python3"
  },
  "language_info": {
   "codemirror_mode": {
    "name": "ipython",
    "version": 3
   },
   "file_extension": ".py",
   "mimetype": "text/x-python",
   "name": "python",
   "nbconvert_exporter": "python",
   "pygments_lexer": "ipython3",
   "version": "3.10.12"
  }
 },
 "nbformat": 4,
 "nbformat_minor": 2
}
